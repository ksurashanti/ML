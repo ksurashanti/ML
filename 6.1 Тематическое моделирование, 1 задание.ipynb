{
 "cells": [
  {
   "cell_type": "markdown",
   "id": "2bc7d834",
   "metadata": {},
   "source": [
    "# Задание: Классифицировать по тональности отзывы на банки с сайта banki.ru\n",
    "Данные содержат непосредственно тексты отзывов, некоторую дополнительную информацию, а также оценку по шкале от 1 до 5"
   ]
  },
  {
   "cell_type": "code",
   "execution_count": 1,
   "id": "70f7333c",
   "metadata": {},
   "outputs": [],
   "source": [
    "import json\n",
    "\n",
    "import bz2\n",
    "import regex\n",
    "from tqdm import tqdm\n",
    "from scipy import sparse"
   ]
  },
  {
   "cell_type": "code",
   "execution_count": 3,
   "id": "cc0d4c54",
   "metadata": {},
   "outputs": [
    {
     "name": "stdout",
     "output_type": "stream",
     "text": [
      "%pylab is deprecated, use %matplotlib inline and import the required libraries.\n",
      "Populating the interactive namespace from numpy and matplotlib\n"
     ]
    }
   ],
   "source": [
    "import pandas as pd\n",
    "import numpy as np\n",
    "import nltk\n",
    "import matplotlib.pyplot as plt\n",
    "import seaborn as sns\n",
    "%matplotlib inline\n",
    "%pylab inline"
   ]
  },
  {
   "cell_type": "code",
   "execution_count": 4,
   "id": "0b2a68ae",
   "metadata": {},
   "outputs": [
    {
     "name": "stderr",
     "output_type": "stream",
     "text": [
      "201030it [00:57, 3518.36it/s]\n"
     ]
    }
   ],
   "source": [
    "responses = []\n",
    "with bz2.BZ2File('banki_responses.json.bz2', 'r') as thefile:\n",
    "    for row in tqdm(thefile):\n",
    "        resp = json.loads(row)\n",
    "        if not resp['rating_not_checked'] and (len(resp['text'].split()) > 0):\n",
    "            responses.append(resp)"
   ]
  },
  {
   "cell_type": "markdown",
   "id": "ad3af6df",
   "metadata": {},
   "source": [
    "## 1. Анализ текста"
   ]
  },
  {
   "cell_type": "markdown",
   "id": "dd836120",
   "metadata": {},
   "source": [
    "### 1.1. Посчитайте количество отзывов в разных городах и на разные банки"
   ]
  },
  {
   "cell_type": "markdown",
   "id": "70c9109f",
   "metadata": {},
   "source": [
    "Разбираемся в структуре даннных:"
   ]
  },
  {
   "cell_type": "code",
   "execution_count": 6,
   "id": "600950cd",
   "metadata": {},
   "outputs": [
    {
     "data": {
      "text/plain": [
       "{'city': 'г. Москва',\n",
       " 'rating_not_checked': False,\n",
       " 'title': 'Жалоба',\n",
       " 'num_comments': 0,\n",
       " 'bank_license': 'лицензия № 2562',\n",
       " 'author': 'uhnov1',\n",
       " 'bank_name': 'Бинбанк',\n",
       " 'datetime': '2015-06-08 12:50:54',\n",
       " 'text': 'Добрый день! Я не являюсь клиентом банка и поручителем по кредитному договору, а также не являюсь каким-либо другим лицом, письменно  оформившим отношения с банком по поводу урегулирования чьей-либо  задолженности.  Начиная с марта 2015 года начали приходить бесконечные письма из ООО \"Примо коллект\"на мой адрес: город Москва, Уваровский переулок, дом 10, квартира 111, с угрозами о возбуждении уголовного дела в отношении гражданина Филиппова Эдуарда Владимировича, который уклоняется от уплаты взятых им кредитов: договор № 81014 от 20.10.2013 года и договор № 2464946 от 09.10.2014 года. Со всей ответственностью\\xa0 хочу Вас заверить, что вышеуказанный гражданин, которого Вы разыскиваете, мне не знаком и никогда в моем адресе не был зарегистрирован. Каким образом Вы не удостоверившись в подлинности его документов оформили на его имя кредитный договор, мне по меньшей мере не понятно,\\xa0 и почему по Вашей милости я должна переживать и бояться за себе и свое имущество. Письма доставляют мне серьезные неудобства, нарушают мои гражданские права, а также нарушают закон о защите персональных данных. Убедительно прошу прекратить посылать на мой адрес письма с угрозами по вопросам, к которым я не имею отношения. В случае отклонения моей претензии буду вынуждена обратиться с жалобами в  другие органы: Росспотребнадзор, Центральный банк, Службу Финансового  омбудсмена. Кроме этого будет подано заявление в полицию и заявление в  суд возмещение причиненного мне морального вреда. Надеюсь на скорое решение моего вопроса.',\n",
       " 'rating_grade': None}"
      ]
     },
     "execution_count": 6,
     "metadata": {},
     "output_type": "execute_result"
    }
   ],
   "source": [
    "responses[0]"
   ]
  },
  {
   "cell_type": "code",
   "execution_count": 7,
   "id": "2b26513d",
   "metadata": {},
   "outputs": [
    {
     "data": {
      "text/plain": [
       "'г. Москва'"
      ]
     },
     "execution_count": 7,
     "metadata": {},
     "output_type": "execute_result"
    }
   ],
   "source": [
    "responses[0].get('city')"
   ]
  },
  {
   "cell_type": "code",
   "execution_count": 8,
   "id": "5281d52c",
   "metadata": {},
   "outputs": [
    {
     "data": {
      "text/plain": [
       "153499"
      ]
     },
     "execution_count": 8,
     "metadata": {},
     "output_type": "execute_result"
    }
   ],
   "source": [
    "len(responses) #всего отзывов"
   ]
  },
  {
   "cell_type": "code",
   "execution_count": 13,
   "id": "42008cf3",
   "metadata": {},
   "outputs": [],
   "source": [
    "cities = [] #в один блок не получалось прогнать, на память ругался\n",
    "for i in responses[0:100000]:\n",
    "    cities.append(i.get('city'))"
   ]
  },
  {
   "cell_type": "code",
   "execution_count": 15,
   "id": "ba942b53",
   "metadata": {},
   "outputs": [
    {
     "name": "stdout",
     "output_type": "stream",
     "text": [
      "153499\n"
     ]
    }
   ],
   "source": [
    "for i in responses[100000:153499]:\n",
    "    cities.append(i.get('city'))\n",
    "print(len(cities))"
   ]
  },
  {
   "cell_type": "code",
   "execution_count": 17,
   "id": "926c03c5",
   "metadata": {},
   "outputs": [
    {
     "data": {
      "text/plain": [
       "['г. Москва',\n",
       " 'г. Новосибирск',\n",
       " 'г. Москва',\n",
       " 'г. Ставрополь',\n",
       " 'г. Челябинск',\n",
       " 'г. Москва',\n",
       " 'г. Волгоград',\n",
       " 'г. Москва',\n",
       " 'г. Пермь',\n",
       " 'г. Ростов-на-Дону']"
      ]
     },
     "execution_count": 17,
     "metadata": {},
     "output_type": "execute_result"
    }
   ],
   "source": [
    "cities[0:10]"
   ]
  },
  {
   "cell_type": "code",
   "execution_count": 19,
   "id": "0e065281",
   "metadata": {},
   "outputs": [],
   "source": [
    "num_cities = {}\n",
    "count = 1\n",
    "for i in cities:\n",
    "    if num_cities.get(i, False) is False:\n",
    "        count = 1\n",
    "        num_cities[i] = count # добавляем его и помещает туда список с одним значением\n",
    "    else:  # если такой ключ уже есть\n",
    "        count = num_cities.get(i) \n",
    "        count = count+1\n",
    "        num_cities[i] = count  # добавляем счетчик\n",
    "#print(num_cities)"
   ]
  },
  {
   "cell_type": "code",
   "execution_count": 21,
   "id": "22bf55cf",
   "metadata": {},
   "outputs": [
    {
     "data": {
      "text/plain": [
       "55354"
      ]
     },
     "execution_count": 21,
     "metadata": {},
     "output_type": "execute_result"
    }
   ],
   "source": [
    "num_cities.get('г. Москва')"
   ]
  },
  {
   "cell_type": "code",
   "execution_count": 25,
   "id": "7823455c",
   "metadata": {},
   "outputs": [
    {
     "data": {
      "text/plain": [
       "[('г. Москва', 55354),\n",
       " (None, 15174),\n",
       " ('г. Санкт-Петербург', 14342),\n",
       " ('г. Екатеринбург', 2337),\n",
       " ('г. Новосибирск', 2300),\n",
       " ('г. Нижний Новгород', 1976),\n",
       " ('г. Ростов-на-Дону', 1891),\n",
       " ('г. Самара', 1731),\n",
       " ('г. Челябинск', 1507),\n",
       " ('г. Казань', 1440),\n",
       " ('г. Краснодар', 1262),\n",
       " ('г. Уфа', 1246),\n",
       " ('г. Красноярск', 1236),\n",
       " ('г. москва', 1217),\n",
       " ('г. Воронеж', 1210),\n",
       " ('г. Пермь', 1163),\n",
       " ('г. Волгоград', 1014),\n",
       " ('г. Омск', 989),\n",
       " ('г. Саратов', 933),\n",
       " ('г. Иркутск', 749)]"
      ]
     },
     "execution_count": 25,
     "metadata": {},
     "output_type": "execute_result"
    }
   ],
   "source": [
    "sorted_cities = sorted(num_cities.items(), reverse=True, key=lambda item: item[1])\n",
    "sorted_cities[0:20]"
   ]
  },
  {
   "cell_type": "markdown",
   "id": "d5c7976f",
   "metadata": {},
   "source": [
    "Больше всего отзывов из Москвы (55354), без названия города (15174), и из Санкт-Петербурга. \n",
    "\n",
    "Можно было бы ещё привести всё к нижнему регистру и посчитать так, или проверять вхождение Москва в строку.\n",
    "\n",
    "То же самое для банков:"
   ]
  },
  {
   "cell_type": "code",
   "execution_count": 27,
   "id": "8a0db6bf",
   "metadata": {},
   "outputs": [],
   "source": [
    "banks = [] #в один блок не получалось прогнать, на память ругался\n",
    "for i in responses:\n",
    "    banks.append(i.get('bank_name'))"
   ]
  },
  {
   "cell_type": "code",
   "execution_count": 29,
   "id": "6274441c",
   "metadata": {},
   "outputs": [],
   "source": [
    "num_banks = {}\n",
    "count = 1\n",
    "for i in banks:\n",
    "    if num_banks.get(i, False) is False:\n",
    "        count = 1\n",
    "        num_banks[i] = count # добавляем его и помещает туда список с одним значением\n",
    "    else:  # если такой ключ уже есть\n",
    "        count = num_banks.get(i) \n",
    "        count = count+1\n",
    "        num_banks[i] = count  # добавляем счетчик\n",
    "#print(num_cities)"
   ]
  },
  {
   "cell_type": "code",
   "execution_count": 33,
   "id": "5d3d9bf4",
   "metadata": {},
   "outputs": [
    {
     "data": {
      "text/plain": [
       "[('Сбербанк России', 26327),\n",
       " ('Альфа-Банк', 10224),\n",
       " ('ВТБ 24', 8185),\n",
       " ('Русский Стандарт', 7943),\n",
       " ('Хоум Кредит Банк', 7549),\n",
       " ('Тинькофф Банк', 5387),\n",
       " ('Национальный Банк «Траст»', 4607),\n",
       " ('Ренессанс Кредит', 3849),\n",
       " ('Связной Банк', 3775),\n",
       " ('ОТП Банк', 3237),\n",
       " ('Восточный Экспресс Банк', 3138),\n",
       " ('Райффайзенбанк', 3057),\n",
       " ('Московский Кредитный Банк', 2944),\n",
       " ('Ситибанк', 2848),\n",
       " ('Авангард', 2733),\n",
       " ('Промсвязьбанк', 2586),\n",
       " ('ЮниКредит Банк', 2488),\n",
       " ('Банк Москвы', 2456),\n",
       " ('Ханты-Мансийский банк Открытие', 2158),\n",
       " ('МТС Банк', 1870)]"
      ]
     },
     "execution_count": 33,
     "metadata": {},
     "output_type": "execute_result"
    }
   ],
   "source": [
    "sorted_banks = sorted(num_banks.items(), reverse=True, key=lambda item: item[1])\n",
    "sorted_banks[0:20]"
   ]
  },
  {
   "cell_type": "markdown",
   "id": "f79cf740",
   "metadata": {},
   "source": [
    "Больше всего отзывов на Сбербанк (26327) и Альфа-Банк (10224). Видимо банки пользователи выбирают из списка, так как нет опечаток и разных написаний одного и того же банка."
   ]
  },
  {
   "cell_type": "markdown",
   "id": "86347e69",
   "metadata": {},
   "source": [
    "### 1.2. Постройте гистограмы длин слов в символах и в словах"
   ]
  },
  {
   "cell_type": "markdown",
   "id": "d52c8dde",
   "metadata": {},
   "source": [
    "##### Посчитаем количество символов в словах."
   ]
  },
  {
   "cell_type": "markdown",
   "id": "8d17c362-3630-41f6-bbab-acdbd4279636",
   "metadata": {},
   "source": [
    "Сначала для одного текста:"
   ]
  },
  {
   "cell_type": "code",
   "execution_count": 7,
   "id": "de0b8a4d",
   "metadata": {},
   "outputs": [
    {
     "data": {
      "text/plain": [
       "'Добрый день! Я не являюсь клиентом банка и поручителем по кредитному договору, а также не являюсь каким-либо другим лицом, письменно  оформившим отношения с банком по поводу урегулирования чьей-либо  задолженности.  Начиная с марта 2015 года начали приходить бесконечные письма из ООО \"Примо коллект\"на мой адрес: город Москва, Уваровский переулок, дом 10, квартира 111, с угрозами о возбуждении уголовного дела в отношении гражданина Филиппова Эдуарда Владимировича, который уклоняется от уплаты взятых им кредитов: договор № 81014 от 20.10.2013 года и договор № 2464946 от 09.10.2014 года. Со всей ответственностью\\xa0 хочу Вас заверить, что вышеуказанный гражданин, которого Вы разыскиваете, мне не знаком и никогда в моем адресе не был зарегистрирован. Каким образом Вы не удостоверившись в подлинности его документов оформили на его имя кредитный договор, мне по меньшей мере не понятно,\\xa0 и почему по Вашей милости я должна переживать и бояться за себе и свое имущество. Письма доставляют мне серьезные неудобства, нарушают мои гражданские права, а также нарушают закон о защите персональных данных. Убедительно прошу прекратить посылать на мой адрес письма с угрозами по вопросам, к которым я не имею отношения. В случае отклонения моей претензии буду вынуждена обратиться с жалобами в  другие органы: Росспотребнадзор, Центральный банк, Службу Финансового  омбудсмена. Кроме этого будет подано заявление в полицию и заявление в  суд возмещение причиненного мне морального вреда. Надеюсь на скорое решение моего вопроса.'"
      ]
     },
     "execution_count": 7,
     "metadata": {},
     "output_type": "execute_result"
    }
   ],
   "source": [
    "responses[0].get('text') "
   ]
  },
  {
   "cell_type": "code",
   "execution_count": 9,
   "id": "7f73ba65",
   "metadata": {
    "scrolled": true
   },
   "outputs": [],
   "source": [
    "lst = responses[0].get('text').replace('.', '').split() #разделим текст на слова по пробелам"
   ]
  },
  {
   "cell_type": "code",
   "execution_count": 10,
   "id": "ceaa1071",
   "metadata": {},
   "outputs": [],
   "source": [
    "count_words = [] #каждое слово заменяем его длиной\n",
    "for i in lst:\n",
    "    count_words.append(len(i))"
   ]
  },
  {
   "cell_type": "markdown",
   "id": "58d991e6",
   "metadata": {},
   "source": [
    "Гистограмма длин слов для одного текста:"
   ]
  },
  {
   "cell_type": "code",
   "execution_count": 10,
   "id": "753d1d69",
   "metadata": {},
   "outputs": [
    {
     "data": {
      "image/png": "[encoded data removed]",
      "text/plain": [
       "<Figure size 640x480 with 1 Axes>"
      ]
     },
     "metadata": {},
     "output_type": "display_data"
    }
   ],
   "source": [
    "import matplotlib.pyplot as plt\n",
    "\n",
    "# Данные\n",
    "data = count_words\n",
    "\n",
    "# Построение гистограммы\n",
    "plt.hist(data, bins=range(1, 30), edgecolor='black')\n",
    "plt.xlabel('Количество букв в слове')\n",
    "plt.ylabel('Частота')\n",
    "plt.show()"
   ]
  },
  {
   "cell_type": "markdown",
   "id": "d898d7b8",
   "metadata": {},
   "source": [
    "Гистограмма длин слов всех текстов:"
   ]
  },
  {
   "cell_type": "code",
   "execution_count": 11,
   "id": "be7b1112",
   "metadata": {},
   "outputs": [
    {
     "data": {
      "text/plain": [
       "153499"
      ]
     },
     "execution_count": 11,
     "metadata": {},
     "output_type": "execute_result"
    }
   ],
   "source": [
    "texts = [] #слепливаем один список все тексты\n",
    "for i in responses:\n",
    "    texts.append(i.get('text'))\n",
    "len(texts)"
   ]
  },
  {
   "cell_type": "code",
   "execution_count": 15,
   "id": "eace7737",
   "metadata": {},
   "outputs": [
    {
     "data": {
      "text/plain": [
       "'Добрый день! Я не являюсь клиентом банка и поручителем по кредитному договору, а также не являюсь каким-либо другим лицом, письменно  оформившим отношения с банком по поводу урегулирования чьей-либо  задолженности.  Начиная с марта 2015 года начали приходить бесконечные письма из ООО \"Примо коллект\"на мой адрес: город Москва, Уваровский переулок, дом 10, квартира 111, с угрозами о возбуждении уголовного дела в отношении гражданина Филиппова Эдуарда Владимировича, который уклоняется от уплаты взятых им кредитов: договор № 81014 от 20.10.2013 года и договор № 2464946 от 09.10.2014 года. Со всей ответственностью\\xa0 хочу Вас заверить, что вышеуказанный гражданин, которого Вы разыскиваете, мне не знаком и никогда в моем адресе не был зарегистрирован. Каким образом Вы не удостоверившись в подлинности его документов оформили на его имя кредитный договор, мне по меньшей мере не понятно,\\xa0 и почему по Вашей милости я должна переживать и бояться за себе и свое имущество. Письма доставляют мне серьезные неудобства, нарушают мои гражданские права, а также нарушают закон о защите персональных данных. Убедительно прошу прекратить посылать на мой адрес письма с угрозами по вопросам, к которым я не имею отношения. В случае отклонения моей претензии буду вынуждена обратиться с жалобами в  другие органы: Росспотребнадзор, Центральный банк, Службу Финансового  омбудсмена. Кроме этого будет подано заявление в полицию и заявление в  суд возмещение причиненного мне морального вреда. Надеюсь на скорое решение моего вопроса.'"
      ]
     },
     "execution_count": 15,
     "metadata": {},
     "output_type": "execute_result"
    }
   ],
   "source": [
    "texts[0]"
   ]
  },
  {
   "cell_type": "code",
   "execution_count": 12,
   "id": "4a66b5f3",
   "metadata": {},
   "outputs": [
    {
     "data": {
      "text/plain": [
       "'Добрый день Я не являюсь клиентом банка и поручителем по кредитному договору а также не являюсь какимлибо другим лицом письменно  оформившим отношения с банком по поводу урегулирования чьейлибо  задолженности  Начиная с марта  года начали приходить бесконечные письма из ООО Примо коллектна мой адрес город Москва Уваровский переулок дом  квартира  с угрозами о возбуждении уголовного дела в отношении гражданина Филиппова Эдуарда Владимировича который уклоняется от уплаты взятых им кредитов договор   от  года и договор   от  года Со всей ответственностью хочу Вас заверить что вышеуказанный гражданин которого Вы разыскиваете мне не знаком и никогда в моем адресе не был зарегистрирован Каким образом Вы не удостоверившись в подлинности его документов оформили на его имя кредитный договор мне по меньшей мере не понятно и почему по Вашей милости я должна переживать и бояться за себе и свое имущество Письма доставляют мне серьезные неудобства нарушают мои гражданские права а также нарушают закон о защите персональных данных Убедительно прошу прекратить посылать на мой адрес письма с угрозами по вопросам к которым я не имею отношения В случае отклонения моей претензии буду вынуждена обратиться с жалобами в  другие органы Росспотребнадзор Центральный банк Службу Финансового  омбудсмена Кроме этого будет подано заявление в полицию и заявление в  суд возмещение причиненного мне морального вреда Надеюсь на скорое решение моего вопроса'"
      ]
     },
     "execution_count": 12,
     "metadata": {},
     "output_type": "execute_result"
    }
   ],
   "source": [
    "import re\n",
    "clean_texts_test = re.sub(r'[^a-zA-Zа-яА-ЯеЁ ]', '', texts[0])\n",
    "clean_texts_test"
   ]
  },
  {
   "cell_type": "code",
   "execution_count": 13,
   "id": "10243c11",
   "metadata": {},
   "outputs": [],
   "source": [
    "giga_text = ' '.join(texts) #слепливаем в один гига текст все элементы списка"
   ]
  },
  {
   "cell_type": "code",
   "execution_count": 55,
   "id": "87151c54",
   "metadata": {},
   "outputs": [
    {
     "data": {
      "text/plain": [
       "238723607"
      ]
     },
     "execution_count": 55,
     "metadata": {},
     "output_type": "execute_result"
    }
   ],
   "source": [
    "len(giga_text) #количество символов в тексте"
   ]
  },
  {
   "cell_type": "code",
   "execution_count": 57,
   "id": "18a32682",
   "metadata": {},
   "outputs": [],
   "source": [
    "import re #почистим текст, избавимся от всего кроме букв\n",
    "clean_texts = re.sub(r'[^a-zA-Zа-яА-ЯеЁ ]', '', giga_text)"
   ]
  },
  {
   "cell_type": "code",
   "execution_count": 161,
   "id": "59763582",
   "metadata": {},
   "outputs": [
    {
     "data": {
      "text/plain": [
       "225648783"
      ]
     },
     "execution_count": 161,
     "metadata": {},
     "output_type": "execute_result"
    }
   ],
   "source": [
    "len(clean_texts)"
   ]
  },
  {
   "cell_type": "code",
   "execution_count": 163,
   "id": "6c96efb0",
   "metadata": {},
   "outputs": [],
   "source": [
    "lst = clean_texts.replace('.', '').split() #разделяем текст на список по пробелам"
   ]
  },
  {
   "cell_type": "code",
   "execution_count": 165,
   "id": "bd6d4c3b-78ba-4443-8c65-e7ae47558f85",
   "metadata": {},
   "outputs": [
    {
     "data": {
      "text/plain": [
       "35020379"
      ]
     },
     "execution_count": 165,
     "metadata": {},
     "output_type": "execute_result"
    }
   ],
   "source": [
    "len(lst)"
   ]
  },
  {
   "cell_type": "code",
   "execution_count": 167,
   "id": "69b260cb",
   "metadata": {},
   "outputs": [],
   "source": [
    "count_words = [] #каждое слово заменяем его длиной\n",
    "for i in lst:\n",
    "    count_words.append(len(i))"
   ]
  },
  {
   "cell_type": "code",
   "execution_count": 169,
   "id": "652918a1-014a-4476-a76e-4e2faac17034",
   "metadata": {},
   "outputs": [
    {
     "data": {
      "text/plain": [
       "35020379"
      ]
     },
     "execution_count": 169,
     "metadata": {},
     "output_type": "execute_result"
    }
   ],
   "source": [
    "len(count_words)"
   ]
  },
  {
   "cell_type": "code",
   "execution_count": 171,
   "id": "8f99015e",
   "metadata": {},
   "outputs": [
    {
     "data": {
      "image/png": "[encoded data removed]",
      "text/plain": [
       "<Figure size 640x480 with 1 Axes>"
      ]
     },
     "metadata": {},
     "output_type": "display_data"
    }
   ],
   "source": [
    "import matplotlib.pyplot as plt\n",
    "\n",
    "# Данные\n",
    "data = count_words\n",
    "\n",
    "# Построение гистограммы\n",
    "plt.hist(data, bins=range(1, 30), edgecolor='black')\n",
    "plt.xlabel('Количество букв в слове')\n",
    "plt.ylabel('Частота')\n",
    "plt.show()"
   ]
  },
  {
   "cell_type": "markdown",
   "id": "f0b3daf0",
   "metadata": {},
   "source": [
    "##### Вторую гистограмму построю по количеству слов в одном отзыве:"
   ]
  },
  {
   "cell_type": "code",
   "execution_count": null,
   "id": "6db62ee6",
   "metadata": {},
   "outputs": [],
   "source": [
    "#проходимся циклом по всем отзывам, каждый отзыв делим на слова, затем вместо отзыва целиком записываем число слов в список"
   ]
  },
  {
   "cell_type": "code",
   "execution_count": 94,
   "id": "99eaec19-2e6c-4292-abde-6dc679a9bb01",
   "metadata": {},
   "outputs": [
    {
     "data": {
      "text/plain": [
       "153499"
      ]
     },
     "execution_count": 94,
     "metadata": {},
     "output_type": "execute_result"
    }
   ],
   "source": [
    "texts = [] #слепливаем один список все тексты\n",
    "for i in responses:\n",
    "    texts.append(i.get('text'))\n",
    "len(texts)"
   ]
  },
  {
   "cell_type": "code",
   "execution_count": 102,
   "id": "0b5b3bdb-ff7e-45af-848d-38989f288a25",
   "metadata": {},
   "outputs": [],
   "source": [
    "review_lenght = [] #в texts с прошлой гистограммы уже лежат все тексты отзывов из начального словаря\n",
    "for i in texts:\n",
    "    review_lenght.append(len(i))"
   ]
  },
  {
   "cell_type": "code",
   "execution_count": 106,
   "id": "17fa5fc5-7963-47a0-9202-3e3b5ec8603e",
   "metadata": {},
   "outputs": [
    {
     "data": {
      "text/plain": [
       "153499"
      ]
     },
     "execution_count": 106,
     "metadata": {},
     "output_type": "execute_result"
    }
   ],
   "source": [
    "len(review_lenght)"
   ]
  },
  {
   "cell_type": "code",
   "execution_count": 116,
   "id": "87a470b4-47f2-4613-9855-9e0d263482d8",
   "metadata": {},
   "outputs": [
    {
     "data": {
      "image/png": "[encoded data removed]",
      "text/plain": [
       "<Figure size 640x480 with 1 Axes>"
      ]
     },
     "metadata": {},
     "output_type": "display_data"
    }
   ],
   "source": [
    "# Данные\n",
    "data = review_lenght\n",
    "\n",
    "# Построение гистограммы\n",
    "plt.hist(data, bins=range(1, 15000))\n",
    "plt.xlabel('Количество букв в слове')\n",
    "plt.ylabel('Частота')\n",
    "plt.show()"
   ]
  },
  {
   "cell_type": "markdown",
   "id": "ecb66ddb-16bc-4379-a1c4-9754e921c92d",
   "metadata": {},
   "source": [
    "### 1.3. Найдите 10 самых частых: слов, слов без стоп-слов, лемм, существительных"
   ]
  },
  {
   "cell_type": "markdown",
   "id": "e475442b-2858-4cc2-94b8-17b8c4551cc0",
   "metadata": {},
   "source": [
    "##### Наиболее частые слова"
   ]
  },
  {
   "cell_type": "markdown",
   "id": "c40e8f27-85a9-4e0c-ad23-5d9c6cbdc219",
   "metadata": {},
   "source": [
    "Для одного текста:"
   ]
  },
  {
   "cell_type": "code",
   "execution_count": 11,
   "id": "53adb5e2-1698-46c4-81bd-85ec52aef446",
   "metadata": {},
   "outputs": [],
   "source": [
    "clean_text = re.sub(r'[^a-zA-Zа-яА-ЯеЁ ]', '', responses[0].get('text'))"
   ]
  },
  {
   "cell_type": "code",
   "execution_count": 12,
   "id": "fc268958-996b-4c82-bb09-b1058be8e400",
   "metadata": {},
   "outputs": [
    {
     "data": {
      "text/plain": [
       "['Добрый', 'день', 'Я', 'не', 'являюсь']"
      ]
     },
     "execution_count": 12,
     "metadata": {},
     "output_type": "execute_result"
    }
   ],
   "source": [
    "lst = clean_text.replace('.', '').split() #разделим текст на слова по пробелам\n",
    "lst[0:5]"
   ]
  },
  {
   "cell_type": "code",
   "execution_count": 13,
   "id": "b6bb9110-87f6-42fc-b749-6cfa1b918e3a",
   "metadata": {},
   "outputs": [
    {
     "name": "stdout",
     "output_type": "stream",
     "text": [
      "[('не', 7), ('и', 7), ('в', 6), ('по', 5), ('с', 5), ('мне', 4), ('года', 3), ('от', 3), ('договор', 3), ('на', 3)]\n"
     ]
    }
   ],
   "source": [
    "from collections import Counter\n",
    "\n",
    "my_list = lst\n",
    "most_common_element = Counter(my_list).most_common(10)#[0][0]\n",
    "\n",
    "print(most_common_element)"
   ]
  },
  {
   "cell_type": "markdown",
   "id": "0b297895-bb8d-4c12-81a5-b90784f4cc45",
   "metadata": {},
   "source": [
    "Для всех текстов:"
   ]
  },
  {
   "cell_type": "code",
   "execution_count": 138,
   "id": "18420946-e396-4732-99a2-9dd74b63e5b7",
   "metadata": {},
   "outputs": [],
   "source": [
    "lst = giga_text.replace('.', '').split() #разделяем текст на список по пробелам"
   ]
  },
  {
   "cell_type": "code",
   "execution_count": 143,
   "id": "f948d0bb-163d-41a4-a980-76a770f14085",
   "metadata": {},
   "outputs": [
    {
     "name": "stdout",
     "output_type": "stream",
     "text": [
      "[('в', 1157361), ('и', 966959), ('не', 808432), ('на', 632628), ('что', 587842), ('я', 430225), ('с', 423726), ('по', 333356), ('-', 294105), ('мне', 279398)]\n"
     ]
    }
   ],
   "source": [
    "my_list = lst\n",
    "most_common_element = Counter(my_list).most_common(10)#[0][0]\n",
    "\n",
    "print(most_common_element)"
   ]
  },
  {
   "cell_type": "markdown",
   "id": "94901ad3-9ca5-4b3b-9416-8b448f7bb580",
   "metadata": {},
   "source": [
    "##### Наиболее частые слова без стоп-слов (и без знаков препинания, и всё приведено к нижнему регистру)"
   ]
  },
  {
   "cell_type": "code",
   "execution_count": 23,
   "id": "4003ceee-dbab-4380-a379-30a2566914db",
   "metadata": {},
   "outputs": [],
   "source": [
    "clean_texts = re.sub(r'[^a-zA-Zа-яА-ЯеЁ ]', '', giga_text)"
   ]
  },
  {
   "cell_type": "code",
   "execution_count": 24,
   "id": "ab642684-08ba-401d-8271-fa1c202ca1b5",
   "metadata": {},
   "outputs": [],
   "source": [
    "clean_texts = clean_texts.lower()"
   ]
  },
  {
   "cell_type": "code",
   "execution_count": 33,
   "id": "821dc5ad-f851-496e-b0d9-d23f00d3439e",
   "metadata": {},
   "outputs": [],
   "source": [
    "import nltk\n",
    "from nltk.corpus import stopwords\n",
    "from nltk.tokenize import word_tokenize\n",
    "\n",
    "text = clean_texts\n",
    "tokens = word_tokenize(text)\n",
    "stop_words = set(stopwords.words('russian'))\n",
    "filtered_tokens = [word for word in tokens if word not in stop_words]"
   ]
  },
  {
   "cell_type": "code",
   "execution_count": 34,
   "id": "bf03cf5b-7db7-4820-9f5d-40ffdc785036",
   "metadata": {},
   "outputs": [
    {
     "data": {
      "text/plain": [
       "['добрый', 'день', 'являюсь', 'клиентом', 'банка']"
      ]
     },
     "execution_count": 34,
     "metadata": {},
     "output_type": "execute_result"
    }
   ],
   "source": [
    "filtered_tokens[0:5]"
   ]
  },
  {
   "cell_type": "code",
   "execution_count": 42,
   "id": "fd1bb207-127f-4c25-9e19-38a65e65c9c4",
   "metadata": {},
   "outputs": [
    {
     "name": "stdout",
     "output_type": "stream",
     "text": [
      "[('банка', 263827), ('банк', 196235), ('это', 183007), ('деньги', 130040), ('карту', 104929), ('карты', 100872), ('кредит', 80212), ('день', 75984), ('заявление', 69499), ('отделение', 66450)]\n"
     ]
    }
   ],
   "source": [
    "from collections import Counter\n",
    "my_list = filtered_tokens\n",
    "most_common_element = Counter(my_list).most_common#[0][0]\n",
    "\n",
    "print(most_common_element(10))"
   ]
  },
  {
   "cell_type": "markdown",
   "id": "f205f69e-0c82-43d8-a05a-144dbc061c66",
   "metadata": {},
   "source": [
    "##### Наиболее частые слова после лемматизации"
   ]
  },
  {
   "cell_type": "code",
   "execution_count": 44,
   "id": "0ea0585b-88d6-45d9-aefb-2e4c59577506",
   "metadata": {},
   "outputs": [],
   "source": [
    "from pymorphy3 import MorphAnalyzer"
   ]
  },
  {
   "cell_type": "code",
   "execution_count": 134,
   "id": "4a84d256-4cf2-40f6-a3a2-8aba374cef87",
   "metadata": {},
   "outputs": [],
   "source": [
    "morph = MorphAnalyzer()"
   ]
  },
  {
   "cell_type": "code",
   "execution_count": 136,
   "id": "1d1369e5-f077-4704-97de-cdaa7e08d5e2",
   "metadata": {},
   "outputs": [],
   "source": [
    "lemmas = [] #получаю леммы всего текста\n",
    "for token in filtered_tokens:\n",
    "    lemmas.append(morph.normal_forms(token)[0])"
   ]
  },
  {
   "cell_type": "code",
   "execution_count": 137,
   "id": "e5a1ba77-bf12-43e4-8e3c-cc94953d7b61",
   "metadata": {},
   "outputs": [
    {
     "name": "stdout",
     "output_type": "stream",
     "text": [
      "[('банк', 624062), ('карта', 331778), ('это', 199689), ('деньга', 178322), ('день', 172195), ('мой', 161053), ('кредит', 154772), ('который', 148785), ('отделение', 143574), ('сотрудник', 133561)]\n"
     ]
    }
   ],
   "source": [
    "my_list = lemmas\n",
    "most_common_element = Counter(my_list).most_common#[0][0]\n",
    "\n",
    "print(most_common_element(10))"
   ]
  },
  {
   "cell_type": "markdown",
   "id": "4ca67f9f-8632-462c-8432-7b6df582de10",
   "metadata": {},
   "source": [
    "##### Наиболее частые существительные:"
   ]
  },
  {
   "cell_type": "markdown",
   "id": "cfaf8972",
   "metadata": {},
   "source": [
    "Для одного текста:"
   ]
  },
  {
   "cell_type": "code",
   "execution_count": 1144,
   "id": "0e5f507a-eca3-4495-be53-1749274003d5",
   "metadata": {},
   "outputs": [
    {
     "name": "stdout",
     "output_type": "stream",
     "text": [
      "[{'analysis': [{'lex': 'лес', 'wt': 0.9992945031, 'gr': 'S,муж,неод=(вин,ед|им,ед)'}], 'text': 'лес'}, {'text': '\\n'}]\n",
      "{'analysis': [{'lex': 'лес', 'wt': 0.9992945031, 'gr': 'S,муж,неод=(вин,ед|им,ед)'}], 'text': 'лес'}\n",
      "[{'lex': 'лес', 'wt': 0.9992945031, 'gr': 'S,муж,неод=(вин,ед|им,ед)'}]\n",
      "S\n"
     ]
    }
   ],
   "source": [
    "from pymystem3 import Mystem #ставим библиотику, разбираемся как она работает\n",
    "mystem = Mystem()\n",
    "text = 'лес'\n",
    "speech_part = mystem.analyze(text)\n",
    "print(speech_part)\n",
    "print(speech_part[0])\n",
    "print(speech_part[0].get('analysis'))\n",
    "print(speech_part[0].get('analysis')[0].get('gr')[0])"
   ]
  },
  {
   "cell_type": "code",
   "execution_count": 107,
   "id": "8f3515af",
   "metadata": {},
   "outputs": [],
   "source": [
    "clean_texts = re.sub(r'[^a-zA-Zа-яА-ЯеЁ ]', '', texts[0]) "
   ]
  },
  {
   "cell_type": "code",
   "execution_count": 109,
   "id": "5df11fe7",
   "metadata": {},
   "outputs": [],
   "source": [
    "clean_texts = clean_texts.lower()"
   ]
  },
  {
   "cell_type": "code",
   "execution_count": 111,
   "id": "945d4456",
   "metadata": {},
   "outputs": [],
   "source": [
    "#приводим к начальной форме\n",
    "import nltk\n",
    "from nltk.corpus import stopwords\n",
    "from nltk.tokenize import word_tokenize\n",
    "\n",
    "text = clean_texts\n",
    "tokens = word_tokenize(text)\n",
    "stop_words = set(stopwords.words('russian'))\n",
    "filtered_tokens = [word for word in tokens if word not in stop_words]"
   ]
  },
  {
   "cell_type": "code",
   "execution_count": 113,
   "id": "6721c519-5df5-4c2c-8dc5-b84e0d5b6316",
   "metadata": {},
   "outputs": [
    {
     "data": {
      "text/plain": [
       "['добрый', 'день', 'являюсь', 'клиентом', 'банка']"
      ]
     },
     "execution_count": 113,
     "metadata": {},
     "output_type": "execute_result"
    }
   ],
   "source": [
    "filtered_tokens[0:5]"
   ]
  },
  {
   "cell_type": "code",
   "execution_count": 115,
   "id": "2475dc16",
   "metadata": {},
   "outputs": [],
   "source": [
    "lemmas = [] #получаю леммы одного текста\n",
    "for token in filtered_tokens:\n",
    "    lemmas.append(morph.normal_forms(token)[0])"
   ]
  },
  {
   "cell_type": "code",
   "execution_count": 117,
   "id": "5884a12f",
   "metadata": {},
   "outputs": [
    {
     "data": {
      "text/plain": [
       "['добрый', 'день', 'являться', 'клиент', 'банк']"
      ]
     },
     "execution_count": 117,
     "metadata": {},
     "output_type": "execute_result"
    }
   ],
   "source": [
    "lemmas[0:5]"
   ]
  },
  {
   "cell_type": "code",
   "execution_count": 119,
   "id": "f4d64f1c-2439-412d-a3e5-df42323c479f",
   "metadata": {},
   "outputs": [],
   "source": [
    "speech_part_test = []\n",
    "for i in lemmas:\n",
    "#    print(i)\n",
    "#    print(mystem.analyze(i))\n",
    "#    print(mystem.analyze(i)[0].get('analysis')[0].get('gr')[0])\n",
    "    if mystem.analyze(i)[0].get('analysis')[0].get('gr')[0] == 'S':\n",
    "        speech_part_test.append(i)"
   ]
  },
  {
   "cell_type": "code",
   "execution_count": 125,
   "id": "e75dd8bd",
   "metadata": {},
   "outputs": [
    {
     "name": "stdout",
     "output_type": "stream",
     "text": [
      "Самые популярные слова в первом тексте: [('договор', 4), ('банк', 3), ('отношение', 3), ('год', 3), ('письмо', 3), ('адрес', 3), ('угроза', 2), ('гражданин', 2), ('вопрос', 2), ('заявление', 2)]\n"
     ]
    }
   ],
   "source": [
    "from collections import Counter\n",
    "my_list = speech_part_test\n",
    "most_common_element = Counter(my_list).most_common(10)#[0][0]\n",
    "\n",
    "print('Самые популярные слова в первом тексте:', most_common_element)"
   ]
  },
  {
   "cell_type": "markdown",
   "id": "22fecf20",
   "metadata": {},
   "source": [
    "__________________\n",
    "Для 50 текстов:"
   ]
  },
  {
   "cell_type": "code",
   "execution_count": 1258,
   "id": "6fb7c02f-578f-43c7-aef1-4cef0b52fbc1",
   "metadata": {},
   "outputs": [],
   "source": [
    "mystem = Mystem()"
   ]
  },
  {
   "cell_type": "code",
   "execution_count": 1260,
   "id": "878adc13-5f9f-4c70-a0f0-d5ba442a5924",
   "metadata": {},
   "outputs": [],
   "source": [
    "responses_for_nouns = responses[0:500]"
   ]
  },
  {
   "cell_type": "code",
   "execution_count": 1262,
   "id": "b4607e1b-72cd-467f-9426-960dc8698cc9",
   "metadata": {},
   "outputs": [
    {
     "name": "stdout",
     "output_type": "stream",
     "text": [
      "{'city': 'г. Москва', 'rating_not_checked': False, 'title': 'Жалоба', 'num_comments': 0, 'bank_license': 'лицензия № 2562', 'author': 'uhnov1', 'bank_name': 'Бинбанк', 'datetime': '2015-06-08 12:50:54', 'text': 'Добрый день! Я не являюсь клиентом банка и поручителем по кредитному договору, а также не являюсь каким-либо другим лицом, письменно  оформившим отношения с банком по поводу урегулирования чьей-либо  задолженности.  Начиная с марта 2015 года начали приходить бесконечные письма из ООО \"Примо коллект\"на мой адрес: город Москва, Уваровский переулок, дом 10, квартира 111, с угрозами о возбуждении уголовного дела в отношении гражданина Филиппова Эдуарда Владимировича, который уклоняется от уплаты взятых им кредитов: договор № 81014 от 20.10.2013 года и договор № 2464946 от 09.10.2014 года. Со всей ответственностью\\xa0 хочу Вас заверить, что вышеуказанный гражданин, которого Вы разыскиваете, мне не знаком и никогда в моем адресе не был зарегистрирован. Каким образом Вы не удостоверившись в подлинности его документов оформили на его имя кредитный договор, мне по меньшей мере не понятно,\\xa0 и почему по Вашей милости я должна переживать и бояться за себе и свое имущество. Письма доставляют мне серьезные неудобства, нарушают мои гражданские права, а также нарушают закон о защите персональных данных. Убедительно прошу прекратить посылать на мой адрес письма с угрозами по вопросам, к которым я не имею отношения. В случае отклонения моей претензии буду вынуждена обратиться с жалобами в  другие органы: Росспотребнадзор, Центральный банк, Службу Финансового  омбудсмена. Кроме этого будет подано заявление в полицию и заявление в  суд возмещение причиненного мне морального вреда. Надеюсь на скорое решение моего вопроса.', 'rating_grade': None}\n"
     ]
    }
   ],
   "source": [
    "print(responses[0])"
   ]
  },
  {
   "cell_type": "code",
   "execution_count": 1264,
   "id": "0fbc084b-ff52-4e22-8838-8bb2b853c9b2",
   "metadata": {},
   "outputs": [
    {
     "name": "stdout",
     "output_type": "stream",
     "text": [
      "Добрый день! Я не являюсь клиентом банка и поручителем по кредитному договору, а также не являюсь каким-либо другим лицом, письменно  оформившим отношения с банком по поводу урегулирования чьей-либо  задолженности.  Начиная с марта 2015 года начали приходить бесконечные письма из ООО \"Примо коллект\"на мой адрес: город Москва, Уваровский переулок, дом 10, квартира 111, с угрозами о возбуждении уголовного дела в отношении гражданина Филиппова Эдуарда Владимировича, который уклоняется от уплаты взятых им кредитов: договор № 81014 от 20.10.2013 года и договор № 2464946 от 09.10.2014 года. Со всей ответственностью  хочу Вас заверить, что вышеуказанный гражданин, которого Вы разыскиваете, мне не знаком и никогда в моем адресе не был зарегистрирован. Каким образом Вы не удостоверившись в подлинности его документов оформили на его имя кредитный договор, мне по меньшей мере не понятно,  и почему по Вашей милости я должна переживать и бояться за себе и свое имущество. Письма доставляют мне серьезные неудобства, нарушают мои гражданские права, а также нарушают закон о защите персональных данных. Убедительно прошу прекратить посылать на мой адрес письма с угрозами по вопросам, к которым я не имею отношения. В случае отклонения моей претензии буду вынуждена обратиться с жалобами в  другие органы: Росспотребнадзор, Центральный банк, Службу Финансового  омбудсмена. Кроме этого будет подано заявление в полицию и заявление в  суд возмещение причиненного мне морального вреда. Надеюсь на скорое решение моего вопроса.\n"
     ]
    }
   ],
   "source": [
    "texts_for_nouns = []\n",
    "for i in responses_for_nouns:\n",
    "    texts_for_nouns.append(i.get('text'))\n",
    "print(texts_for_nouns[0])"
   ]
  },
  {
   "cell_type": "code",
   "execution_count": 1266,
   "id": "bbdbc1d8-a460-42a7-bb90-b6de4c450550",
   "metadata": {},
   "outputs": [
    {
     "name": "stdout",
     "output_type": "stream",
     "text": [
      "Добрый день Я не являюсь клиентом банка и поручителем по кредитному договору а также не являюсь какимлибо другим лицом письменно  оформившим отношения с банком по поводу урегулирования чьейлибо  задолженности  Начиная с марта  года начали приходить бесконечные письма из ООО Примо коллектна мой адрес город Москва Уваровский переулок дом  квартира  с угрозами о возбуждении уголовного дела в отношении гражданина Филиппова Эдуарда Владимировича который уклоняется от уплаты взятых им кредитов договор   от  года и договор   от  года Со всей ответственностью хочу Вас заверить что вышеуказанный гражданин которого Вы разыскиваете мне не знаком и никогда в моем адресе не был зарегистрирован Каким образом Вы не удостоверившись в подлинности его документов оформили на его имя кредитный договор мне по меньшей мере не понятно и почему по Вашей милости я должна переживать и бояться за себе и свое имущество Письма доставляют мне серьезные неудобства нарушают мои гражданские права а также нарушают закон о защите персональных данных Убедительно прошу прекратить посылать на мой адрес письма с угрозами по вопросам к которым я не имею отношения В случае отклонения моей претензии буду вынуждена обратиться с жалобами в  другие органы Росспотребнадзор Центральный банк Службу Финансового  омбудсмена Кроме этого будет подано заявление в полицию и заявление в  суд возмещение причиненного мне морального вреда Надеюсь на скорое решение моего вопроса\n"
     ]
    }
   ],
   "source": [
    "clean_texts_for_nouns = []\n",
    "for i in texts_for_nouns:\n",
    "    clean_texts_for_nouns.append(re.sub(r'[^a-zA-Zа-яА-ЯеЁ ]', '', i))\n",
    "print(clean_texts_for_nouns[0])"
   ]
  },
  {
   "cell_type": "code",
   "execution_count": 1268,
   "id": "54fa445f-c2f9-41ac-98ca-bb3ee64eebf7",
   "metadata": {},
   "outputs": [
    {
     "name": "stdout",
     "output_type": "stream",
     "text": [
      "добрый день я не являюсь клиентом банка и поручителем по кредитному договору а также не являюсь какимлибо другим лицом письменно  оформившим отношения с банком по поводу урегулирования чьейлибо  задолженности  начиная с марта  года начали приходить бесконечные письма из ооо примо коллектна мой адрес город москва уваровский переулок дом  квартира  с угрозами о возбуждении уголовного дела в отношении гражданина филиппова эдуарда владимировича который уклоняется от уплаты взятых им кредитов договор   от  года и договор   от  года со всей ответственностью хочу вас заверить что вышеуказанный гражданин которого вы разыскиваете мне не знаком и никогда в моем адресе не был зарегистрирован каким образом вы не удостоверившись в подлинности его документов оформили на его имя кредитный договор мне по меньшей мере не понятно и почему по вашей милости я должна переживать и бояться за себе и свое имущество письма доставляют мне серьезные неудобства нарушают мои гражданские права а также нарушают закон о защите персональных данных убедительно прошу прекратить посылать на мой адрес письма с угрозами по вопросам к которым я не имею отношения в случае отклонения моей претензии буду вынуждена обратиться с жалобами в  другие органы росспотребнадзор центральный банк службу финансового  омбудсмена кроме этого будет подано заявление в полицию и заявление в  суд возмещение причиненного мне морального вреда надеюсь на скорое решение моего вопроса\n"
     ]
    }
   ],
   "source": [
    "clean_texts_for_nouns_lower = []\n",
    "for i in clean_texts_for_nouns:\n",
    "    clean_texts_for_nouns_lower.append(i.lower())\n",
    "print(clean_texts_for_nouns_lower[0])"
   ]
  },
  {
   "cell_type": "code",
   "execution_count": 1270,
   "id": "495425ab-e33b-4c35-86ba-a9e6d5917dd3",
   "metadata": {},
   "outputs": [],
   "source": [
    "giga_text_for_nouns = ' '.join(clean_texts_for_nouns_lower)"
   ]
  },
  {
   "cell_type": "code",
   "execution_count": 1272,
   "id": "405af1ab",
   "metadata": {},
   "outputs": [],
   "source": [
    "import nltk\n",
    "from nltk.corpus import stopwords\n",
    "from nltk.tokenize import word_tokenize\n",
    "\n",
    "text = giga_text_for_nouns #чистим от стоп-слов\n",
    "tokens = word_tokenize(text)\n",
    "stop_words = set(stopwords.words('russian'))\n",
    "filtered_tokens = [word for word in tokens if word not in stop_words]"
   ]
  },
  {
   "cell_type": "code",
   "execution_count": 1274,
   "id": "007a2582",
   "metadata": {},
   "outputs": [
    {
     "data": {
      "text/plain": [
       "['добрый', 'день', 'являюсь', 'клиентом', 'банка']"
      ]
     },
     "execution_count": 1274,
     "metadata": {},
     "output_type": "execute_result"
    }
   ],
   "source": [
    "filtered_tokens[0:5]"
   ]
  },
  {
   "cell_type": "code",
   "execution_count": 1276,
   "id": "fc5a1d5f",
   "metadata": {},
   "outputs": [],
   "source": [
    "from pymorphy3 import MorphAnalyzer\n",
    "morph = MorphAnalyzer()\n",
    "\n",
    "lemmas = [] #получаю леммы одного текста\n",
    "for token in filtered_tokens:\n",
    "    lemmas.append(morph.normal_forms(token)[0])"
   ]
  },
  {
   "cell_type": "code",
   "execution_count": 1278,
   "id": "d207d82b",
   "metadata": {},
   "outputs": [
    {
     "name": "stdout",
     "output_type": "stream",
     "text": [
      "['добрый', 'день', 'являться', 'клиент', 'банк']\n"
     ]
    },
    {
     "data": {
      "text/plain": [
       "58040"
      ]
     },
     "execution_count": 1278,
     "metadata": {},
     "output_type": "execute_result"
    }
   ],
   "source": [
    "print(lemmas[0:5])\n",
    "len(lemmas)"
   ]
  },
  {
   "cell_type": "code",
   "execution_count": null,
   "id": "036fd77d-5fb9-4c26-9613-dc4084e34810",
   "metadata": {},
   "outputs": [],
   "source": [
    "speech_part_test = []\n",
    "for i in lemmas:\n",
    "    try:\n",
    "        if mystem.analyze(i)[0].get('analysis')[0].get('gr')[0] == 'S':\n",
    "            speech_part_test.append(i)\n",
    "    except IndexError:\n",
    "        pass"
   ]
  },
  {
   "cell_type": "code",
   "execution_count": 1194,
   "id": "f593aac1",
   "metadata": {},
   "outputs": [],
   "source": [
    "speech_part_test = [] #оставляем только существительные, здесь вылетает ошибка если не перезапустить файл, плюс иногда он не находит вообще часть речи, и это тоже ошибка\n",
    "try:\n",
    "    for i in lemmas:\n",
    "        if mystem.analyze(i)[0].get('analysis')[0].get('gr')[0] == 'S':\n",
    "            speech_part_test.append(i)\n",
    "except:\n",
    "    pass"
   ]
  },
  {
   "cell_type": "code",
   "execution_count": 1252,
   "id": "a4743245",
   "metadata": {},
   "outputs": [],
   "source": [
    "my_list = speech_part_test\n",
    "most_common_element = Counter(my_list).most_common(len(my_list))#[0][0] #здесь надо докрутить, в most_common_element \n",
    "#будет храниться весь список всего, в принте надо вывести 10 самых популярных"
   ]
  },
  {
   "cell_type": "code",
   "execution_count": 1254,
   "id": "9eb9fe8d-9ed1-4605-b6a9-7e6b5ff18b13",
   "metadata": {},
   "outputs": [
    {
     "name": "stdout",
     "output_type": "stream",
     "text": [
      "[('банк', 7), ('карта', 7), ('руб', 5), ('договор', 4), ('год', 4), ('документ', 4), ('заявление', 4), ('фамилия', 4), ('отношение', 3), ('письмо', 3), ('адрес', 3), ('сбербанк', 3), ('токарев', 3), ('секлетина', 3), ('ситуация', 3), ('день', 2), ('клиент', 2), ('угроза', 2), ('гражданин', 2), ('вопрос', 2), ('копия', 2), ('паспорт', 2), ('свидетельство', 2), ('брак', 2), ('мария', 2), ('александрович', 2), ('база', 2), ('уважение', 2), ('интернетмагазин', 2), ('сумма', 2), ('поручитель', 1), ('какимлибо', 1), ('лицо', 1), ('повод', 1), ('урегулирование', 1), ('чьейлибо', 1), ('задолженность', 1), ('март', 1), ('ооо', 1), ('город', 1), ('москва', 1), ('переулок', 1), ('дом', 1), ('квартира', 1), ('возбуждение', 1), ('дело', 1), ('филиппов', 1), ('эдуард', 1), ('владимирович', 1), ('уплата', 1), ('кредит', 1), ('ответственность', 1), ('знак', 1), ('образ', 1), ('подлинность', 1), ('имя', 1), ('мера', 1), ('милость', 1), ('имущество', 1), ('неудобство', 1), ('право', 1), ('закон', 1), ('защита', 1), ('данные', 1), ('случай', 1), ('отклонение', 1), ('претензия', 1), ('жалоба', 1), ('орган', 1), ('росспотребнадзор', 1), ('служба', 1), ('омбудсмен', 1), ('полиция', 1), ('суд', 1), ('возмещение', 1), ('вред', 1), ('решение', 1), ('держатель', 1), ('россия', 1), ('муж', 1), ('необходимость', 1), ('услуга', 1), ('страница', 1), ('специалист', 1), ('отделение', 1), ('скан', 1), ('контакт', 1), ('звонок', 1), ('время', 1), ('связь', 1), ('истечение', 1), ('срок', 1), ('обслуживание', 1), ('результат', 1), ('ноль', 1), ('я', 1), ('покупка', 1), ('списание', 1), ('раз', 1), ('смс', 1), ('сообщение', 1), ('платёж', 1), ('товар', 1), ('счёт', 1), ('размер', 1), ('владимир', 1), ('номер', 1), ('вдо', 1)]\n"
     ]
    }
   ],
   "source": [
    "print(most_common_element)"
   ]
  },
  {
   "cell_type": "code",
   "execution_count": 1256,
   "id": "a2d2eaaa-12cb-42c2-a4b8-18a67818f2bc",
   "metadata": {},
   "outputs": [
    {
     "name": "stdout",
     "output_type": "stream",
     "text": [
      "[('банк', 7), ('карта', 7), ('руб', 5), ('договор', 4), ('год', 4), ('документ', 4), ('заявление', 4), ('фамилия', 4), ('отношение', 3), ('письмо', 3)]\n"
     ]
    }
   ],
   "source": [
    "print(most_common_element[0:10])"
   ]
  },
  {
   "cell_type": "markdown",
   "id": "e59821c2",
   "metadata": {},
   "source": [
    "### 1.4. Постройте кривые Ципфа и Хипса"
   ]
  },
  {
   "cell_type": "markdown",
   "id": "b18cc681",
   "metadata": {},
   "source": [
    "#### Кривая Ципфа\n",
    "Если все слова корпуса текста упорядочить по убыванию частоты их использования, то частота n-ного слова обратно пропорциональна его порядковому номеру"
   ]
  },
  {
   "cell_type": "markdown",
   "id": "fdde1049",
   "metadata": {},
   "source": [
    "Для одного текста:"
   ]
  },
  {
   "cell_type": "code",
   "execution_count": 99,
   "id": "a6cc630a",
   "metadata": {},
   "outputs": [
    {
     "data": {
      "text/plain": [
       "[('договор', 4), ('банк', 3), ('отношение', 3), ('год', 3), ('письмо', 3)]"
      ]
     },
     "execution_count": 99,
     "metadata": {},
     "output_type": "execute_result"
    }
   ],
   "source": [
    "most_common_element_one_text = Counter(my_list).most_common(len(my_list))\n",
    "most_common_element_one_text[0:5]"
   ]
  },
  {
   "cell_type": "code",
   "execution_count": 105,
   "id": "f42ccad8",
   "metadata": {},
   "outputs": [
    {
     "data": {
      "text/plain": [
       "[4, 3, 3, 3, 3]"
      ]
     },
     "execution_count": 105,
     "metadata": {},
     "output_type": "execute_result"
    }
   ],
   "source": [
    "counter_ = []\n",
    "for i in most_common_element_one_text:\n",
    "    counter_.append(i[1])\n",
    "counter_[0:5]"
   ]
  },
  {
   "cell_type": "code",
   "execution_count": 112,
   "id": "b27d6be8",
   "metadata": {},
   "outputs": [
    {
     "data": {
      "image/png": "[encoded data removed]",
      "text/plain": [
       "<Figure size 640x480 with 1 Axes>"
      ]
     },
     "metadata": {},
     "output_type": "display_data"
    }
   ],
   "source": [
    "data = {'Кривая Ципфа для первого текста':counter_}\n",
    "df = pd.DataFrame(data)\n",
    "x = np.arange(len(counter_))\n",
    "plt.axis([0,15,0,5])\n",
    "plt.plot(x,df)\n",
    "plt.legend(data, loc=2)\n",
    "plt.show()"
   ]
  },
  {
   "cell_type": "markdown",
   "id": "ba5500e6",
   "metadata": {},
   "source": [
    "_________________\n",
    "Для 2000 текстов:"
   ]
  },
  {
   "cell_type": "code",
   "execution_count": 129,
   "id": "5ed20091",
   "metadata": {},
   "outputs": [
    {
     "data": {
      "text/plain": [
       "2000"
      ]
     },
     "execution_count": 129,
     "metadata": {},
     "output_type": "execute_result"
    }
   ],
   "source": [
    "counter_ = []\n",
    "for i in most_common_element(2000):\n",
    "    counter_.append(i[1])\n",
    "len(counter_)"
   ]
  },
  {
   "cell_type": "code",
   "execution_count": 131,
   "id": "2f913d56",
   "metadata": {},
   "outputs": [
    {
     "data": {
      "image/png": "[encoded data removed]",
      "text/plain": [
       "<Figure size 640x480 with 1 Axes>"
      ]
     },
     "metadata": {},
     "output_type": "display_data"
    }
   ],
   "source": [
    "data = {'Кривая Ципфа для всех текстов':counter_}\n",
    "df = pd.DataFrame(data)\n",
    "x = np.arange(len(counter_))\n",
    "#plt.axis([0,100,0,100])\n",
    "plt.plot(x,df)\n",
    "plt.legend(data, loc=2)\n",
    "plt.show()"
   ]
  },
  {
   "cell_type": "markdown",
   "id": "4714e27a",
   "metadata": {},
   "source": [
    "________________"
   ]
  },
  {
   "cell_type": "markdown",
   "id": "5706e71c",
   "metadata": {},
   "source": [
    "#### Кривая Хипса\n",
    "Чем больше корпус, тем меньше новых слов добавляется с добавлением новых текстов. В какой-то момент корпус насыщается."
   ]
  },
  {
   "cell_type": "code",
   "execution_count": null,
   "id": "f5c966c6",
   "metadata": {},
   "outputs": [],
   "source": [
    "#в цикле считаем размер первого текста - кол-во новых слов, размер первого+второго текста - кол-во новых слов и т.д\n",
    "#получается два списка, в одном записано с увеличением количество слов всего, во втором записано на сколько увеличилось\n",
    "#уникальных слов\n",
    "#в матплотлиб соответственно оба списка передаём и всё"
   ]
  },
  {
   "cell_type": "code",
   "execution_count": 238,
   "id": "0ca3a248",
   "metadata": {},
   "outputs": [],
   "source": [
    "###предобработка###\n",
    "responses_for_hipsa = responses[0:5000] #я устала ждать когда построится для всех текстов и возьму первые 5000"
   ]
  },
  {
   "cell_type": "code",
   "execution_count": 240,
   "id": "76716d1c",
   "metadata": {},
   "outputs": [],
   "source": [
    "texts_for_hipsa = []\n",
    "for i in responses_for_hipsa:\n",
    "    texts_for_hipsa.append(i.get('text'))"
   ]
  },
  {
   "cell_type": "code",
   "execution_count": 242,
   "id": "af7a2130",
   "metadata": {},
   "outputs": [],
   "source": [
    "clean_texts_for_hipsa = []\n",
    "for i in texts_for_hipsa:\n",
    "    clean_texts_for_hipsa.append(re.sub(r'[^a-zA-Zа-яА-ЯеЁ ]', '', i))"
   ]
  },
  {
   "cell_type": "code",
   "execution_count": 244,
   "id": "24061070",
   "metadata": {},
   "outputs": [],
   "source": [
    "clean_texts_for_hipsa_lower = []\n",
    "for i in clean_texts_for_hipsa:\n",
    "    clean_texts_for_hipsa_lower.append(i.lower())"
   ]
  },
  {
   "cell_type": "code",
   "execution_count": 246,
   "id": "4a461f4d",
   "metadata": {},
   "outputs": [
    {
     "data": {
      "text/plain": [
       "'добрый день я не являюсь клиентом банка и поручителем по кредитному договору а также не являюсь какимлибо другим лицом письменно  оформившим отношения с банком по поводу урегулирования чьейлибо  задолженности  начиная с марта  года начали приходить бесконечные письма из ооо примо коллектна мой адрес город москва уваровский переулок дом  квартира  с угрозами о возбуждении уголовного дела в отношении гражданина филиппова эдуарда владимировича который уклоняется от уплаты взятых им кредитов договор   от  года и договор   от  года со всей ответственностью хочу вас заверить что вышеуказанный гражданин которого вы разыскиваете мне не знаком и никогда в моем адресе не был зарегистрирован каким образом вы не удостоверившись в подлинности его документов оформили на его имя кредитный договор мне по меньшей мере не понятно и почему по вашей милости я должна переживать и бояться за себе и свое имущество письма доставляют мне серьезные неудобства нарушают мои гражданские права а также нарушают закон о защите персональных данных убедительно прошу прекратить посылать на мой адрес письма с угрозами по вопросам к которым я не имею отношения в случае отклонения моей претензии буду вынуждена обратиться с жалобами в  другие органы росспотребнадзор центральный банк службу финансового  омбудсмена кроме этого будет подано заявление в полицию и заявление в  суд возмещение причиненного мне морального вреда надеюсь на скорое решение моего вопроса'"
      ]
     },
     "execution_count": 246,
     "metadata": {},
     "output_type": "execute_result"
    }
   ],
   "source": [
    "clean_texts_for_hipsa_lower[0]\n",
    "###конец предобработки###"
   ]
  },
  {
   "cell_type": "code",
   "execution_count": 248,
   "id": "481f0a39",
   "metadata": {},
   "outputs": [],
   "source": [
    "#функция для подсчёта сколько слов в тех текстах которые подгружают, передаётся список с текстами, возвращается список\n",
    "#с постепенно увеличивающимся количеством слов\n",
    "def count_of_all_texts_hips(text):\n",
    "\n",
    "    size_of_texts = []\n",
    "    size_of_all_texts = 0\n",
    "\n",
    "    for i in text:\n",
    "        lst = clean_texts_for_hipsa_lower[1].replace('.', '').split()\n",
    "        size_of_local_text = len(lst)\n",
    "        size_of_all_texts = size_of_all_texts+size_of_local_text\n",
    "        size_of_texts.append(size_of_all_texts)\n",
    "        \n",
    "    return size_of_texts"
   ]
  },
  {
   "cell_type": "code",
   "execution_count": 250,
   "id": "5f039c40",
   "metadata": {},
   "outputs": [],
   "source": [
    "#функция для подсчета уникальных слов, добавляющихся с каждым новым текстом\n",
    "def unique_words_hips(text):\n",
    "    unique_words = []\n",
    "    unique_words_count = []\n",
    "    for i in text:\n",
    "        lst = i.replace('.', '').split()\n",
    "        for i in lst:\n",
    "            if i not in unique_words:\n",
    "                unique_words.append(i)  \n",
    "        unique_words_count_local_text = len(unique_words)\n",
    "        unique_words_count.append(unique_words_count_local_text)\n",
    "            \n",
    "    return unique_words_count"
   ]
  },
  {
   "cell_type": "markdown",
   "id": "f208ee33-f8de-4cb7-a725-1f092b498e55",
   "metadata": {},
   "source": [
    "Кривая Хипса для 5000 текстов:"
   ]
  },
  {
   "cell_type": "code",
   "execution_count": 252,
   "id": "e6f955e5-4f00-4630-9845-6d2538e30d00",
   "metadata": {},
   "outputs": [
    {
     "data": {
      "image/png": "[encoded data removed]",
      "text/plain": [
       "<Figure size 640x480 with 1 Axes>"
      ]
     },
     "metadata": {},
     "output_type": "display_data"
    }
   ],
   "source": [
    "x = count_of_all_texts_hips(clean_texts_for_hipsa_lower)\n",
    "y = unique_words_hips(clean_texts_for_hipsa_lower)\n",
    "plt.plot(x, y)\n",
    "plt.show()"
   ]
  },
  {
   "cell_type": "markdown",
   "id": "7f530c91-68ce-43a0-92e0-05f279b8d02e",
   "metadata": {},
   "source": [
    "## 1.5 Ответьте на вопросы: какое слово встречается чаще, \"сотрудник\" или \"клиент\", сколько раз встречается слова \"мошенничество\" и \"доверие\"?"
   ]
  },
  {
   "cell_type": "code",
   "execution_count": 142,
   "id": "5e12ff43-909e-48a6-9592-450ec3b6c62c",
   "metadata": {},
   "outputs": [
    {
     "name": "stdout",
     "output_type": "stream",
     "text": [
      "слово сотрудник встречается 133561 раз\n"
     ]
    }
   ],
   "source": [
    "item = 'сотрудник' \n",
    "for i in most_common_element(3000):\n",
    "    try:\n",
    "        index = i.index(item)\n",
    "        print(f\"слово {item} встречается {i[1]} раз\")\n",
    "    except ValueError:\n",
    "        pass"
   ]
  },
  {
   "cell_type": "code",
   "execution_count": 144,
   "id": "90ee9e1b-c422-47a3-8991-e71ee42d67ba",
   "metadata": {},
   "outputs": [
    {
     "name": "stdout",
     "output_type": "stream",
     "text": [
      "слово клиент встречается 132891 раз\n"
     ]
    }
   ],
   "source": [
    "item = 'клиент'\n",
    "for i in most_common_element(3000):\n",
    "    try:\n",
    "        index = i.index(item)\n",
    "        print(f\"слово {item} встречается {i[1]} раз\")\n",
    "    except ValueError:\n",
    "        pass"
   ]
  },
  {
   "cell_type": "markdown",
   "id": "efa8dd11-486a-4c35-968e-65947213c2dd",
   "metadata": {},
   "source": [
    "Слово \"сотрудник\" встречается чаще."
   ]
  },
  {
   "cell_type": "code",
   "execution_count": 147,
   "id": "41802d7e-de47-495b-8fb2-2adb435f3a25",
   "metadata": {},
   "outputs": [
    {
     "name": "stdout",
     "output_type": "stream",
     "text": [
      "слово мошенничество встречается 3221 раз\n"
     ]
    }
   ],
   "source": [
    "item = 'мошенничество' \n",
    "for i in most_common_element(3000):\n",
    "    try:\n",
    "        index = i.index(item)\n",
    "        print(f\"слово {item} встречается {i[1]} раз\")\n",
    "    except ValueError:\n",
    "        pass"
   ]
  },
  {
   "cell_type": "code",
   "execution_count": 150,
   "id": "b541f2a1-0ca1-4ca1-a44a-b85905b6c667",
   "metadata": {},
   "outputs": [
    {
     "name": "stdout",
     "output_type": "stream",
     "text": [
      "слово доверие встречается 2101 раз\n"
     ]
    }
   ],
   "source": [
    "item = 'доверие'\n",
    "for i in most_common_element(3000):\n",
    "    try:\n",
    "        index = i.index(item)\n",
    "        print(f\"слово {item} встречается {i[1]} раз\")\n",
    "    except ValueError:\n",
    "        pass"
   ]
  },
  {
   "cell_type": "markdown",
   "id": "7cd2a51e-96e3-4068-96cf-02bb126b1dbe",
   "metadata": {},
   "source": [
    "## 1.6 В поле \"rating_grade\" записана оценка отзыва по шкале от 1 до 5. Используйте меру  𝑡𝑓−𝑖𝑑𝑓, для того, чтобы найти ключевые слова и биграмы для положительных отзывов (с оценкой 5) и отрицательных отзывов (с оценкой 1)"
   ]
  },
  {
   "cell_type": "markdown",
   "id": "f7626cf5-e25a-4380-846c-82257986aa5b",
   "metadata": {},
   "source": [
    "TF-IDF - статистическая мера, используемая для оценки важности слова в контексте документа, являющегося частью коллекции документов или корпуса. Вес некоторого слова пропорционален частоте употребления этого слова в документе и обратно пропорционален частоте употребления слова во всех документах коллекции.\n",
    "\n",
    "TF (Term Frequency) измеряет, как часто слово встречается в документе.\n",
    "\n",
    "IDF (Inverse Document Frequency) оценивает, насколько слово уникально для данного документа по сравнению с другими документами в корпусе."
   ]
  },
  {
   "cell_type": "markdown",
   "id": "233212ad-6afb-49cb-9b47-7f86f5d22b38",
   "metadata": {},
   "source": [
    "Перед применением TF-IDF необходимо провести предварительную обработку текста: токенизация, удаление стоп-слов и приведение слов к нижнему регистру."
   ]
  },
  {
   "cell_type": "code",
   "execution_count": null,
   "id": "2f3ed295-43a4-492d-91d8-ebbfda1f8298",
   "metadata": {},
   "outputs": [],
   "source": [
    "#логика: сначала оставляем только отзывы на 1 и на 5, затем уже для каждого отзыва в этих двух разных списках считаем меру"
   ]
  },
  {
   "cell_type": "code",
   "execution_count": 38,
   "id": "08233ae5-99c5-4756-b063-a273ce8df0d6",
   "metadata": {},
   "outputs": [
    {
     "data": {
      "text/plain": [
       "{'city': 'г. Новосибирск',\n",
       " 'rating_not_checked': False,\n",
       " 'title': 'Не могу пользоваться услугой Сбербанк он-лайн',\n",
       " 'num_comments': 0,\n",
       " 'bank_license': 'лицензия № 1481',\n",
       " 'author': 'Foryou',\n",
       " 'bank_name': 'Сбербанк России',\n",
       " 'datetime': '2015-06-08 11:09:57',\n",
       " 'text': 'Доброго дня! Являюсь держателем зарплатной карты , выданной Сбербанком России. В 2008 году сменила фамилию, предоставила в банк \\xa0документы (копию нового паспорта, свидетельства о браке), мне перевыпустили карту на фамилию мужа ТОКАРЕВА МАРИЯ АЛЕКСАНДРОВНА (девичья \\xa0- СЕКЛЕТИНА). \\xa0 Возникла необходимость подключить услугу Сбербанк онлайн, НЕ ПОЛУЧИЛОСЬ (на главной странице на отображались мои карты). Связалась с техническим специалистом отделения Сбербанка в котором обслуживалась. Он пояснил, что в базе банка, я все ещё под девичьей фамилией СЕКЛЕТИНА. Предложил выслать сканы необходимых документов. Выслала, оставив контакты, звонка так и не дождалась. Ч/з некоторое время звоню сама, объясняю ситуацию, меня пробивают по базе - опять числюсь СЕКЛЕТИНОЙ (хотя карту уже перевыпустили еще раз на фамилию ТОКАРЕВА в связи с истечением срока обслуживания). Высылаю документы (копию паспорта и свидетельства о браке). Результат \\xa0- 0 (ноль). ПРошу помочь разобраться в этой ситуации. С уважением Токарева Мария Александровна',\n",
       " 'rating_grade': None}"
      ]
     },
     "execution_count": 38,
     "metadata": {},
     "output_type": "execute_result"
    }
   ],
   "source": [
    "responses[1]"
   ]
  },
  {
   "cell_type": "code",
   "execution_count": 156,
   "id": "a73e106e-4494-42d7-afe8-9dce081851fd",
   "metadata": {},
   "outputs": [],
   "source": [
    "grade_1 = [] #фильтруем отзывы с оценкой 1\n",
    "for i in responses:\n",
    "    if i.get('rating_grade') == 1:\n",
    "        grade_1.append(i.get('text'))"
   ]
  },
  {
   "cell_type": "code",
   "execution_count": 158,
   "id": "cb416590-746b-428a-b585-c95b1e8978a6",
   "metadata": {},
   "outputs": [
    {
     "data": {
      "text/plain": [
       "47387"
      ]
     },
     "execution_count": 158,
     "metadata": {},
     "output_type": "execute_result"
    }
   ],
   "source": [
    "len(grade_1)"
   ]
  },
  {
   "cell_type": "markdown",
   "id": "e5ae9dbe-446a-474d-b001-a8c711b18e39",
   "metadata": {},
   "source": [
    "47 387 отзывов с оценкой 1"
   ]
  },
  {
   "cell_type": "code",
   "execution_count": 161,
   "id": "9b69f058-17ec-4697-a79a-36aafce8e13e",
   "metadata": {},
   "outputs": [],
   "source": [
    "grade_5 = [] #фильтруем отзывы с оценкой 5\n",
    "for i in responses:\n",
    "    if i.get('rating_grade') == 5:\n",
    "        grade_5.append(i.get('text'))"
   ]
  },
  {
   "cell_type": "code",
   "execution_count": 163,
   "id": "ba8aa0bd-2f29-491a-9788-b38e0abd817a",
   "metadata": {},
   "outputs": [
    {
     "data": {
      "text/plain": [
       "14713"
      ]
     },
     "execution_count": 163,
     "metadata": {},
     "output_type": "execute_result"
    }
   ],
   "source": [
    "len(grade_5)"
   ]
  },
  {
   "cell_type": "code",
   "execution_count": 43,
   "id": "c0f72fec-cfea-4c5c-a7bc-ed1761de2eb6",
   "metadata": {},
   "outputs": [
    {
     "data": {
      "text/plain": [
       "'Досрочно закрывали вклады перед отпуском. Жена заказывала заранее, но забыла заказать на меня. Сотрудник банка (СПБ Ленсовета 89) Наталья не отказала мне, хотя сумма значительная. Работает быстро, профессионально. Ничего лишнего. Жаль, что прикрыли прием вкладов в офисе Озерки - доступность офиса для меня. Заметил, что и несут деньги во вклады и берут кредиты. Желаю успехов банку.'"
      ]
     },
     "execution_count": 43,
     "metadata": {},
     "output_type": "execute_result"
    }
   ],
   "source": [
    "grade_5[0]"
   ]
  },
  {
   "cell_type": "markdown",
   "id": "b7b20ca8-8508-4b14-8e18-d6119ab0a38f",
   "metadata": {},
   "source": [
    "14 713 отзывов с оценкой 5"
   ]
  },
  {
   "cell_type": "markdown",
   "id": "2a14a023-658b-4dff-91b4-7c461cde3134",
   "metadata": {},
   "source": [
    "##### TF-idf для оценки 5 для первых трёх текстов:"
   ]
  },
  {
   "cell_type": "code",
   "execution_count": 200,
   "id": "6b4f1f42-c8f7-4c3c-9009-2deb09e1668b",
   "metadata": {},
   "outputs": [
    {
     "data": {
      "text/plain": [
       "'Досрочно закрывали вклады перед отпуском Жена заказывала заранее но забыла заказать на меня Сотрудник банка СПБ Ленсовета  Наталья не отказала мне хотя сумма значительная Работает быстро профессионально Ничего лишнего Жаль что прикрыли прием вкладов в офисе Озерки  доступность офиса для меня Заметил что и несут деньги во вклады и берут кредиты Желаю успехов банку'"
      ]
     },
     "execution_count": 200,
     "metadata": {},
     "output_type": "execute_result"
    }
   ],
   "source": [
    "### предобработка ###\n",
    "grade_5_clean = []\n",
    "for i in grade_5[0:3]:\n",
    "    grade_5_clean.append(re.sub(r'[^a-zA-Zа-яА-ЯеЁ ]', '', i))\n",
    "grade_5_clean[0]"
   ]
  },
  {
   "cell_type": "code",
   "execution_count": 202,
   "id": "d27c3088-65a3-4a11-88a2-25af88144b41",
   "metadata": {},
   "outputs": [
    {
     "data": {
      "text/plain": [
       "'досрочно закрывали вклады перед отпуском жена заказывала заранее но забыла заказать на меня сотрудник банка спб ленсовета  наталья не отказала мне хотя сумма значительная работает быстро профессионально ничего лишнего жаль что прикрыли прием вкладов в офисе озерки  доступность офиса для меня заметил что и несут деньги во вклады и берут кредиты желаю успехов банку'"
      ]
     },
     "execution_count": 202,
     "metadata": {},
     "output_type": "execute_result"
    }
   ],
   "source": [
    "grade_5_clean_lower = []\n",
    "for i in grade_5_clean:\n",
    "    grade_5_clean_lower.append(i.lower())\n",
    "grade_5_clean_lower[0]"
   ]
  },
  {
   "cell_type": "code",
   "execution_count": 204,
   "id": "3cb9d1c2-be13-4cc9-851e-3bca143e21d7",
   "metadata": {},
   "outputs": [
    {
     "name": "stdout",
     "output_type": "stream",
     "text": [
      "['досрочно', 'закрывали', 'вклады', 'отпуском', 'жена', 'заказывала', 'заранее', 'забыла', 'заказать', 'сотрудник', 'банка', 'спб', 'ленсовета', 'наталья', 'отказала', 'хотя', 'сумма', 'значительная', 'работает', 'быстро', 'профессионально', 'лишнего', 'жаль', 'прикрыли', 'прием', 'вкладов', 'офисе', 'озерки', 'доступность', 'офиса', 'заметил', 'несут', 'деньги', 'вклады', 'берут', 'кредиты', 'желаю', 'успехов', 'банку']\n"
     ]
    }
   ],
   "source": [
    "import nltk\n",
    "from nltk.corpus import stopwords\n",
    "from nltk.tokenize import word_tokenize\n",
    "grade_5_list = []\n",
    "\n",
    "for i in grade_5_clean_lower:\n",
    "    now_list = []\n",
    "    text = i\n",
    "    tokens = word_tokenize(text)\n",
    "    stop_words = set(stopwords.words('russian'))\n",
    "    filtered_tokens = [word for word in tokens if word not in stop_words]\n",
    "    grade_5_list.append(filtered_tokens)\n",
    "print(grade_5_list[0])"
   ]
  },
  {
   "cell_type": "code",
   "execution_count": 206,
   "id": "e300db88-e5b0-4fab-86c1-67f24204af2a",
   "metadata": {},
   "outputs": [
    {
     "name": "stdout",
     "output_type": "stream",
     "text": [
      "[['досрочно', 'закрывать', 'вклад', 'отпуск', 'жена', 'заказывать', 'заранее', 'забыть', 'заказать', 'сотрудник', 'банк', 'спб', 'ленсовет', 'наталья', 'отказать', 'хотя', 'сумма', 'значительный', 'работать', 'быстро', 'профессионально', 'лишний', 'жаль', 'прикрыть', 'приём', 'вклад', 'офис', 'озерко', 'доступность', 'офис', 'заметить', 'нести', 'деньга', 'вклад', 'брать', 'кредит', 'желать', 'успех', 'банк'], ['хотеть', 'открыть', 'вклад', 'доходный', 'год', 'процент', 'начисляться', 'лесенка', 'месяц', 'месяц', 'месяц', 'условие', 'общий', 'объём', 'дополнительный', 'взнос', 'превышать', 'сумма', 'первоначальный', 'взнос', 'вклад', 'нужный', 'вклад', 'возможность', 'пополнение', 'значит', 'сразу', 'делать', 'большой', 'первоначальный', 'взнос', 'прийти', 'офис', 'банк', 'нижний', 'новгород', 'спросить', 'операционист', 'мочь', 'открыть', 'вклад', 'доходный', 'внести', 'деньга', 'межбанковский', 'перевод', 'ответ', 'мочь', 'открыть', 'счёт', 'вклад', 'текущий', 'счёт', 'счёт', 'карта', 'сам', 'карта', 'выдать', 'пройти', 'касса', 'внести', 'наличные', 'сумма', 'вклад', 'касса', 'хотеть', 'сделать', 'межбанк', 'перевод', 'сразу', 'сказать', 'несколько', 'день', 'ставка', 'вкладудоходный', 'снизить', 'почему', 'поставить', 'балл', 'условие', 'вклад', 'объяснить', 'дать', 'подписать', 'договор', 'открыть', 'счетвклад', 'пополнить', 'вклад', 'дать', 'снизить', 'ставка', 'это', 'банк', 'хотя', 'весь', 'остальной', 'банк', 'понравиться', 'надеяться', 'долгий', 'сотрудничество', 'вопрос', 'представитель', 'банк', 'мочь', 'пополнить', 'свой', 'открытый', 'счёт', 'вклад', 'условие', 'ставка'], ['вчера', 'июнь', 'просидеть', 'очередь', 'х', 'час', 'получение', 'страховой', 'выплата', 'банк', 'транспортный', 'администратор', 'пообещать', 'выгнать', 'закрытие', 'отделение', 'произойти', 'сбой', 'остаться', 'решить', 'прийти', 'сегодня', 'июнь', 'девушка', 'администратор', 'встретить', 'сегодня', 'помочь', 'быстро', 'попасть', 'операционист', 'оформление', 'документ', 'очень', 'приветливый', 'каждый', 'заминка', 'свой', 'вина', 'извиняться', 'решить', 'подробно', 'посмотреть', 'сайт', 'банк', 'воспользоваться', 'услуга', 'предложить', 'оформить', 'карта', 'понимать', 'данный', 'момент', 'очередь', 'сидеть', 'человек', 'который', 'ждать', 'выплата', 'решить', 'приехать', 'отделение', 'спасть', 'наплыть', 'повториться', 'очень', 'довольный', 'обслуживание', 'обслуживаться', 'многий', 'банк', 'сравнивать', 'спасибо']]\n"
     ]
    }
   ],
   "source": [
    "from pymorphy3 import MorphAnalyzer\n",
    "morph = MorphAnalyzer()\n",
    "\n",
    "grade_5_lemmas = [] #получаю леммы всего текста\n",
    "for text in grade_5_list:\n",
    "    now_list = []\n",
    "    for token in text:\n",
    "        now_list.append(morph.normal_forms(token)[0])\n",
    "    grade_5_lemmas.append(now_list)\n",
    "\n",
    "print(grade_5_lemmas)"
   ]
  },
  {
   "cell_type": "code",
   "execution_count": 208,
   "id": "6f2a3656-7288-4b13-ba1b-28efe2403b94",
   "metadata": {},
   "outputs": [
    {
     "name": "stdout",
     "output_type": "stream",
     "text": [
      "['досрочно закрывать вклад отпуск жена заказывать заранее забыть заказать сотрудник банк спб ленсовет наталья отказать хотя сумма значительный работать быстро профессионально лишний жаль прикрыть приём вклад офис озерко доступность офис заметить нести деньга вклад брать кредит желать успех банк', 'хотеть открыть вклад доходный год процент начисляться лесенка месяц месяц месяц условие общий объём дополнительный взнос превышать сумма первоначальный взнос вклад нужный вклад возможность пополнение значит сразу делать большой первоначальный взнос прийти офис банк нижний новгород спросить операционист мочь открыть вклад доходный внести деньга межбанковский перевод ответ мочь открыть счёт вклад текущий счёт счёт карта сам карта выдать пройти касса внести наличные сумма вклад касса хотеть сделать межбанк перевод сразу сказать несколько день ставка вкладудоходный снизить почему поставить балл условие вклад объяснить дать подписать договор открыть счетвклад пополнить вклад дать снизить ставка это банк хотя весь остальной банк понравиться надеяться долгий сотрудничество вопрос представитель банк мочь пополнить свой открытый счёт вклад условие ставка', 'вчера июнь просидеть очередь х час получение страховой выплата банк транспортный администратор пообещать выгнать закрытие отделение произойти сбой остаться решить прийти сегодня июнь девушка администратор встретить сегодня помочь быстро попасть операционист оформление документ очень приветливый каждый заминка свой вина извиняться решить подробно посмотреть сайт банк воспользоваться услуга предложить оформить карта понимать данный момент очередь сидеть человек который ждать выплата решить приехать отделение спасть наплыть повториться очень довольный обслуживание обслуживаться многий банк сравнивать спасибо']\n"
     ]
    }
   ],
   "source": [
    "documents = []\n",
    "for text in grade_5_lemmas:\n",
    "    one_document = []\n",
    "    for word in text:\n",
    "        one_document.append(word)\n",
    "    documents.append(' '.join(one_document))\n",
    "print(documents)"
   ]
  },
  {
   "cell_type": "code",
   "execution_count": 16,
   "id": "280694c0-cfcb-4f09-acd8-b098d242eb4c",
   "metadata": {},
   "outputs": [],
   "source": [
    "df = pd.DataFrame(documents, columns=['text'])"
   ]
  },
  {
   "cell_type": "code",
   "execution_count": 18,
   "id": "470d193e-465a-40a4-aba8-776d2bd7b413",
   "metadata": {},
   "outputs": [
    {
     "name": "stdout",
     "output_type": "stream",
     "text": [
      "   администратор      балл      банк   большой     брать    быстро      весь  \\\n",
      "0       0.000000  0.000000  0.188598  0.000000  0.159662  0.121427  0.000000   \n",
      "1       0.000000  0.066737  0.157663  0.066737  0.000000  0.000000  0.066737   \n",
      "2       0.210782  0.000000  0.186737  0.000000  0.000000  0.080152  0.000000   \n",
      "\n",
      "     взнос      вина     вклад  ...   текущий  транспортный  условие  \\\n",
      "0  0.00000  0.000000  0.364281  ...  0.000000      0.000000  0.00000   \n",
      "1  0.20021  0.000000  0.456794  ...  0.066737      0.000000  0.20021   \n",
      "2  0.00000  0.105391  0.000000  ...  0.000000      0.105391  0.00000   \n",
      "\n",
      "     услуга     успех    хотеть      хотя       час   человек       это  \n",
      "0  0.000000  0.159662  0.000000  0.121427  0.000000  0.000000  0.000000  \n",
      "1  0.000000  0.000000  0.133473  0.050755  0.000000  0.000000  0.066737  \n",
      "2  0.105391  0.000000  0.000000  0.000000  0.105391  0.105391  0.000000  \n",
      "\n",
      "[3 rows x 158 columns]\n"
     ]
    }
   ],
   "source": [
    "from sklearn.feature_extraction.text import TfidfVectorizer\n",
    "# Создание объекта TfidfVectorizer\n",
    "vectorizer = TfidfVectorizer()\n",
    "\n",
    "# Преобразование текстов в TF-IDF матрицу\n",
    "tfidf_matrix = vectorizer.fit_transform(df['text'])\n",
    "\n",
    "# Преобразование матрицы в DataFrame для удобства\n",
    "tfidf_df = pd.DataFrame(tfidf_matrix.toarray(), columns=vectorizer.get_feature_names_out())\n",
    "print(tfidf_df)"
   ]
  },
  {
   "cell_type": "markdown",
   "id": "acce13c0-6c30-49a5-acf6-f70393a3d478",
   "metadata": {},
   "source": [
    "Ключевое слово для каждого текста:"
   ]
  },
  {
   "cell_type": "code",
   "execution_count": 19,
   "id": "7343d8c7-a34b-4eef-b562-4106471ccf2f",
   "metadata": {},
   "outputs": [
    {
     "data": {
      "text/plain": [
       "0    0.364281\n",
       "1    0.456794\n",
       "2    0.316173\n",
       "dtype: float64"
      ]
     },
     "execution_count": 19,
     "metadata": {},
     "output_type": "execute_result"
    }
   ],
   "source": [
    "tfidf_df.max(axis=1)"
   ]
  },
  {
   "cell_type": "code",
   "execution_count": 20,
   "id": "f365710c-0f48-4ca6-a598-57497d5b2732",
   "metadata": {},
   "outputs": [
    {
     "data": {
      "text/plain": [
       "0     вклад\n",
       "1     вклад\n",
       "2    решить\n",
       "dtype: object"
      ]
     },
     "execution_count": 20,
     "metadata": {},
     "output_type": "execute_result"
    }
   ],
   "source": [
    "tfidf_df.idxmax(axis=1)"
   ]
  },
  {
   "cell_type": "markdown",
   "id": "9a29e072-99dc-46f4-a303-8b688f12f33d",
   "metadata": {},
   "source": [
    "______\n",
    "##### TF-idf для отзывов с оценкой 1 и оценкой 5. \n",
    "Слепливаем их в один текст и получаем самые характерные слова для плохих и хороших отзывов."
   ]
  },
  {
   "cell_type": "code",
   "execution_count": 167,
   "id": "e6126627-9bbd-4416-aedf-627cddc5daa3",
   "metadata": {},
   "outputs": [],
   "source": [
    "### предобработка ###\n",
    "#оценка 1\n",
    "grade_1_clean = []\n",
    "for i in grade_1:\n",
    "    grade_1_clean.append(re.sub(r'[^a-zA-Zа-яА-ЯеЁ ]', '', i))\n",
    "\n",
    "grade_1_clean_lower = []\n",
    "for i in grade_1_clean:\n",
    "    grade_1_clean_lower.append(i.lower())"
   ]
  },
  {
   "cell_type": "code",
   "execution_count": null,
   "id": "2c91c7cc",
   "metadata": {},
   "outputs": [],
   "source": [
    "import nltk\n",
    "from nltk.corpus import stopwords\n",
    "from nltk.tokenize import word_tokenize\n",
    "grade_1_list = []\n",
    "\n",
    "for i in grade_1_clean_lower:\n",
    "    now_list = []\n",
    "    text = i\n",
    "    tokens = word_tokenize(text)\n",
    "    stop_words = set(stopwords.words('russian'))\n",
    "    filtered_tokens = [word for word in tokens if word not in stop_words]\n",
    "    grade_1_list.append(filtered_tokens)\n",
    "len(grade_1_list)"
   ]
  },
  {
   "cell_type": "code",
   "execution_count": null,
   "id": "cd7870ec-9161-40fc-aeda-2520890fbca8",
   "metadata": {},
   "outputs": [],
   "source": [
    "#оценка 1\n",
    "grade_1_lemmas = [] #получаю леммы всего текста\n",
    "for text in grade_1_list:\n",
    "    for token in text:\n",
    "        grade_1_lemmas.append(morph.normal_forms(token)[0])\n",
    "\n",
    "len(grade_1_lemmas)"
   ]
  },
  {
   "cell_type": "markdown",
   "id": "7c60f1b2-0868-4bdf-8201-539ef0cfab66",
   "metadata": {},
   "source": [
    "Посмотрим на ключевые слова отзывов с оценкой 1:"
   ]
  },
  {
   "cell_type": "code",
   "execution_count": 47,
   "id": "b9ed7376-d17b-4907-a7b9-b2979c626dda",
   "metadata": {},
   "outputs": [],
   "source": [
    "grade_1=[] #теперь все отзывы с оценкой 1 это один большой текст\n",
    "grade_1.append(' '.join(grade_1_lemmas))"
   ]
  },
  {
   "cell_type": "code",
   "execution_count": 580,
   "id": "aa98128e-ccb2-444f-be86-26130be328cd",
   "metadata": {},
   "outputs": [],
   "source": [
    "df = pd.DataFrame(grade_1, columns=['text'])"
   ]
  },
  {
   "cell_type": "code",
   "execution_count": 582,
   "id": "9c5018fe-bd2b-46b1-83ec-20d7b6a68a93",
   "metadata": {},
   "outputs": [],
   "source": [
    "# Создание объекта TfidfVectorizer\n",
    "vectorizer = TfidfVectorizer()\n",
    "\n",
    "# Преобразование текстов в TF-IDF матрицу\n",
    "tfidf_matrix = vectorizer.fit_transform(df['text'])\n",
    "\n",
    "# Преобразование матрицы в DataFrame для удобства\n",
    "tfidf_df = pd.DataFrame(tfidf_matrix.toarray(), columns=vectorizer.get_feature_names_out())"
   ]
  },
  {
   "cell_type": "code",
   "execution_count": 584,
   "id": "c6ff5a0c-59ff-462f-8bdb-19b383026350",
   "metadata": {},
   "outputs": [
    {
     "name": "stdout",
     "output_type": "stream",
     "text": [
      "             TF-IDF\n",
      "банк       0.546839\n",
      "карта      0.292692\n",
      "это        0.184080\n",
      "деньга     0.175780\n",
      "день       0.166681\n",
      "мой        0.152416\n",
      "отделение  0.150989\n",
      "который    0.140034\n",
      "кредит     0.134571\n",
      "сотрудник  0.134154\n",
      "счёт       0.124058\n",
      "сказать    0.120756\n",
      "клиент     0.117774\n",
      "заявление  0.112315\n",
      "сумма      0.102154\n",
      "свой       0.092635\n",
      "вопрос     0.088013\n",
      "год        0.086363\n",
      "время      0.085092\n",
      "мочь       0.083762\n"
     ]
    }
   ],
   "source": [
    "df = pd.DataFrame(tfidf_matrix[0].T.todense(),\n",
    "index=vectorizer.get_feature_names_out(), columns=[\"TF-IDF\"])\n",
    "df = df.sort_values('TF-IDF', ascending=False)\n",
    "print(df[0:20])"
   ]
  },
  {
   "cell_type": "markdown",
   "id": "4e855d0e-ece5-4c8d-a3f6-6f4c19b2e4c8",
   "metadata": {},
   "source": [
    "Ключевые слова отзывов с оценкой 5:"
   ]
  },
  {
   "cell_type": "code",
   "execution_count": 520,
   "id": "de98150e-5c8b-4138-aacc-9c906e665acb",
   "metadata": {},
   "outputs": [
    {
     "data": {
      "text/plain": [
       "1990370"
      ]
     },
     "execution_count": 520,
     "metadata": {},
     "output_type": "execute_result"
    }
   ],
   "source": [
    "#оценка 5\n",
    "grade_5_lemmas = [] #пол1учаю леммы всего текста\n",
    "for text in grade_5_list:\n",
    "    for token in text:\n",
    "        grade_5_lemmas.append(morph.normal_forms(token)[0])\n",
    "\n",
    "len(grade_5_lemmas)"
   ]
  },
  {
   "cell_type": "code",
   "execution_count": 546,
   "id": "c5c8bff6-5e1f-4b59-be46-fde833b59d60",
   "metadata": {},
   "outputs": [],
   "source": [
    "grade_5=[] #теперь все отзывы с оценкой 5 это один большой текст\n",
    "grade_5.append(' '.join(grade_5_lemmas))"
   ]
  },
  {
   "cell_type": "code",
   "execution_count": 589,
   "id": "628dcfcd-b319-4780-a734-b47a0c88d4fa",
   "metadata": {},
   "outputs": [],
   "source": [
    "df = pd.DataFrame(grade_5, columns=['text'])"
   ]
  },
  {
   "cell_type": "code",
   "execution_count": 591,
   "id": "71bce030-49ac-4087-9b8d-95df2829f18d",
   "metadata": {},
   "outputs": [],
   "source": [
    "# Создание объекта TfidfVectorizer\n",
    "vectorizer = TfidfVectorizer()\n",
    "\n",
    "# Преобразование текстов в TF-IDF матрицу\n",
    "tfidf_matrix = vectorizer.fit_transform(df['text'])\n",
    "\n",
    "# Преобразование матрицы в DataFrame для удобства\n",
    "tfidf_df = pd.DataFrame(tfidf_matrix.toarray(), columns=vectorizer.get_feature_names_out())"
   ]
  },
  {
   "cell_type": "code",
   "execution_count": 593,
   "id": "e7842709-de67-43f8-94e5-990ef5e6f674",
   "metadata": {},
   "outputs": [
    {
     "name": "stdout",
     "output_type": "stream",
     "text": [
      "             TF-IDF\n",
      "банк       0.615945\n",
      "карта      0.256297\n",
      "это        0.174757\n",
      "очень      0.160515\n",
      "день       0.139281\n",
      "кредит     0.138447\n",
      "отделение  0.133421\n",
      "клиент     0.131104\n",
      "который    0.124060\n",
      "сотрудник  0.120806\n",
      "деньга     0.119539\n",
      "вклад      0.118654\n",
      "мой        0.113845\n",
      "год        0.112104\n",
      "вопрос     0.102105\n",
      "время      0.101528\n",
      "офис       0.096832\n",
      "свой       0.092208\n",
      "работа     0.089284\n",
      "счёт       0.088460\n"
     ]
    }
   ],
   "source": [
    "df = pd.DataFrame(tfidf_matrix[0].T.todense(),\n",
    "index=vectorizer.get_feature_names_out(), columns=[\"TF-IDF\"])\n",
    "df = df.sort_values('TF-IDF', ascending=False)\n",
    "print(df[0:20])"
   ]
  },
  {
   "cell_type": "markdown",
   "id": "a386ac85-f010-46f8-9818-1ce1109cad6a",
   "metadata": {},
   "source": [
    "Слова с высокой мерой очень схожи для отзывов с оценкой 1 и 5"
   ]
  },
  {
   "cell_type": "markdown",
   "id": "cc11e2c0-943e-4e93-bd50-96f728d7dd51",
   "metadata": {},
   "source": [
    "##### Теперь биграммы, для разнообразия их для всех текстов посчитаем\n",
    "Как обычно сначала для первых трёх текстов:"
   ]
  },
  {
   "cell_type": "code",
   "execution_count": 210,
   "id": "74338189-74ce-4a5a-89cb-6a9f3d798a56",
   "metadata": {},
   "outputs": [
    {
     "data": {
      "text/plain": [
       "'досрочно закрывать вклад отпуск жена заказывать заранее забыть заказать сотрудник банк спб ленсовет наталья отказать хотя сумма значительный работать быстро профессионально лишний жаль прикрыть приём вклад офис озерко доступность офис заметить нести деньга вклад брать кредит желать успех банк'"
      ]
     },
     "execution_count": 210,
     "metadata": {},
     "output_type": "execute_result"
    }
   ],
   "source": [
    "documents[0] #здест первые три текста после предыдущих манипуляций"
   ]
  },
  {
   "cell_type": "code",
   "execution_count": 48,
   "id": "8f5ab5b8-685a-4429-9bba-8a1ea4da95c6",
   "metadata": {},
   "outputs": [
    {
     "name": "stdout",
     "output_type": "stream",
     "text": [
      "открыть\n"
     ]
    }
   ],
   "source": [
    "print(grade_1_lemmas[0]) #здест первые три текста после предыдущих манипуляций"
   ]
  },
  {
   "cell_type": "code",
   "execution_count": 212,
   "id": "6b626a61-a400-461c-b7cd-5cdc4510aa5a",
   "metadata": {},
   "outputs": [
    {
     "data": {
      "text/plain": [
       "[('досрочно', 'закрывать'), ('закрывать', 'вклад'), ('вклад', 'отпуск')]"
      ]
     },
     "execution_count": 212,
     "metadata": {},
     "output_type": "execute_result"
    }
   ],
   "source": [
    "from nltk.util import ngrams #смотрим как работает\n",
    "list(ngrams(['досрочно', 'закрывать', 'вклад', 'отпуск'], 2))"
   ]
  },
  {
   "cell_type": "code",
   "execution_count": 226,
   "id": "6f247a5f-e1e1-4eb0-9fb9-0a8ef80505b5",
   "metadata": {},
   "outputs": [
    {
     "name": "stdout",
     "output_type": "stream",
     "text": [
      "[['досрочно', 'закрывать', 'вклад', 'отпуск', 'жена', 'заказывать', 'заранее', 'забыть', 'заказать', 'сотрудник', 'банк', 'спб', 'ленсовет', 'наталья', 'отказать', 'хотя', 'сумма', 'значительный', 'работать', 'быстро', 'профессионально', 'лишний', 'жаль', 'прикрыть', 'приём', 'вклад', 'офис', 'озерко', 'доступность', 'офис', 'заметить', 'нести', 'деньга', 'вклад', 'брать', 'кредит', 'желать', 'успех', 'банк'], ['хотеть', 'открыть', 'вклад', 'доходный', 'год', 'процент', 'начисляться', 'лесенка', 'месяц', 'месяц', 'месяц', 'условие', 'общий', 'объём', 'дополнительный', 'взнос', 'превышать', 'сумма', 'первоначальный', 'взнос', 'вклад', 'нужный', 'вклад', 'возможность', 'пополнение', 'значит', 'сразу', 'делать', 'большой', 'первоначальный', 'взнос', 'прийти', 'офис', 'банк', 'нижний', 'новгород', 'спросить', 'операционист', 'мочь', 'открыть', 'вклад', 'доходный', 'внести', 'деньга', 'межбанковский', 'перевод', 'ответ', 'мочь', 'открыть', 'счёт', 'вклад', 'текущий', 'счёт', 'счёт', 'карта', 'сам', 'карта', 'выдать', 'пройти', 'касса', 'внести', 'наличные', 'сумма', 'вклад', 'касса', 'хотеть', 'сделать', 'межбанк', 'перевод', 'сразу', 'сказать', 'несколько', 'день', 'ставка', 'вкладудоходный', 'снизить', 'почему', 'поставить', 'балл', 'условие', 'вклад', 'объяснить', 'дать', 'подписать', 'договор', 'открыть', 'счетвклад', 'пополнить', 'вклад', 'дать', 'снизить', 'ставка', 'это', 'банк', 'хотя', 'весь', 'остальной', 'банк', 'понравиться', 'надеяться', 'долгий', 'сотрудничество', 'вопрос', 'представитель', 'банк', 'мочь', 'пополнить', 'свой', 'открытый', 'счёт', 'вклад', 'условие', 'ставка']]\n"
     ]
    }
   ],
   "source": [
    "print(grade_5_lemmas[0:2])"
   ]
  },
  {
   "cell_type": "code",
   "execution_count": 214,
   "id": "0d259433-fc85-4b45-aaff-9902aa0202bd",
   "metadata": {},
   "outputs": [
    {
     "name": "stdout",
     "output_type": "stream",
     "text": [
      "[('досрочно', 'закрывать'), ('закрывать', 'вклад'), ('вклад', 'отпуск'), ('отпуск', 'жена'), ('жена', 'заказывать'), ('заказывать', 'заранее'), ('заранее', 'забыть'), ('забыть', 'заказать'), ('заказать', 'сотрудник'), ('сотрудник', 'банк'), ('банк', 'спб'), ('спб', 'ленсовет'), ('ленсовет', 'наталья'), ('наталья', 'отказать'), ('отказать', 'хотя'), ('хотя', 'сумма'), ('сумма', 'значительный'), ('значительный', 'работать'), ('работать', 'быстро'), ('быстро', 'профессионально'), ('профессионально', 'лишний'), ('лишний', 'жаль'), ('жаль', 'прикрыть'), ('прикрыть', 'приём'), ('приём', 'вклад'), ('вклад', 'офис'), ('офис', 'озерко'), ('озерко', 'доступность'), ('доступность', 'офис'), ('офис', 'заметить'), ('заметить', 'нести'), ('нести', 'деньга'), ('деньга', 'вклад'), ('вклад', 'брать'), ('брать', 'кредит'), ('кредит', 'желать'), ('желать', 'успех'), ('успех', 'банк')]\n"
     ]
    }
   ],
   "source": [
    "from nltk.util import ngrams\n",
    "ngrams_for_3 = []\n",
    "for i in grade_5_lemmas:\n",
    "    ngrams_for_3.append(list(ngrams(i, 2)))\n",
    "print(ngrams_for_3[0])"
   ]
  },
  {
   "cell_type": "code",
   "execution_count": 218,
   "id": "1444aa9e-6885-4e8b-bca2-2ed51f199fe2",
   "metadata": {},
   "outputs": [
    {
     "name": "stdout",
     "output_type": "stream",
     "text": [
      "[['досрочно закрывать', 'закрывать вклад', 'вклад отпуск', 'отпуск жена', 'жена заказывать', 'заказывать заранее', 'заранее забыть', 'забыть заказать', 'заказать сотрудник', 'сотрудник банк', 'банк спб', 'спб ленсовет', 'ленсовет наталья', 'наталья отказать', 'отказать хотя', 'хотя сумма', 'сумма значительный', 'значительный работать', 'работать быстро', 'быстро профессионально', 'профессионально лишний', 'лишний жаль', 'жаль прикрыть', 'прикрыть приём', 'приём вклад', 'вклад офис', 'офис озерко', 'озерко доступность', 'доступность офис', 'офис заметить', 'заметить нести', 'нести деньга', 'деньга вклад', 'вклад брать', 'брать кредит', 'кредит желать', 'желать успех', 'успех банк'], ['хотеть открыть', 'открыть вклад', 'вклад доходный', 'доходный год', 'год процент', 'процент начисляться', 'начисляться лесенка', 'лесенка месяц', 'месяц месяц', 'месяц месяц', 'месяц условие', 'условие общий', 'общий объём', 'объём дополнительный', 'дополнительный взнос', 'взнос превышать', 'превышать сумма', 'сумма первоначальный', 'первоначальный взнос', 'взнос вклад', 'вклад нужный', 'нужный вклад', 'вклад возможность', 'возможность пополнение', 'пополнение значит', 'значит сразу', 'сразу делать', 'делать большой', 'большой первоначальный', 'первоначальный взнос', 'взнос прийти', 'прийти офис', 'офис банк', 'банк нижний', 'нижний новгород', 'новгород спросить', 'спросить операционист', 'операционист мочь', 'мочь открыть', 'открыть вклад', 'вклад доходный', 'доходный внести', 'внести деньга', 'деньга межбанковский', 'межбанковский перевод', 'перевод ответ', 'ответ мочь', 'мочь открыть', 'открыть счёт', 'счёт вклад', 'вклад текущий', 'текущий счёт', 'счёт счёт', 'счёт карта', 'карта сам', 'сам карта', 'карта выдать', 'выдать пройти', 'пройти касса', 'касса внести', 'внести наличные', 'наличные сумма', 'сумма вклад', 'вклад касса', 'касса хотеть', 'хотеть сделать', 'сделать межбанк', 'межбанк перевод', 'перевод сразу', 'сразу сказать', 'сказать несколько', 'несколько день', 'день ставка', 'ставка вкладудоходный', 'вкладудоходный снизить', 'снизить почему', 'почему поставить', 'поставить балл', 'балл условие', 'условие вклад', 'вклад объяснить', 'объяснить дать', 'дать подписать', 'подписать договор', 'договор открыть', 'открыть счетвклад', 'счетвклад пополнить', 'пополнить вклад', 'вклад дать', 'дать снизить', 'снизить ставка', 'ставка это', 'это банк', 'банк хотя', 'хотя весь', 'весь остальной', 'остальной банк', 'банк понравиться', 'понравиться надеяться', 'надеяться долгий', 'долгий сотрудничество', 'сотрудничество вопрос', 'вопрос представитель', 'представитель банк', 'банк мочь', 'мочь пополнить', 'пополнить свой', 'свой открытый', 'открытый счёт', 'счёт вклад', 'вклад условие', 'условие ставка'], ['вчера июнь', 'июнь просидеть', 'просидеть очередь', 'очередь х', 'х час', 'час получение', 'получение страховой', 'страховой выплата', 'выплата банк', 'банк транспортный', 'транспортный администратор', 'администратор пообещать', 'пообещать выгнать', 'выгнать закрытие', 'закрытие отделение', 'отделение произойти', 'произойти сбой', 'сбой остаться', 'остаться решить', 'решить прийти', 'прийти сегодня', 'сегодня июнь', 'июнь девушка', 'девушка администратор', 'администратор встретить', 'встретить сегодня', 'сегодня помочь', 'помочь быстро', 'быстро попасть', 'попасть операционист', 'операционист оформление', 'оформление документ', 'документ очень', 'очень приветливый', 'приветливый каждый', 'каждый заминка', 'заминка свой', 'свой вина', 'вина извиняться', 'извиняться решить', 'решить подробно', 'подробно посмотреть', 'посмотреть сайт', 'сайт банк', 'банк воспользоваться', 'воспользоваться услуга', 'услуга предложить', 'предложить оформить', 'оформить карта', 'карта понимать', 'понимать данный', 'данный момент', 'момент очередь', 'очередь сидеть', 'сидеть человек', 'человек который', 'который ждать', 'ждать выплата', 'выплата решить', 'решить приехать', 'приехать отделение', 'отделение спасть', 'спасть наплыть', 'наплыть повториться', 'повториться очень', 'очень довольный', 'довольный обслуживание', 'обслуживание обслуживаться', 'обслуживаться многий', 'многий банк', 'банк сравнивать', 'сравнивать спасибо']]\n"
     ]
    }
   ],
   "source": [
    "list_bigram = []\n",
    "for text in ngrams_for_3:\n",
    "    one_text_bi = []\n",
    "    for bi in text:\n",
    "        a = bi[0]+' '+bi[1]\n",
    "        one_text_bi.append(a)\n",
    "    list_bigram.append(one_text_bi)\n",
    "    \n",
    "#print(list_bigram[0:2])\n",
    "print(list_bigram)"
   ]
  },
  {
   "cell_type": "code",
   "execution_count": 25,
   "id": "cf9eaad2-65b0-49cc-809b-18118ef3b3ca",
   "metadata": {},
   "outputs": [],
   "source": [
    "vectorizer = TfidfVectorizer(ngram_range = (2, 2)) "
   ]
  },
  {
   "cell_type": "code",
   "execution_count": 28,
   "id": "0fb05ddb-0d10-4bce-8585-f3d898c25ecc",
   "metadata": {},
   "outputs": [],
   "source": [
    "# Создание объекта TfidfVectorizer\n",
    "vectorizer = TfidfVectorizer(ngram_range = (2, 2))\n",
    "\n",
    "# Преобразование текстов в TF-IDF матрицу\n",
    "tfidf_matrix = vectorizer.fit_transform(documents)\n",
    "\n",
    "# Преобразование матрицы в DataFrame для удобства\n",
    "tfidf_df = pd.DataFrame(tfidf_matrix.toarray(), columns=vectorizer.get_feature_names_out())"
   ]
  },
  {
   "cell_type": "code",
   "execution_count": 35,
   "id": "ea884e80",
   "metadata": {},
   "outputs": [
    {
     "name": "stdout",
     "output_type": "stream",
     "text": [
      "                       TF-IDF\n",
      "прикрыть приём       0.162221\n",
      "кредит желать        0.162221\n",
      "заранее забыть       0.162221\n",
      "приём вклад          0.162221\n",
      "хотя сумма           0.162221\n",
      "...                       ...\n",
      "сразу делать         0.000000\n",
      "пройти касса         0.000000\n",
      "сравнивать спасибо   0.000000\n",
      "процент начисляться  0.000000\n",
      "это банк             0.000000\n",
      "\n",
      "[215 rows x 1 columns]\n",
      "[0.16222142 0.        ]\n"
     ]
    }
   ],
   "source": [
    "df = pd.DataFrame(tfidf_matrix[0].T.todense(),\n",
    "index=vectorizer.get_feature_names_out(), columns=[\"TF-IDF\"])\n",
    "df = df.sort_values('TF-IDF', ascending=False)\n",
    "print(df.sort_values(by='TF-IDF', ascending=False))\n",
    "print(df['TF-IDF'].unique())"
   ]
  },
  {
   "cell_type": "markdown",
   "id": "07cb9c5b",
   "metadata": {},
   "source": [
    "___________________\n",
    "Для 2000 текстов биграммы:"
   ]
  },
  {
   "cell_type": "code",
   "execution_count": 228,
   "id": "c4694fc1-5b06-45c5-ac7a-e42c8af2a2bd",
   "metadata": {},
   "outputs": [
    {
     "data": {
      "text/plain": [
       "'Добрый день Я не являюсь клиентом банка и поручителем по кредитному договору а также не являюсь какимлибо другим лицом письменно  оформившим отношения с банком по поводу урегулирования чьейлибо  задолженности  Начиная с марта  года начали приходить бесконечные письма из ООО Примо коллектна мой адрес город Москва Уваровский переулок дом  квартира  с угрозами о возбуждении уголовного дела в отношении гражданина Филиппова Эдуарда Владимировича который уклоняется от уплаты взятых им кредитов договор   от  года и договор   от  года Со всей ответственностью хочу Вас заверить что вышеуказанный гражданин которого Вы разыскиваете мне не знаком и никогда в моем адресе не был зарегистрирован Каким образом Вы не удостоверившись в подлинности его документов оформили на его имя кредитный договор мне по меньшей мере не понятно и почему по Вашей милости я должна переживать и бояться за себе и свое имущество Письма доставляют мне серьезные неудобства нарушают мои гражданские права а также нарушают закон о защите персональных данных Убедительно прошу прекратить посылать на мой адрес письма с угрозами по вопросам к которым я не имею отношения В случае отклонения моей претензии буду вынуждена обратиться с жалобами в  другие органы Росспотребнадзор Центральный банк Службу Финансового  омбудсмена Кроме этого будет подано заявление в полицию и заявление в  суд возмещение причиненного мне морального вреда Надеюсь на скорое решение моего вопроса'"
      ]
     },
     "execution_count": 228,
     "metadata": {},
     "output_type": "execute_result"
    }
   ],
   "source": [
    "### предобработка ###\n",
    "text_clean = []\n",
    "for i in texts:\n",
    "    text_clean.append(re.sub(r'[^a-zA-Zа-яА-ЯеЁ ]', '', i))\n",
    "text_clean[0]"
   ]
  },
  {
   "cell_type": "code",
   "execution_count": 230,
   "id": "9aee0213-6dd4-45cc-bb0b-cc118a59186c",
   "metadata": {},
   "outputs": [
    {
     "data": {
      "text/plain": [
       "153499"
      ]
     },
     "execution_count": 230,
     "metadata": {},
     "output_type": "execute_result"
    }
   ],
   "source": [
    "len(text_clean)"
   ]
  },
  {
   "cell_type": "code",
   "execution_count": 232,
   "id": "7bf4b88f-59d4-41f2-94c9-1d0e5f98ab2f",
   "metadata": {},
   "outputs": [
    {
     "data": {
      "text/plain": [
       "'добрый день я не являюсь клиентом банка и поручителем по кредитному договору а также не являюсь какимлибо другим лицом письменно  оформившим отношения с банком по поводу урегулирования чьейлибо  задолженности  начиная с марта  года начали приходить бесконечные письма из ооо примо коллектна мой адрес город москва уваровский переулок дом  квартира  с угрозами о возбуждении уголовного дела в отношении гражданина филиппова эдуарда владимировича который уклоняется от уплаты взятых им кредитов договор   от  года и договор   от  года со всей ответственностью хочу вас заверить что вышеуказанный гражданин которого вы разыскиваете мне не знаком и никогда в моем адресе не был зарегистрирован каким образом вы не удостоверившись в подлинности его документов оформили на его имя кредитный договор мне по меньшей мере не понятно и почему по вашей милости я должна переживать и бояться за себе и свое имущество письма доставляют мне серьезные неудобства нарушают мои гражданские права а также нарушают закон о защите персональных данных убедительно прошу прекратить посылать на мой адрес письма с угрозами по вопросам к которым я не имею отношения в случае отклонения моей претензии буду вынуждена обратиться с жалобами в  другие органы росспотребнадзор центральный банк службу финансового  омбудсмена кроме этого будет подано заявление в полицию и заявление в  суд возмещение причиненного мне морального вреда надеюсь на скорое решение моего вопроса'"
      ]
     },
     "execution_count": 232,
     "metadata": {},
     "output_type": "execute_result"
    }
   ],
   "source": [
    "texts_clean_lower = []\n",
    "for i in text_clean:\n",
    "    texts_clean_lower.append(i.lower())\n",
    "texts_clean_lower[0]"
   ]
  },
  {
   "cell_type": "code",
   "execution_count": 234,
   "id": "fac84c6a-749c-45a3-99d4-f2fdd74a53ad",
   "metadata": {},
   "outputs": [
    {
     "data": {
      "text/plain": [
       "153499"
      ]
     },
     "execution_count": 234,
     "metadata": {},
     "output_type": "execute_result"
    }
   ],
   "source": [
    "len(texts_clean_lower)"
   ]
  },
  {
   "cell_type": "code",
   "execution_count": 236,
   "id": "0a1ed3a3-babe-44d2-8fa4-361b28568f25",
   "metadata": {},
   "outputs": [
    {
     "name": "stdout",
     "output_type": "stream",
     "text": [
      "['добрый', 'день', 'являюсь', 'клиентом', 'банка', 'поручителем', 'кредитному', 'договору', 'также', 'являюсь', 'какимлибо', 'другим', 'лицом', 'письменно', 'оформившим', 'отношения', 'банком', 'поводу', 'урегулирования', 'чьейлибо', 'задолженности', 'начиная', 'марта', 'года', 'начали', 'приходить', 'бесконечные', 'письма', 'ооо', 'примо', 'коллектна', 'адрес', 'город', 'москва', 'уваровский', 'переулок', 'дом', 'квартира', 'угрозами', 'возбуждении', 'уголовного', 'дела', 'отношении', 'гражданина', 'филиппова', 'эдуарда', 'владимировича', 'который', 'уклоняется', 'уплаты', 'взятых', 'кредитов', 'договор', 'года', 'договор', 'года', 'всей', 'ответственностью', 'хочу', 'заверить', 'вышеуказанный', 'гражданин', 'которого', 'разыскиваете', 'знаком', 'моем', 'адресе', 'зарегистрирован', 'каким', 'образом', 'удостоверившись', 'подлинности', 'документов', 'оформили', 'имя', 'кредитный', 'договор', 'меньшей', 'мере', 'понятно', 'почему', 'вашей', 'милости', 'должна', 'переживать', 'бояться', 'свое', 'имущество', 'письма', 'доставляют', 'серьезные', 'неудобства', 'нарушают', 'мои', 'гражданские', 'права', 'также', 'нарушают', 'закон', 'защите', 'персональных', 'данных', 'убедительно', 'прошу', 'прекратить', 'посылать', 'адрес', 'письма', 'угрозами', 'вопросам', 'которым', 'имею', 'отношения', 'случае', 'отклонения', 'моей', 'претензии', 'буду', 'вынуждена', 'обратиться', 'жалобами', 'другие', 'органы', 'росспотребнадзор', 'центральный', 'банк', 'службу', 'финансового', 'омбудсмена', 'кроме', 'подано', 'заявление', 'полицию', 'заявление', 'суд', 'возмещение', 'причиненного', 'морального', 'вреда', 'надеюсь', 'скорое', 'решение', 'моего', 'вопроса']\n"
     ]
    }
   ],
   "source": [
    "import nltk\n",
    "from nltk.corpus import stopwords\n",
    "from nltk.tokenize import word_tokenize\n",
    "texts_list = []\n",
    "\n",
    "for i in texts_clean_lower:\n",
    "    now_list = []\n",
    "    text = i\n",
    "    tokens = word_tokenize(text)\n",
    "    stop_words = set(stopwords.words('russian'))\n",
    "    filtered_tokens = [word for word in tokens if word not in stop_words]\n",
    "    texts_list.append(filtered_tokens)\n",
    "print(texts_list[0])"
   ]
  },
  {
   "cell_type": "code",
   "execution_count": 280,
   "id": "9ee651c3-8d0a-4a41-8382-0707e6a56619",
   "metadata": {},
   "outputs": [
    {
     "name": "stdout",
     "output_type": "stream",
     "text": [
      "['добрый день являюсь клиентом банка поручителем кредитному договору также являюсь какимлибо другим лицом письменно оформившим отношения банком поводу урегулирования чьейлибо задолженности начиная марта года начали приходить бесконечные письма ооо примо коллектна адрес город москва уваровский переулок дом квартира угрозами возбуждении уголовного дела отношении гражданина филиппова эдуарда владимировича который уклоняется уплаты взятых кредитов договор года договор года всей ответственностью хочу заверить вышеуказанный гражданин которого разыскиваете знаком моем адресе зарегистрирован каким образом удостоверившись подлинности документов оформили имя кредитный договор меньшей мере понятно почему вашей милости должна переживать бояться свое имущество письма доставляют серьезные неудобства нарушают мои гражданские права также нарушают закон защите персональных данных убедительно прошу прекратить посылать адрес письма угрозами вопросам которым имею отношения случае отклонения моей претензии буду вынуждена обратиться жалобами другие органы росспотребнадзор центральный банк службу финансового омбудсмена кроме подано заявление полицию заявление суд возмещение причиненного морального вреда надеюсь скорое решение моего вопроса', 'доброго дня являюсь держателем зарплатной карты выданной сбербанком россии году сменила фамилию предоставила банк документы копию нового паспорта свидетельства браке перевыпустили карту фамилию мужа токарева мария александровна девичья секлетина возникла необходимость подключить услугу сбербанк онлайн получилось главной странице отображались мои карты связалась техническим специалистом отделения сбербанка котором обслуживалась пояснил базе банка ещ девичьей фамилией секлетина предложил выслать сканы необходимых документов выслала оставив контакты звонка дождалась чз некоторое время звоню сама объясняю ситуацию пробивают базе числюсь секлетиной хотя карту перевыпустили фамилию токарева связи истечением срока обслуживания высылаю документы копию паспорта свидетельства браке результат ноль прошу помочь разобраться ситуации уважением токарева мария александровна']\n"
     ]
    }
   ],
   "source": [
    "documents = []\n",
    "for text in texts_list:\n",
    "    one_document = []\n",
    "    for word in text:\n",
    "        one_document.append(word)\n",
    "    documents.append(' '.join(one_document))\n",
    "print(documents[0:2])"
   ]
  },
  {
   "cell_type": "code",
   "execution_count": 282,
   "id": "2ee6e9f1",
   "metadata": {},
   "outputs": [],
   "source": [
    "from sklearn.feature_extraction.text import TfidfVectorizer\n",
    "vectorizer = TfidfVectorizer(ngram_range = (2, 2)) #как будто можно было сразу использовать биграммы из библиотеки на целиковом тексте..."
   ]
  },
  {
   "cell_type": "code",
   "execution_count": 286,
   "id": "0a9e3f74",
   "metadata": {},
   "outputs": [],
   "source": [
    "# Создание объекта TfidfVectorizer\n",
    "vectorizer = TfidfVectorizer(ngram_range = (2, 2))\n",
    "\n",
    "# Преобразование текстов в TF-IDF матрицу\n",
    "tfidf_matrix = vectorizer.fit_transform(documents[0:2000])\n",
    "\n",
    "# Преобразование матрицы в DataFrame для удобства\n",
    "tfidf_df = pd.DataFrame(tfidf_matrix.toarray(), columns=vectorizer.get_feature_names_out())"
   ]
  },
  {
   "cell_type": "code",
   "execution_count": 290,
   "id": "2fadf1da",
   "metadata": {},
   "outputs": [
    {
     "name": "stdout",
     "output_type": "stream",
     "text": [
      "                           TF-IDF\n",
      "договор года             0.167596\n",
      "случае отклонения        0.088326\n",
      "также нарушают           0.088326\n",
      "данных убедительно       0.088326\n",
      "омбудсмена кроме         0.088326\n",
      "угрозами возбуждении     0.088326\n",
      "угрозами вопросам        0.088326\n",
      "который уклоняется       0.088326\n",
      "гражданские права        0.088326\n",
      "адрес город              0.088326\n",
      "причиненного морального  0.088326\n",
      "отношении гражданина     0.088326\n",
      "органы росспотребнадзор  0.088326\n",
      "мои гражданские          0.088326\n",
      "бесконечные письма       0.088326\n",
      "вышеуказанный гражданин  0.088326\n",
      "квартира угрозами        0.088326\n",
      "задолженности начиная    0.088326\n",
      "коллектна адрес          0.088326\n",
      "образом удостоверившись  0.088326\n"
     ]
    }
   ],
   "source": [
    "df = pd.DataFrame(tfidf_matrix[0].T.todense(),\n",
    "index=vectorizer.get_feature_names_out(), columns=[\"TF-IDF\"])\n",
    "df = df.sort_values('TF-IDF', ascending=False)\n",
    "print(df[0:20])\n",
    "#print(df['TF-IDF'].unique())"
   ]
  },
  {
   "cell_type": "markdown",
   "id": "4a88c013",
   "metadata": {},
   "source": [
    "### Вывод по первой части:\n",
    "Изобретала предобработку с нуля, гораздо удобнее обрабатывать сразу всё через датафрейм и нормально хранить, что я поняла в следующих частях работы.\n",
    "\n",
    "Также у меня в куче мест дублируется код, так как приходилось работать за несколькими компьютерами и мне удобнее было запускать программу с середины. Стоило бы вынести всю предобработку отдельной функцией, а затем уже адаптировать текст под конкретную задачу. (либо не изобретать велосипед, а делать сразу нормально как в практиках рассказывали через датафрейм и функции там тоже есть)"
   ]
  }
 ],
 "metadata": {
  "kernelspec": {
   "display_name": "Python 3 (ipykernel)",
   "language": "python",
   "name": "python3"
  },
  "language_info": {
   "codemirror_mode": {
    "name": "ipython",
    "version": 3
   },
   "file_extension": ".py",
   "mimetype": "text/x-python",
   "name": "python",
   "nbconvert_exporter": "python",
   "pygments_lexer": "ipython3",
   "version": "3.11.5"
  }
 },
 "nbformat": 4,
 "nbformat_minor": 5
}
