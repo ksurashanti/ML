{
 "cells": [
  {
   "cell_type": "markdown",
   "id": "d6427946",
   "metadata": {},
   "source": [
    "### 1. Сгенерируйте данные с помощью кода"
   ]
  },
  {
   "cell_type": "code",
   "execution_count": 1,
   "id": "d49f4fbb",
   "metadata": {},
   "outputs": [],
   "source": [
    "from sklearn.datasets import make_classification\n",
    "x_data_generated, y_data_generated = make_classification(scale=1)"
   ]
  },
  {
   "cell_type": "code",
   "execution_count": 2,
   "id": "57ffe6f6",
   "metadata": {},
   "outputs": [
    {
     "data": {
      "text/plain": [
       "array([[ 0.52250033, -0.18393884,  0.54777846, ..., -0.16946702,\n",
       "        -2.71007998,  1.72767528],\n",
       "       [ 0.32920995, -0.89091747,  0.24246825, ..., -0.4345322 ,\n",
       "         0.91471977,  1.49476447],\n",
       "       [ 1.58457983, -1.58357343, -0.29840953, ..., -2.71636365,\n",
       "        -0.20603709, -0.52158213],\n",
       "       ...,\n",
       "       [ 1.62749376, -2.1562638 , -0.37554523, ...,  0.4831148 ,\n",
       "         2.43012402, -0.48202123],\n",
       "       [ 1.88002913,  0.4866338 ,  0.95264039, ...,  2.23744005,\n",
       "         1.21994969, -1.7578802 ],\n",
       "       [-1.29287614, -0.12298926, -0.97714003, ...,  2.2176892 ,\n",
       "        -0.51344106, -0.72272112]])"
      ]
     },
     "execution_count": 2,
     "metadata": {},
     "output_type": "execute_result"
    }
   ],
   "source": [
    "x_data_generated"
   ]
  },
  {
   "cell_type": "code",
   "execution_count": 3,
   "id": "bf2d2c0d",
   "metadata": {},
   "outputs": [
    {
     "data": {
      "text/plain": [
       "array([1, 1, 1, 0, 0, 0, 1, 1, 0, 0, 0, 0, 1, 1, 0, 0, 0, 1, 1, 1, 1, 1,\n",
       "       1, 1, 0, 0, 1, 0, 0, 1, 1, 0, 0, 0, 0, 0, 0, 1, 0, 1, 1, 1, 0, 1,\n",
       "       1, 0, 1, 1, 1, 1, 0, 1, 1, 0, 1, 0, 1, 1, 1, 0, 0, 0, 1, 1, 1, 0,\n",
       "       0, 1, 0, 1, 1, 0, 1, 1, 0, 0, 0, 1, 0, 1, 1, 1, 1, 1, 0, 0, 0, 1,\n",
       "       1, 0, 0, 0, 1, 1, 0, 0, 0, 0, 0, 0])"
      ]
     },
     "execution_count": 3,
     "metadata": {},
     "output_type": "execute_result"
    }
   ],
   "source": [
    "y_data_generated"
   ]
  },
  {
   "cell_type": "markdown",
   "id": "d4b8587e",
   "metadata": {},
   "source": [
    "### 2. Постройте модель логистической регрессии и оцените среднюю точность"
   ]
  },
  {
   "cell_type": "code",
   "execution_count": 4,
   "id": "47253dd0",
   "metadata": {},
   "outputs": [],
   "source": [
    "from sklearn.model_selection import train_test_split\n",
    "from sklearn.linear_model import LogisticRegression"
   ]
  },
  {
   "cell_type": "code",
   "execution_count": 5,
   "id": "0526b21d",
   "metadata": {},
   "outputs": [],
   "source": [
    "X_train, X_test, y_train, y_test = train_test_split(x_data_generated, y_data_generated, test_size=0.2, random_state=42)"
   ]
  },
  {
   "cell_type": "code",
   "execution_count": 6,
   "id": "a626dda6",
   "metadata": {},
   "outputs": [],
   "source": [
    "model = LogisticRegression()"
   ]
  },
  {
   "cell_type": "code",
   "execution_count": 7,
   "id": "ae5ff86b",
   "metadata": {},
   "outputs": [
    {
     "data": {
      "text/html": [
       "<style>#sk-container-id-1 {color: black;}#sk-container-id-1 pre{padding: 0;}#sk-container-id-1 div.sk-toggleable {background-color: white;}#sk-container-id-1 label.sk-toggleable__label {cursor: pointer;display: block;width: 100%;margin-bottom: 0;padding: 0.3em;box-sizing: border-box;text-align: center;}#sk-container-id-1 label.sk-toggleable__label-arrow:before {content: \"▸\";float: left;margin-right: 0.25em;color: #696969;}#sk-container-id-1 label.sk-toggleable__label-arrow:hover:before {color: black;}#sk-container-id-1 div.sk-estimator:hover label.sk-toggleable__label-arrow:before {color: black;}#sk-container-id-1 div.sk-toggleable__content {max-height: 0;max-width: 0;overflow: hidden;text-align: left;background-color: #f0f8ff;}#sk-container-id-1 div.sk-toggleable__content pre {margin: 0.2em;color: black;border-radius: 0.25em;background-color: #f0f8ff;}#sk-container-id-1 input.sk-toggleable__control:checked~div.sk-toggleable__content {max-height: 200px;max-width: 100%;overflow: auto;}#sk-container-id-1 input.sk-toggleable__control:checked~label.sk-toggleable__label-arrow:before {content: \"▾\";}#sk-container-id-1 div.sk-estimator input.sk-toggleable__control:checked~label.sk-toggleable__label {background-color: #d4ebff;}#sk-container-id-1 div.sk-label input.sk-toggleable__control:checked~label.sk-toggleable__label {background-color: #d4ebff;}#sk-container-id-1 input.sk-hidden--visually {border: 0;clip: rect(1px 1px 1px 1px);clip: rect(1px, 1px, 1px, 1px);height: 1px;margin: -1px;overflow: hidden;padding: 0;position: absolute;width: 1px;}#sk-container-id-1 div.sk-estimator {font-family: monospace;background-color: #f0f8ff;border: 1px dotted black;border-radius: 0.25em;box-sizing: border-box;margin-bottom: 0.5em;}#sk-container-id-1 div.sk-estimator:hover {background-color: #d4ebff;}#sk-container-id-1 div.sk-parallel-item::after {content: \"\";width: 100%;border-bottom: 1px solid gray;flex-grow: 1;}#sk-container-id-1 div.sk-label:hover label.sk-toggleable__label {background-color: #d4ebff;}#sk-container-id-1 div.sk-serial::before {content: \"\";position: absolute;border-left: 1px solid gray;box-sizing: border-box;top: 0;bottom: 0;left: 50%;z-index: 0;}#sk-container-id-1 div.sk-serial {display: flex;flex-direction: column;align-items: center;background-color: white;padding-right: 0.2em;padding-left: 0.2em;position: relative;}#sk-container-id-1 div.sk-item {position: relative;z-index: 1;}#sk-container-id-1 div.sk-parallel {display: flex;align-items: stretch;justify-content: center;background-color: white;position: relative;}#sk-container-id-1 div.sk-item::before, #sk-container-id-1 div.sk-parallel-item::before {content: \"\";position: absolute;border-left: 1px solid gray;box-sizing: border-box;top: 0;bottom: 0;left: 50%;z-index: -1;}#sk-container-id-1 div.sk-parallel-item {display: flex;flex-direction: column;z-index: 1;position: relative;background-color: white;}#sk-container-id-1 div.sk-parallel-item:first-child::after {align-self: flex-end;width: 50%;}#sk-container-id-1 div.sk-parallel-item:last-child::after {align-self: flex-start;width: 50%;}#sk-container-id-1 div.sk-parallel-item:only-child::after {width: 0;}#sk-container-id-1 div.sk-dashed-wrapped {border: 1px dashed gray;margin: 0 0.4em 0.5em 0.4em;box-sizing: border-box;padding-bottom: 0.4em;background-color: white;}#sk-container-id-1 div.sk-label label {font-family: monospace;font-weight: bold;display: inline-block;line-height: 1.2em;}#sk-container-id-1 div.sk-label-container {text-align: center;}#sk-container-id-1 div.sk-container {/* jupyter's `normalize.less` sets `[hidden] { display: none; }` but bootstrap.min.css set `[hidden] { display: none !important; }` so we also need the `!important` here to be able to override the default hidden behavior on the sphinx rendered scikit-learn.org. See: https://github.com/scikit-learn/scikit-learn/issues/21755 */display: inline-block !important;position: relative;}#sk-container-id-1 div.sk-text-repr-fallback {display: none;}</style><div id=\"sk-container-id-1\" class=\"sk-top-container\"><div class=\"sk-text-repr-fallback\"><pre>LogisticRegression()</pre><b>In a Jupyter environment, please rerun this cell to show the HTML representation or trust the notebook. <br />On GitHub, the HTML representation is unable to render, please try loading this page with nbviewer.org.</b></div><div class=\"sk-container\" hidden><div class=\"sk-item\"><div class=\"sk-estimator sk-toggleable\"><input class=\"sk-toggleable__control sk-hidden--visually\" id=\"sk-estimator-id-1\" type=\"checkbox\" checked><label for=\"sk-estimator-id-1\" class=\"sk-toggleable__label sk-toggleable__label-arrow\">LogisticRegression</label><div class=\"sk-toggleable__content\"><pre>LogisticRegression()</pre></div></div></div></div></div>"
      ],
      "text/plain": [
       "LogisticRegression()"
      ]
     },
     "execution_count": 7,
     "metadata": {},
     "output_type": "execute_result"
    }
   ],
   "source": [
    "model.fit(X_train, y_train)"
   ]
  },
  {
   "cell_type": "code",
   "execution_count": 8,
   "id": "da44ce6f",
   "metadata": {},
   "outputs": [
    {
     "data": {
      "text/plain": [
       "0.85"
      ]
     },
     "execution_count": 8,
     "metadata": {},
     "output_type": "execute_result"
    }
   ],
   "source": [
    "from sklearn.model_selection import cross_val_score\n",
    "cross_val_score(LogisticRegression(), X_test, y_test, scoring='accuracy').mean()"
   ]
  },
  {
   "cell_type": "markdown",
   "id": "072246b4",
   "metadata": {},
   "source": [
    "### 3. Используйте статистические методы для отбора признаков:"
   ]
  },
  {
   "cell_type": "markdown",
   "id": "b5d3b026",
   "metadata": {},
   "source": [
    "###### a) Выберите признаки на основе матрицы корреляции."
   ]
  },
  {
   "cell_type": "code",
   "execution_count": 9,
   "id": "d61eb76d",
   "metadata": {},
   "outputs": [],
   "source": [
    "import seaborn as sns\n",
    "import pandas as pd\n",
    "import matplotlib.pyplot as plt"
   ]
  },
  {
   "cell_type": "code",
   "execution_count": 33,
   "id": "00d6eff1",
   "metadata": {},
   "outputs": [],
   "source": [
    "df = pd.DataFrame()"
   ]
  },
  {
   "cell_type": "code",
   "execution_count": 34,
   "id": "a8ceb412",
   "metadata": {},
   "outputs": [
    {
     "data": {
      "text/html": [
       "<div>\n",
       "<style scoped>\n",
       "    .dataframe tbody tr th:only-of-type {\n",
       "        vertical-align: middle;\n",
       "    }\n",
       "\n",
       "    .dataframe tbody tr th {\n",
       "        vertical-align: top;\n",
       "    }\n",
       "\n",
       "    .dataframe thead th {\n",
       "        text-align: right;\n",
       "    }\n",
       "</style>\n",
       "<table border=\"1\" class=\"dataframe\">\n",
       "  <thead>\n",
       "    <tr style=\"text-align: right;\">\n",
       "      <th></th>\n",
       "      <th>Weight</th>\n",
       "      <th>Shape</th>\n",
       "      <th>Volume</th>\n",
       "      <th>Texture</th>\n",
       "      <th>Color</th>\n",
       "      <th>Flexibility</th>\n",
       "      <th>Transparency</th>\n",
       "      <th>Conductivity</th>\n",
       "      <th>Magnetism</th>\n",
       "      <th>Smell</th>\n",
       "      <th>Taste</th>\n",
       "      <th>Hardness</th>\n",
       "      <th>Viscosity</th>\n",
       "      <th>Luminosity</th>\n",
       "      <th>Gravity</th>\n",
       "      <th>Density</th>\n",
       "      <th>Thickness</th>\n",
       "      <th>Durability</th>\n",
       "      <th>Melting point</th>\n",
       "      <th>Reflectivity</th>\n",
       "    </tr>\n",
       "  </thead>\n",
       "  <tbody>\n",
       "    <tr>\n",
       "      <th>0</th>\n",
       "      <td>0.522500</td>\n",
       "      <td>-0.183939</td>\n",
       "      <td>0.547778</td>\n",
       "      <td>-0.569312</td>\n",
       "      <td>1.085668</td>\n",
       "      <td>-1.034127</td>\n",
       "      <td>-0.365809</td>\n",
       "      <td>-1.256453</td>\n",
       "      <td>-2.475211</td>\n",
       "      <td>1.625684</td>\n",
       "      <td>0.789063</td>\n",
       "      <td>-0.468891</td>\n",
       "      <td>-0.117191</td>\n",
       "      <td>2.222274</td>\n",
       "      <td>-1.128718</td>\n",
       "      <td>0.794872</td>\n",
       "      <td>-0.579219</td>\n",
       "      <td>-0.169467</td>\n",
       "      <td>-2.710080</td>\n",
       "      <td>1.727675</td>\n",
       "    </tr>\n",
       "    <tr>\n",
       "      <th>1</th>\n",
       "      <td>0.329210</td>\n",
       "      <td>-0.890917</td>\n",
       "      <td>0.242468</td>\n",
       "      <td>-0.129727</td>\n",
       "      <td>0.786439</td>\n",
       "      <td>-0.011432</td>\n",
       "      <td>0.024253</td>\n",
       "      <td>-2.935641</td>\n",
       "      <td>0.307802</td>\n",
       "      <td>0.601680</td>\n",
       "      <td>-0.591968</td>\n",
       "      <td>-0.553574</td>\n",
       "      <td>0.856314</td>\n",
       "      <td>-0.555622</td>\n",
       "      <td>-0.497325</td>\n",
       "      <td>0.282806</td>\n",
       "      <td>1.928875</td>\n",
       "      <td>-0.434532</td>\n",
       "      <td>0.914720</td>\n",
       "      <td>1.494764</td>\n",
       "    </tr>\n",
       "    <tr>\n",
       "      <th>2</th>\n",
       "      <td>1.584580</td>\n",
       "      <td>-1.583573</td>\n",
       "      <td>-0.298410</td>\n",
       "      <td>-0.147568</td>\n",
       "      <td>-0.331767</td>\n",
       "      <td>-0.803173</td>\n",
       "      <td>1.255054</td>\n",
       "      <td>2.033535</td>\n",
       "      <td>1.730754</td>\n",
       "      <td>0.738127</td>\n",
       "      <td>0.112163</td>\n",
       "      <td>0.273903</td>\n",
       "      <td>1.362638</td>\n",
       "      <td>-0.378377</td>\n",
       "      <td>1.444719</td>\n",
       "      <td>-0.174829</td>\n",
       "      <td>-1.999652</td>\n",
       "      <td>-2.716364</td>\n",
       "      <td>-0.206037</td>\n",
       "      <td>-0.521582</td>\n",
       "    </tr>\n",
       "    <tr>\n",
       "      <th>3</th>\n",
       "      <td>0.949268</td>\n",
       "      <td>-0.220942</td>\n",
       "      <td>-0.648721</td>\n",
       "      <td>-0.066735</td>\n",
       "      <td>-0.556826</td>\n",
       "      <td>2.059895</td>\n",
       "      <td>-1.118174</td>\n",
       "      <td>1.536298</td>\n",
       "      <td>-0.428062</td>\n",
       "      <td>-0.677596</td>\n",
       "      <td>0.469004</td>\n",
       "      <td>0.269531</td>\n",
       "      <td>1.757708</td>\n",
       "      <td>-0.392157</td>\n",
       "      <td>-0.522421</td>\n",
       "      <td>-0.097558</td>\n",
       "      <td>-1.131576</td>\n",
       "      <td>-0.502619</td>\n",
       "      <td>-1.458732</td>\n",
       "      <td>-0.687655</td>\n",
       "    </tr>\n",
       "    <tr>\n",
       "      <th>4</th>\n",
       "      <td>0.184210</td>\n",
       "      <td>-0.979549</td>\n",
       "      <td>1.766494</td>\n",
       "      <td>0.866004</td>\n",
       "      <td>0.417419</td>\n",
       "      <td>-1.401739</td>\n",
       "      <td>-0.421092</td>\n",
       "      <td>1.376958</td>\n",
       "      <td>-0.058239</td>\n",
       "      <td>-0.205026</td>\n",
       "      <td>0.204320</td>\n",
       "      <td>0.123299</td>\n",
       "      <td>-0.999270</td>\n",
       "      <td>0.359084</td>\n",
       "      <td>1.277875</td>\n",
       "      <td>1.651577</td>\n",
       "      <td>-1.730506</td>\n",
       "      <td>1.260926</td>\n",
       "      <td>0.483043</td>\n",
       "      <td>-0.061607</td>\n",
       "    </tr>\n",
       "    <tr>\n",
       "      <th>...</th>\n",
       "      <td>...</td>\n",
       "      <td>...</td>\n",
       "      <td>...</td>\n",
       "      <td>...</td>\n",
       "      <td>...</td>\n",
       "      <td>...</td>\n",
       "      <td>...</td>\n",
       "      <td>...</td>\n",
       "      <td>...</td>\n",
       "      <td>...</td>\n",
       "      <td>...</td>\n",
       "      <td>...</td>\n",
       "      <td>...</td>\n",
       "      <td>...</td>\n",
       "      <td>...</td>\n",
       "      <td>...</td>\n",
       "      <td>...</td>\n",
       "      <td>...</td>\n",
       "      <td>...</td>\n",
       "      <td>...</td>\n",
       "    </tr>\n",
       "    <tr>\n",
       "      <th>95</th>\n",
       "      <td>-0.054048</td>\n",
       "      <td>0.317634</td>\n",
       "      <td>0.169702</td>\n",
       "      <td>0.086325</td>\n",
       "      <td>-0.870998</td>\n",
       "      <td>-1.053390</td>\n",
       "      <td>0.078208</td>\n",
       "      <td>-1.507136</td>\n",
       "      <td>1.092457</td>\n",
       "      <td>1.954417</td>\n",
       "      <td>-0.763868</td>\n",
       "      <td>-0.114641</td>\n",
       "      <td>0.289232</td>\n",
       "      <td>-0.010055</td>\n",
       "      <td>-1.568584</td>\n",
       "      <td>0.045496</td>\n",
       "      <td>2.017136</td>\n",
       "      <td>-1.314231</td>\n",
       "      <td>-0.758011</td>\n",
       "      <td>-0.027847</td>\n",
       "    </tr>\n",
       "    <tr>\n",
       "      <th>96</th>\n",
       "      <td>0.816266</td>\n",
       "      <td>0.695171</td>\n",
       "      <td>1.988960</td>\n",
       "      <td>-1.876434</td>\n",
       "      <td>-0.543564</td>\n",
       "      <td>0.489057</td>\n",
       "      <td>1.190070</td>\n",
       "      <td>-0.296411</td>\n",
       "      <td>-0.043180</td>\n",
       "      <td>-1.037051</td>\n",
       "      <td>-0.163423</td>\n",
       "      <td>0.182990</td>\n",
       "      <td>-0.664136</td>\n",
       "      <td>-1.062512</td>\n",
       "      <td>0.607133</td>\n",
       "      <td>-0.315531</td>\n",
       "      <td>1.641457</td>\n",
       "      <td>-0.308569</td>\n",
       "      <td>1.840407</td>\n",
       "      <td>-0.969458</td>\n",
       "    </tr>\n",
       "    <tr>\n",
       "      <th>97</th>\n",
       "      <td>1.627494</td>\n",
       "      <td>-2.156264</td>\n",
       "      <td>-0.375545</td>\n",
       "      <td>0.230248</td>\n",
       "      <td>-1.521531</td>\n",
       "      <td>-1.870306</td>\n",
       "      <td>-0.938164</td>\n",
       "      <td>-0.977739</td>\n",
       "      <td>0.034151</td>\n",
       "      <td>-0.712715</td>\n",
       "      <td>0.583443</td>\n",
       "      <td>0.024551</td>\n",
       "      <td>-0.439585</td>\n",
       "      <td>0.051159</td>\n",
       "      <td>0.094107</td>\n",
       "      <td>-0.470653</td>\n",
       "      <td>1.907681</td>\n",
       "      <td>0.483115</td>\n",
       "      <td>2.430124</td>\n",
       "      <td>-0.482021</td>\n",
       "    </tr>\n",
       "    <tr>\n",
       "      <th>98</th>\n",
       "      <td>1.880029</td>\n",
       "      <td>0.486634</td>\n",
       "      <td>0.952640</td>\n",
       "      <td>-0.105117</td>\n",
       "      <td>-0.265335</td>\n",
       "      <td>-0.372364</td>\n",
       "      <td>-0.547109</td>\n",
       "      <td>1.226323</td>\n",
       "      <td>-0.361900</td>\n",
       "      <td>0.125866</td>\n",
       "      <td>0.294974</td>\n",
       "      <td>0.472920</td>\n",
       "      <td>-1.550174</td>\n",
       "      <td>1.237536</td>\n",
       "      <td>-1.799101</td>\n",
       "      <td>1.449650</td>\n",
       "      <td>0.657827</td>\n",
       "      <td>2.237440</td>\n",
       "      <td>1.219950</td>\n",
       "      <td>-1.757880</td>\n",
       "    </tr>\n",
       "    <tr>\n",
       "      <th>99</th>\n",
       "      <td>-1.292876</td>\n",
       "      <td>-0.122989</td>\n",
       "      <td>-0.977140</td>\n",
       "      <td>-0.485199</td>\n",
       "      <td>-0.167807</td>\n",
       "      <td>-0.941234</td>\n",
       "      <td>-0.565609</td>\n",
       "      <td>0.035288</td>\n",
       "      <td>-1.233384</td>\n",
       "      <td>0.453145</td>\n",
       "      <td>-0.011912</td>\n",
       "      <td>0.156919</td>\n",
       "      <td>0.049923</td>\n",
       "      <td>-0.287511</td>\n",
       "      <td>-0.329078</td>\n",
       "      <td>-0.585519</td>\n",
       "      <td>0.886829</td>\n",
       "      <td>2.217689</td>\n",
       "      <td>-0.513441</td>\n",
       "      <td>-0.722721</td>\n",
       "    </tr>\n",
       "  </tbody>\n",
       "</table>\n",
       "<p>100 rows × 20 columns</p>\n",
       "</div>"
      ],
      "text/plain": [
       "      Weight     Shape    Volume   Texture     Color  Flexibility  \\\n",
       "0   0.522500 -0.183939  0.547778 -0.569312  1.085668    -1.034127   \n",
       "1   0.329210 -0.890917  0.242468 -0.129727  0.786439    -0.011432   \n",
       "2   1.584580 -1.583573 -0.298410 -0.147568 -0.331767    -0.803173   \n",
       "3   0.949268 -0.220942 -0.648721 -0.066735 -0.556826     2.059895   \n",
       "4   0.184210 -0.979549  1.766494  0.866004  0.417419    -1.401739   \n",
       "..       ...       ...       ...       ...       ...          ...   \n",
       "95 -0.054048  0.317634  0.169702  0.086325 -0.870998    -1.053390   \n",
       "96  0.816266  0.695171  1.988960 -1.876434 -0.543564     0.489057   \n",
       "97  1.627494 -2.156264 -0.375545  0.230248 -1.521531    -1.870306   \n",
       "98  1.880029  0.486634  0.952640 -0.105117 -0.265335    -0.372364   \n",
       "99 -1.292876 -0.122989 -0.977140 -0.485199 -0.167807    -0.941234   \n",
       "\n",
       "    Transparency  Conductivity  Magnetism     Smell     Taste  Hardness  \\\n",
       "0      -0.365809     -1.256453  -2.475211  1.625684  0.789063 -0.468891   \n",
       "1       0.024253     -2.935641   0.307802  0.601680 -0.591968 -0.553574   \n",
       "2       1.255054      2.033535   1.730754  0.738127  0.112163  0.273903   \n",
       "3      -1.118174      1.536298  -0.428062 -0.677596  0.469004  0.269531   \n",
       "4      -0.421092      1.376958  -0.058239 -0.205026  0.204320  0.123299   \n",
       "..           ...           ...        ...       ...       ...       ...   \n",
       "95      0.078208     -1.507136   1.092457  1.954417 -0.763868 -0.114641   \n",
       "96      1.190070     -0.296411  -0.043180 -1.037051 -0.163423  0.182990   \n",
       "97     -0.938164     -0.977739   0.034151 -0.712715  0.583443  0.024551   \n",
       "98     -0.547109      1.226323  -0.361900  0.125866  0.294974  0.472920   \n",
       "99     -0.565609      0.035288  -1.233384  0.453145 -0.011912  0.156919   \n",
       "\n",
       "    Viscosity  Luminosity   Gravity   Density  Thickness  Durability  \\\n",
       "0   -0.117191    2.222274 -1.128718  0.794872  -0.579219   -0.169467   \n",
       "1    0.856314   -0.555622 -0.497325  0.282806   1.928875   -0.434532   \n",
       "2    1.362638   -0.378377  1.444719 -0.174829  -1.999652   -2.716364   \n",
       "3    1.757708   -0.392157 -0.522421 -0.097558  -1.131576   -0.502619   \n",
       "4   -0.999270    0.359084  1.277875  1.651577  -1.730506    1.260926   \n",
       "..        ...         ...       ...       ...        ...         ...   \n",
       "95   0.289232   -0.010055 -1.568584  0.045496   2.017136   -1.314231   \n",
       "96  -0.664136   -1.062512  0.607133 -0.315531   1.641457   -0.308569   \n",
       "97  -0.439585    0.051159  0.094107 -0.470653   1.907681    0.483115   \n",
       "98  -1.550174    1.237536 -1.799101  1.449650   0.657827    2.237440   \n",
       "99   0.049923   -0.287511 -0.329078 -0.585519   0.886829    2.217689   \n",
       "\n",
       "    Melting point  Reflectivity  \n",
       "0       -2.710080      1.727675  \n",
       "1        0.914720      1.494764  \n",
       "2       -0.206037     -0.521582  \n",
       "3       -1.458732     -0.687655  \n",
       "4        0.483043     -0.061607  \n",
       "..            ...           ...  \n",
       "95      -0.758011     -0.027847  \n",
       "96       1.840407     -0.969458  \n",
       "97       2.430124     -0.482021  \n",
       "98       1.219950     -1.757880  \n",
       "99      -0.513441     -0.722721  \n",
       "\n",
       "[100 rows x 20 columns]"
      ]
     },
     "execution_count": 34,
     "metadata": {},
     "output_type": "execute_result"
    }
   ],
   "source": [
    "df[['Weight', 'Shape', 'Volume', 'Texture', 'Color', 'Flexibility', 'Transparency', 'Conductivity', \n",
    "    'Magnetism', 'Smell', 'Taste', 'Hardness', 'Viscosity', 'Luminosity', 'Gravity', 'Density', 'Thickness', \n",
    "    'Durability', 'Melting point', 'Reflectivity']] = pd.DataFrame(data=x_data_generated)\n",
    "df"
   ]
  },
  {
   "cell_type": "code",
   "execution_count": 35,
   "id": "52a71091",
   "metadata": {},
   "outputs": [],
   "source": [
    "df['target'] = y_data_generated"
   ]
  },
  {
   "cell_type": "code",
   "execution_count": 36,
   "id": "d43f2dbd",
   "metadata": {},
   "outputs": [
    {
     "data": {
      "text/html": [
       "<div>\n",
       "<style scoped>\n",
       "    .dataframe tbody tr th:only-of-type {\n",
       "        vertical-align: middle;\n",
       "    }\n",
       "\n",
       "    .dataframe tbody tr th {\n",
       "        vertical-align: top;\n",
       "    }\n",
       "\n",
       "    .dataframe thead th {\n",
       "        text-align: right;\n",
       "    }\n",
       "</style>\n",
       "<table border=\"1\" class=\"dataframe\">\n",
       "  <thead>\n",
       "    <tr style=\"text-align: right;\">\n",
       "      <th></th>\n",
       "      <th>Weight</th>\n",
       "      <th>Shape</th>\n",
       "      <th>Volume</th>\n",
       "      <th>Texture</th>\n",
       "      <th>Color</th>\n",
       "      <th>Flexibility</th>\n",
       "      <th>Transparency</th>\n",
       "      <th>Conductivity</th>\n",
       "      <th>Magnetism</th>\n",
       "      <th>Smell</th>\n",
       "      <th>...</th>\n",
       "      <th>Hardness</th>\n",
       "      <th>Viscosity</th>\n",
       "      <th>Luminosity</th>\n",
       "      <th>Gravity</th>\n",
       "      <th>Density</th>\n",
       "      <th>Thickness</th>\n",
       "      <th>Durability</th>\n",
       "      <th>Melting point</th>\n",
       "      <th>Reflectivity</th>\n",
       "      <th>target</th>\n",
       "    </tr>\n",
       "  </thead>\n",
       "  <tbody>\n",
       "    <tr>\n",
       "      <th>0</th>\n",
       "      <td>0.522500</td>\n",
       "      <td>-0.183939</td>\n",
       "      <td>0.547778</td>\n",
       "      <td>-0.569312</td>\n",
       "      <td>1.085668</td>\n",
       "      <td>-1.034127</td>\n",
       "      <td>-0.365809</td>\n",
       "      <td>-1.256453</td>\n",
       "      <td>-2.475211</td>\n",
       "      <td>1.625684</td>\n",
       "      <td>...</td>\n",
       "      <td>-0.468891</td>\n",
       "      <td>-0.117191</td>\n",
       "      <td>2.222274</td>\n",
       "      <td>-1.128718</td>\n",
       "      <td>0.794872</td>\n",
       "      <td>-0.579219</td>\n",
       "      <td>-0.169467</td>\n",
       "      <td>-2.710080</td>\n",
       "      <td>1.727675</td>\n",
       "      <td>1</td>\n",
       "    </tr>\n",
       "    <tr>\n",
       "      <th>1</th>\n",
       "      <td>0.329210</td>\n",
       "      <td>-0.890917</td>\n",
       "      <td>0.242468</td>\n",
       "      <td>-0.129727</td>\n",
       "      <td>0.786439</td>\n",
       "      <td>-0.011432</td>\n",
       "      <td>0.024253</td>\n",
       "      <td>-2.935641</td>\n",
       "      <td>0.307802</td>\n",
       "      <td>0.601680</td>\n",
       "      <td>...</td>\n",
       "      <td>-0.553574</td>\n",
       "      <td>0.856314</td>\n",
       "      <td>-0.555622</td>\n",
       "      <td>-0.497325</td>\n",
       "      <td>0.282806</td>\n",
       "      <td>1.928875</td>\n",
       "      <td>-0.434532</td>\n",
       "      <td>0.914720</td>\n",
       "      <td>1.494764</td>\n",
       "      <td>1</td>\n",
       "    </tr>\n",
       "    <tr>\n",
       "      <th>2</th>\n",
       "      <td>1.584580</td>\n",
       "      <td>-1.583573</td>\n",
       "      <td>-0.298410</td>\n",
       "      <td>-0.147568</td>\n",
       "      <td>-0.331767</td>\n",
       "      <td>-0.803173</td>\n",
       "      <td>1.255054</td>\n",
       "      <td>2.033535</td>\n",
       "      <td>1.730754</td>\n",
       "      <td>0.738127</td>\n",
       "      <td>...</td>\n",
       "      <td>0.273903</td>\n",
       "      <td>1.362638</td>\n",
       "      <td>-0.378377</td>\n",
       "      <td>1.444719</td>\n",
       "      <td>-0.174829</td>\n",
       "      <td>-1.999652</td>\n",
       "      <td>-2.716364</td>\n",
       "      <td>-0.206037</td>\n",
       "      <td>-0.521582</td>\n",
       "      <td>1</td>\n",
       "    </tr>\n",
       "    <tr>\n",
       "      <th>3</th>\n",
       "      <td>0.949268</td>\n",
       "      <td>-0.220942</td>\n",
       "      <td>-0.648721</td>\n",
       "      <td>-0.066735</td>\n",
       "      <td>-0.556826</td>\n",
       "      <td>2.059895</td>\n",
       "      <td>-1.118174</td>\n",
       "      <td>1.536298</td>\n",
       "      <td>-0.428062</td>\n",
       "      <td>-0.677596</td>\n",
       "      <td>...</td>\n",
       "      <td>0.269531</td>\n",
       "      <td>1.757708</td>\n",
       "      <td>-0.392157</td>\n",
       "      <td>-0.522421</td>\n",
       "      <td>-0.097558</td>\n",
       "      <td>-1.131576</td>\n",
       "      <td>-0.502619</td>\n",
       "      <td>-1.458732</td>\n",
       "      <td>-0.687655</td>\n",
       "      <td>0</td>\n",
       "    </tr>\n",
       "    <tr>\n",
       "      <th>4</th>\n",
       "      <td>0.184210</td>\n",
       "      <td>-0.979549</td>\n",
       "      <td>1.766494</td>\n",
       "      <td>0.866004</td>\n",
       "      <td>0.417419</td>\n",
       "      <td>-1.401739</td>\n",
       "      <td>-0.421092</td>\n",
       "      <td>1.376958</td>\n",
       "      <td>-0.058239</td>\n",
       "      <td>-0.205026</td>\n",
       "      <td>...</td>\n",
       "      <td>0.123299</td>\n",
       "      <td>-0.999270</td>\n",
       "      <td>0.359084</td>\n",
       "      <td>1.277875</td>\n",
       "      <td>1.651577</td>\n",
       "      <td>-1.730506</td>\n",
       "      <td>1.260926</td>\n",
       "      <td>0.483043</td>\n",
       "      <td>-0.061607</td>\n",
       "      <td>0</td>\n",
       "    </tr>\n",
       "    <tr>\n",
       "      <th>...</th>\n",
       "      <td>...</td>\n",
       "      <td>...</td>\n",
       "      <td>...</td>\n",
       "      <td>...</td>\n",
       "      <td>...</td>\n",
       "      <td>...</td>\n",
       "      <td>...</td>\n",
       "      <td>...</td>\n",
       "      <td>...</td>\n",
       "      <td>...</td>\n",
       "      <td>...</td>\n",
       "      <td>...</td>\n",
       "      <td>...</td>\n",
       "      <td>...</td>\n",
       "      <td>...</td>\n",
       "      <td>...</td>\n",
       "      <td>...</td>\n",
       "      <td>...</td>\n",
       "      <td>...</td>\n",
       "      <td>...</td>\n",
       "      <td>...</td>\n",
       "    </tr>\n",
       "    <tr>\n",
       "      <th>95</th>\n",
       "      <td>-0.054048</td>\n",
       "      <td>0.317634</td>\n",
       "      <td>0.169702</td>\n",
       "      <td>0.086325</td>\n",
       "      <td>-0.870998</td>\n",
       "      <td>-1.053390</td>\n",
       "      <td>0.078208</td>\n",
       "      <td>-1.507136</td>\n",
       "      <td>1.092457</td>\n",
       "      <td>1.954417</td>\n",
       "      <td>...</td>\n",
       "      <td>-0.114641</td>\n",
       "      <td>0.289232</td>\n",
       "      <td>-0.010055</td>\n",
       "      <td>-1.568584</td>\n",
       "      <td>0.045496</td>\n",
       "      <td>2.017136</td>\n",
       "      <td>-1.314231</td>\n",
       "      <td>-0.758011</td>\n",
       "      <td>-0.027847</td>\n",
       "      <td>0</td>\n",
       "    </tr>\n",
       "    <tr>\n",
       "      <th>96</th>\n",
       "      <td>0.816266</td>\n",
       "      <td>0.695171</td>\n",
       "      <td>1.988960</td>\n",
       "      <td>-1.876434</td>\n",
       "      <td>-0.543564</td>\n",
       "      <td>0.489057</td>\n",
       "      <td>1.190070</td>\n",
       "      <td>-0.296411</td>\n",
       "      <td>-0.043180</td>\n",
       "      <td>-1.037051</td>\n",
       "      <td>...</td>\n",
       "      <td>0.182990</td>\n",
       "      <td>-0.664136</td>\n",
       "      <td>-1.062512</td>\n",
       "      <td>0.607133</td>\n",
       "      <td>-0.315531</td>\n",
       "      <td>1.641457</td>\n",
       "      <td>-0.308569</td>\n",
       "      <td>1.840407</td>\n",
       "      <td>-0.969458</td>\n",
       "      <td>0</td>\n",
       "    </tr>\n",
       "    <tr>\n",
       "      <th>97</th>\n",
       "      <td>1.627494</td>\n",
       "      <td>-2.156264</td>\n",
       "      <td>-0.375545</td>\n",
       "      <td>0.230248</td>\n",
       "      <td>-1.521531</td>\n",
       "      <td>-1.870306</td>\n",
       "      <td>-0.938164</td>\n",
       "      <td>-0.977739</td>\n",
       "      <td>0.034151</td>\n",
       "      <td>-0.712715</td>\n",
       "      <td>...</td>\n",
       "      <td>0.024551</td>\n",
       "      <td>-0.439585</td>\n",
       "      <td>0.051159</td>\n",
       "      <td>0.094107</td>\n",
       "      <td>-0.470653</td>\n",
       "      <td>1.907681</td>\n",
       "      <td>0.483115</td>\n",
       "      <td>2.430124</td>\n",
       "      <td>-0.482021</td>\n",
       "      <td>0</td>\n",
       "    </tr>\n",
       "    <tr>\n",
       "      <th>98</th>\n",
       "      <td>1.880029</td>\n",
       "      <td>0.486634</td>\n",
       "      <td>0.952640</td>\n",
       "      <td>-0.105117</td>\n",
       "      <td>-0.265335</td>\n",
       "      <td>-0.372364</td>\n",
       "      <td>-0.547109</td>\n",
       "      <td>1.226323</td>\n",
       "      <td>-0.361900</td>\n",
       "      <td>0.125866</td>\n",
       "      <td>...</td>\n",
       "      <td>0.472920</td>\n",
       "      <td>-1.550174</td>\n",
       "      <td>1.237536</td>\n",
       "      <td>-1.799101</td>\n",
       "      <td>1.449650</td>\n",
       "      <td>0.657827</td>\n",
       "      <td>2.237440</td>\n",
       "      <td>1.219950</td>\n",
       "      <td>-1.757880</td>\n",
       "      <td>0</td>\n",
       "    </tr>\n",
       "    <tr>\n",
       "      <th>99</th>\n",
       "      <td>-1.292876</td>\n",
       "      <td>-0.122989</td>\n",
       "      <td>-0.977140</td>\n",
       "      <td>-0.485199</td>\n",
       "      <td>-0.167807</td>\n",
       "      <td>-0.941234</td>\n",
       "      <td>-0.565609</td>\n",
       "      <td>0.035288</td>\n",
       "      <td>-1.233384</td>\n",
       "      <td>0.453145</td>\n",
       "      <td>...</td>\n",
       "      <td>0.156919</td>\n",
       "      <td>0.049923</td>\n",
       "      <td>-0.287511</td>\n",
       "      <td>-0.329078</td>\n",
       "      <td>-0.585519</td>\n",
       "      <td>0.886829</td>\n",
       "      <td>2.217689</td>\n",
       "      <td>-0.513441</td>\n",
       "      <td>-0.722721</td>\n",
       "      <td>0</td>\n",
       "    </tr>\n",
       "  </tbody>\n",
       "</table>\n",
       "<p>100 rows × 21 columns</p>\n",
       "</div>"
      ],
      "text/plain": [
       "      Weight     Shape    Volume   Texture     Color  Flexibility  \\\n",
       "0   0.522500 -0.183939  0.547778 -0.569312  1.085668    -1.034127   \n",
       "1   0.329210 -0.890917  0.242468 -0.129727  0.786439    -0.011432   \n",
       "2   1.584580 -1.583573 -0.298410 -0.147568 -0.331767    -0.803173   \n",
       "3   0.949268 -0.220942 -0.648721 -0.066735 -0.556826     2.059895   \n",
       "4   0.184210 -0.979549  1.766494  0.866004  0.417419    -1.401739   \n",
       "..       ...       ...       ...       ...       ...          ...   \n",
       "95 -0.054048  0.317634  0.169702  0.086325 -0.870998    -1.053390   \n",
       "96  0.816266  0.695171  1.988960 -1.876434 -0.543564     0.489057   \n",
       "97  1.627494 -2.156264 -0.375545  0.230248 -1.521531    -1.870306   \n",
       "98  1.880029  0.486634  0.952640 -0.105117 -0.265335    -0.372364   \n",
       "99 -1.292876 -0.122989 -0.977140 -0.485199 -0.167807    -0.941234   \n",
       "\n",
       "    Transparency  Conductivity  Magnetism     Smell  ...  Hardness  Viscosity  \\\n",
       "0      -0.365809     -1.256453  -2.475211  1.625684  ... -0.468891  -0.117191   \n",
       "1       0.024253     -2.935641   0.307802  0.601680  ... -0.553574   0.856314   \n",
       "2       1.255054      2.033535   1.730754  0.738127  ...  0.273903   1.362638   \n",
       "3      -1.118174      1.536298  -0.428062 -0.677596  ...  0.269531   1.757708   \n",
       "4      -0.421092      1.376958  -0.058239 -0.205026  ...  0.123299  -0.999270   \n",
       "..           ...           ...        ...       ...  ...       ...        ...   \n",
       "95      0.078208     -1.507136   1.092457  1.954417  ... -0.114641   0.289232   \n",
       "96      1.190070     -0.296411  -0.043180 -1.037051  ...  0.182990  -0.664136   \n",
       "97     -0.938164     -0.977739   0.034151 -0.712715  ...  0.024551  -0.439585   \n",
       "98     -0.547109      1.226323  -0.361900  0.125866  ...  0.472920  -1.550174   \n",
       "99     -0.565609      0.035288  -1.233384  0.453145  ...  0.156919   0.049923   \n",
       "\n",
       "    Luminosity   Gravity   Density  Thickness  Durability  Melting point  \\\n",
       "0     2.222274 -1.128718  0.794872  -0.579219   -0.169467      -2.710080   \n",
       "1    -0.555622 -0.497325  0.282806   1.928875   -0.434532       0.914720   \n",
       "2    -0.378377  1.444719 -0.174829  -1.999652   -2.716364      -0.206037   \n",
       "3    -0.392157 -0.522421 -0.097558  -1.131576   -0.502619      -1.458732   \n",
       "4     0.359084  1.277875  1.651577  -1.730506    1.260926       0.483043   \n",
       "..         ...       ...       ...        ...         ...            ...   \n",
       "95   -0.010055 -1.568584  0.045496   2.017136   -1.314231      -0.758011   \n",
       "96   -1.062512  0.607133 -0.315531   1.641457   -0.308569       1.840407   \n",
       "97    0.051159  0.094107 -0.470653   1.907681    0.483115       2.430124   \n",
       "98    1.237536 -1.799101  1.449650   0.657827    2.237440       1.219950   \n",
       "99   -0.287511 -0.329078 -0.585519   0.886829    2.217689      -0.513441   \n",
       "\n",
       "    Reflectivity  target  \n",
       "0       1.727675       1  \n",
       "1       1.494764       1  \n",
       "2      -0.521582       1  \n",
       "3      -0.687655       0  \n",
       "4      -0.061607       0  \n",
       "..           ...     ...  \n",
       "95     -0.027847       0  \n",
       "96     -0.969458       0  \n",
       "97     -0.482021       0  \n",
       "98     -1.757880       0  \n",
       "99     -0.722721       0  \n",
       "\n",
       "[100 rows x 21 columns]"
      ]
     },
     "execution_count": 36,
     "metadata": {},
     "output_type": "execute_result"
    }
   ],
   "source": [
    "df"
   ]
  },
  {
   "cell_type": "code",
   "execution_count": 14,
   "id": "1785301f",
   "metadata": {},
   "outputs": [],
   "source": [
    "#для читаемости разобью на два датафрейма\n",
    "df1 = df[['Weight', 'Shape', 'Volume', 'Texture', 'Color', 'Flexibility', 'Transparency', 'Conductivity', \n",
    "    'Magnetism', 'Smell', 'target']]"
   ]
  },
  {
   "cell_type": "code",
   "execution_count": 21,
   "id": "5b849990",
   "metadata": {},
   "outputs": [
    {
     "data": {
      "image/png": "[encoded data removed]",
      "text/plain": [
       "<Figure size 1200x900 with 2 Axes>"
      ]
     },
     "metadata": {},
     "output_type": "display_data"
    }
   ],
   "source": [
    "corr = df1.corr()\n",
    "plt.figure(figsize=(12,9))\n",
    "sns.heatmap(corr,annot=True)\n",
    "plt.show()"
   ]
  },
  {
   "cell_type": "code",
   "execution_count": null,
   "id": "89e3f51a",
   "metadata": {},
   "outputs": [],
   "source": [
    "#надо удалять признаки с близкой к нулевой корреляции с таргетом\n",
    "#Smell, Magnetizm,  Transparency, Flexibility, Color, Volume, Weight"
   ]
  },
  {
   "cell_type": "code",
   "execution_count": 16,
   "id": "05c3cfc8",
   "metadata": {},
   "outputs": [],
   "source": [
    "df2 = df[['Taste', 'Hardness', 'Viscosity', 'Luminosity', 'Gravity', 'Density', 'Thickness', \n",
    "    'Durability', 'Melting point', 'Reflectivity', 'target']]"
   ]
  },
  {
   "cell_type": "code",
   "execution_count": 22,
   "id": "b66a589f",
   "metadata": {},
   "outputs": [
    {
     "data": {
      "image/png": "[encoded data removed]",
      "text/plain": [
       "<Figure size 1200x900 with 2 Axes>"
      ]
     },
     "metadata": {},
     "output_type": "display_data"
    }
   ],
   "source": [
    "corr = df2.corr()\n",
    "plt.figure(figsize=(12,9))\n",
    "sns.heatmap(corr,annot=True)\n",
    "plt.show()"
   ]
  },
  {
   "cell_type": "code",
   "execution_count": null,
   "id": "6ff9998d",
   "metadata": {},
   "outputs": [],
   "source": [
    "#околонулевая корреляция с таргетом у:\n",
    "#Melting point, Thickness, Density, Gravity, Visconsity, Taste"
   ]
  },
  {
   "cell_type": "markdown",
   "id": "1bbbf31d",
   "metadata": {},
   "source": [
    "###### b) Отсеките низковариативные признаки (VarianceThreshold)."
   ]
  },
  {
   "cell_type": "code",
   "execution_count": 23,
   "id": "24ba09d7",
   "metadata": {},
   "outputs": [],
   "source": [
    "from sklearn.feature_selection import VarianceThreshold"
   ]
  },
  {
   "cell_type": "code",
   "execution_count": 30,
   "id": "28ab437d",
   "metadata": {},
   "outputs": [
    {
     "data": {
      "text/plain": [
       "array([ 0.52250033, -0.18393884,  0.54777846, -0.56931246,  1.08566793,\n",
       "       -1.03412676, -0.36580888, -1.25645271, -2.47521061,  1.62568357,\n",
       "        0.78906316, -0.46889059, -0.11719135,  2.22227364, -1.12871778,\n",
       "        0.79487205, -0.57921872, -0.16946702, -2.71007998,  1.72767528,\n",
       "        1.        ])"
      ]
     },
     "execution_count": 30,
     "metadata": {},
     "output_type": "execute_result"
    }
   ],
   "source": [
    "sel = VarianceThreshold(threshold=(.8 * (1 - .8)))\n",
    "df_variance = sel.fit_transform(df)\n",
    "df_variance[0]"
   ]
  },
  {
   "cell_type": "code",
   "execution_count": 38,
   "id": "59f5cea0",
   "metadata": {},
   "outputs": [],
   "source": [
    "data_variance = pd.DataFrame()"
   ]
  },
  {
   "cell_type": "code",
   "execution_count": 39,
   "id": "2b399b38",
   "metadata": {},
   "outputs": [],
   "source": [
    "data_variance[['Weight', 'Shape', 'Volume', 'Texture', 'Color', 'Flexibility', 'Transparency', 'Conductivity', \n",
    "    'Magnetism', 'Smell', 'Taste', 'Hardness', 'Viscosity', 'Luminosity', 'Gravity', 'Density', 'Thickness', \n",
    "    'Durability', 'Melting point', 'Reflectivity', 'Target']] = pd.DataFrame(data=df_variance)"
   ]
  },
  {
   "cell_type": "code",
   "execution_count": 40,
   "id": "0e9e76c0",
   "metadata": {},
   "outputs": [
    {
     "data": {
      "text/html": [
       "<div>\n",
       "<style scoped>\n",
       "    .dataframe tbody tr th:only-of-type {\n",
       "        vertical-align: middle;\n",
       "    }\n",
       "\n",
       "    .dataframe tbody tr th {\n",
       "        vertical-align: top;\n",
       "    }\n",
       "\n",
       "    .dataframe thead th {\n",
       "        text-align: right;\n",
       "    }\n",
       "</style>\n",
       "<table border=\"1\" class=\"dataframe\">\n",
       "  <thead>\n",
       "    <tr style=\"text-align: right;\">\n",
       "      <th></th>\n",
       "      <th>Weight</th>\n",
       "      <th>Shape</th>\n",
       "      <th>Volume</th>\n",
       "      <th>Texture</th>\n",
       "      <th>Color</th>\n",
       "      <th>Flexibility</th>\n",
       "      <th>Transparency</th>\n",
       "      <th>Conductivity</th>\n",
       "      <th>Magnetism</th>\n",
       "      <th>Smell</th>\n",
       "      <th>...</th>\n",
       "      <th>Hardness</th>\n",
       "      <th>Viscosity</th>\n",
       "      <th>Luminosity</th>\n",
       "      <th>Gravity</th>\n",
       "      <th>Density</th>\n",
       "      <th>Thickness</th>\n",
       "      <th>Durability</th>\n",
       "      <th>Melting point</th>\n",
       "      <th>Reflectivity</th>\n",
       "      <th>Target</th>\n",
       "    </tr>\n",
       "  </thead>\n",
       "  <tbody>\n",
       "    <tr>\n",
       "      <th>0</th>\n",
       "      <td>0.522500</td>\n",
       "      <td>-0.183939</td>\n",
       "      <td>0.547778</td>\n",
       "      <td>-0.569312</td>\n",
       "      <td>1.085668</td>\n",
       "      <td>-1.034127</td>\n",
       "      <td>-0.365809</td>\n",
       "      <td>-1.256453</td>\n",
       "      <td>-2.475211</td>\n",
       "      <td>1.625684</td>\n",
       "      <td>...</td>\n",
       "      <td>-0.468891</td>\n",
       "      <td>-0.117191</td>\n",
       "      <td>2.222274</td>\n",
       "      <td>-1.128718</td>\n",
       "      <td>0.794872</td>\n",
       "      <td>-0.579219</td>\n",
       "      <td>-0.169467</td>\n",
       "      <td>-2.710080</td>\n",
       "      <td>1.727675</td>\n",
       "      <td>1.0</td>\n",
       "    </tr>\n",
       "    <tr>\n",
       "      <th>1</th>\n",
       "      <td>0.329210</td>\n",
       "      <td>-0.890917</td>\n",
       "      <td>0.242468</td>\n",
       "      <td>-0.129727</td>\n",
       "      <td>0.786439</td>\n",
       "      <td>-0.011432</td>\n",
       "      <td>0.024253</td>\n",
       "      <td>-2.935641</td>\n",
       "      <td>0.307802</td>\n",
       "      <td>0.601680</td>\n",
       "      <td>...</td>\n",
       "      <td>-0.553574</td>\n",
       "      <td>0.856314</td>\n",
       "      <td>-0.555622</td>\n",
       "      <td>-0.497325</td>\n",
       "      <td>0.282806</td>\n",
       "      <td>1.928875</td>\n",
       "      <td>-0.434532</td>\n",
       "      <td>0.914720</td>\n",
       "      <td>1.494764</td>\n",
       "      <td>1.0</td>\n",
       "    </tr>\n",
       "    <tr>\n",
       "      <th>2</th>\n",
       "      <td>1.584580</td>\n",
       "      <td>-1.583573</td>\n",
       "      <td>-0.298410</td>\n",
       "      <td>-0.147568</td>\n",
       "      <td>-0.331767</td>\n",
       "      <td>-0.803173</td>\n",
       "      <td>1.255054</td>\n",
       "      <td>2.033535</td>\n",
       "      <td>1.730754</td>\n",
       "      <td>0.738127</td>\n",
       "      <td>...</td>\n",
       "      <td>0.273903</td>\n",
       "      <td>1.362638</td>\n",
       "      <td>-0.378377</td>\n",
       "      <td>1.444719</td>\n",
       "      <td>-0.174829</td>\n",
       "      <td>-1.999652</td>\n",
       "      <td>-2.716364</td>\n",
       "      <td>-0.206037</td>\n",
       "      <td>-0.521582</td>\n",
       "      <td>1.0</td>\n",
       "    </tr>\n",
       "    <tr>\n",
       "      <th>3</th>\n",
       "      <td>0.949268</td>\n",
       "      <td>-0.220942</td>\n",
       "      <td>-0.648721</td>\n",
       "      <td>-0.066735</td>\n",
       "      <td>-0.556826</td>\n",
       "      <td>2.059895</td>\n",
       "      <td>-1.118174</td>\n",
       "      <td>1.536298</td>\n",
       "      <td>-0.428062</td>\n",
       "      <td>-0.677596</td>\n",
       "      <td>...</td>\n",
       "      <td>0.269531</td>\n",
       "      <td>1.757708</td>\n",
       "      <td>-0.392157</td>\n",
       "      <td>-0.522421</td>\n",
       "      <td>-0.097558</td>\n",
       "      <td>-1.131576</td>\n",
       "      <td>-0.502619</td>\n",
       "      <td>-1.458732</td>\n",
       "      <td>-0.687655</td>\n",
       "      <td>0.0</td>\n",
       "    </tr>\n",
       "    <tr>\n",
       "      <th>4</th>\n",
       "      <td>0.184210</td>\n",
       "      <td>-0.979549</td>\n",
       "      <td>1.766494</td>\n",
       "      <td>0.866004</td>\n",
       "      <td>0.417419</td>\n",
       "      <td>-1.401739</td>\n",
       "      <td>-0.421092</td>\n",
       "      <td>1.376958</td>\n",
       "      <td>-0.058239</td>\n",
       "      <td>-0.205026</td>\n",
       "      <td>...</td>\n",
       "      <td>0.123299</td>\n",
       "      <td>-0.999270</td>\n",
       "      <td>0.359084</td>\n",
       "      <td>1.277875</td>\n",
       "      <td>1.651577</td>\n",
       "      <td>-1.730506</td>\n",
       "      <td>1.260926</td>\n",
       "      <td>0.483043</td>\n",
       "      <td>-0.061607</td>\n",
       "      <td>0.0</td>\n",
       "    </tr>\n",
       "    <tr>\n",
       "      <th>...</th>\n",
       "      <td>...</td>\n",
       "      <td>...</td>\n",
       "      <td>...</td>\n",
       "      <td>...</td>\n",
       "      <td>...</td>\n",
       "      <td>...</td>\n",
       "      <td>...</td>\n",
       "      <td>...</td>\n",
       "      <td>...</td>\n",
       "      <td>...</td>\n",
       "      <td>...</td>\n",
       "      <td>...</td>\n",
       "      <td>...</td>\n",
       "      <td>...</td>\n",
       "      <td>...</td>\n",
       "      <td>...</td>\n",
       "      <td>...</td>\n",
       "      <td>...</td>\n",
       "      <td>...</td>\n",
       "      <td>...</td>\n",
       "      <td>...</td>\n",
       "    </tr>\n",
       "    <tr>\n",
       "      <th>95</th>\n",
       "      <td>-0.054048</td>\n",
       "      <td>0.317634</td>\n",
       "      <td>0.169702</td>\n",
       "      <td>0.086325</td>\n",
       "      <td>-0.870998</td>\n",
       "      <td>-1.053390</td>\n",
       "      <td>0.078208</td>\n",
       "      <td>-1.507136</td>\n",
       "      <td>1.092457</td>\n",
       "      <td>1.954417</td>\n",
       "      <td>...</td>\n",
       "      <td>-0.114641</td>\n",
       "      <td>0.289232</td>\n",
       "      <td>-0.010055</td>\n",
       "      <td>-1.568584</td>\n",
       "      <td>0.045496</td>\n",
       "      <td>2.017136</td>\n",
       "      <td>-1.314231</td>\n",
       "      <td>-0.758011</td>\n",
       "      <td>-0.027847</td>\n",
       "      <td>0.0</td>\n",
       "    </tr>\n",
       "    <tr>\n",
       "      <th>96</th>\n",
       "      <td>0.816266</td>\n",
       "      <td>0.695171</td>\n",
       "      <td>1.988960</td>\n",
       "      <td>-1.876434</td>\n",
       "      <td>-0.543564</td>\n",
       "      <td>0.489057</td>\n",
       "      <td>1.190070</td>\n",
       "      <td>-0.296411</td>\n",
       "      <td>-0.043180</td>\n",
       "      <td>-1.037051</td>\n",
       "      <td>...</td>\n",
       "      <td>0.182990</td>\n",
       "      <td>-0.664136</td>\n",
       "      <td>-1.062512</td>\n",
       "      <td>0.607133</td>\n",
       "      <td>-0.315531</td>\n",
       "      <td>1.641457</td>\n",
       "      <td>-0.308569</td>\n",
       "      <td>1.840407</td>\n",
       "      <td>-0.969458</td>\n",
       "      <td>0.0</td>\n",
       "    </tr>\n",
       "    <tr>\n",
       "      <th>97</th>\n",
       "      <td>1.627494</td>\n",
       "      <td>-2.156264</td>\n",
       "      <td>-0.375545</td>\n",
       "      <td>0.230248</td>\n",
       "      <td>-1.521531</td>\n",
       "      <td>-1.870306</td>\n",
       "      <td>-0.938164</td>\n",
       "      <td>-0.977739</td>\n",
       "      <td>0.034151</td>\n",
       "      <td>-0.712715</td>\n",
       "      <td>...</td>\n",
       "      <td>0.024551</td>\n",
       "      <td>-0.439585</td>\n",
       "      <td>0.051159</td>\n",
       "      <td>0.094107</td>\n",
       "      <td>-0.470653</td>\n",
       "      <td>1.907681</td>\n",
       "      <td>0.483115</td>\n",
       "      <td>2.430124</td>\n",
       "      <td>-0.482021</td>\n",
       "      <td>0.0</td>\n",
       "    </tr>\n",
       "    <tr>\n",
       "      <th>98</th>\n",
       "      <td>1.880029</td>\n",
       "      <td>0.486634</td>\n",
       "      <td>0.952640</td>\n",
       "      <td>-0.105117</td>\n",
       "      <td>-0.265335</td>\n",
       "      <td>-0.372364</td>\n",
       "      <td>-0.547109</td>\n",
       "      <td>1.226323</td>\n",
       "      <td>-0.361900</td>\n",
       "      <td>0.125866</td>\n",
       "      <td>...</td>\n",
       "      <td>0.472920</td>\n",
       "      <td>-1.550174</td>\n",
       "      <td>1.237536</td>\n",
       "      <td>-1.799101</td>\n",
       "      <td>1.449650</td>\n",
       "      <td>0.657827</td>\n",
       "      <td>2.237440</td>\n",
       "      <td>1.219950</td>\n",
       "      <td>-1.757880</td>\n",
       "      <td>0.0</td>\n",
       "    </tr>\n",
       "    <tr>\n",
       "      <th>99</th>\n",
       "      <td>-1.292876</td>\n",
       "      <td>-0.122989</td>\n",
       "      <td>-0.977140</td>\n",
       "      <td>-0.485199</td>\n",
       "      <td>-0.167807</td>\n",
       "      <td>-0.941234</td>\n",
       "      <td>-0.565609</td>\n",
       "      <td>0.035288</td>\n",
       "      <td>-1.233384</td>\n",
       "      <td>0.453145</td>\n",
       "      <td>...</td>\n",
       "      <td>0.156919</td>\n",
       "      <td>0.049923</td>\n",
       "      <td>-0.287511</td>\n",
       "      <td>-0.329078</td>\n",
       "      <td>-0.585519</td>\n",
       "      <td>0.886829</td>\n",
       "      <td>2.217689</td>\n",
       "      <td>-0.513441</td>\n",
       "      <td>-0.722721</td>\n",
       "      <td>0.0</td>\n",
       "    </tr>\n",
       "  </tbody>\n",
       "</table>\n",
       "<p>100 rows × 21 columns</p>\n",
       "</div>"
      ],
      "text/plain": [
       "      Weight     Shape    Volume   Texture     Color  Flexibility  \\\n",
       "0   0.522500 -0.183939  0.547778 -0.569312  1.085668    -1.034127   \n",
       "1   0.329210 -0.890917  0.242468 -0.129727  0.786439    -0.011432   \n",
       "2   1.584580 -1.583573 -0.298410 -0.147568 -0.331767    -0.803173   \n",
       "3   0.949268 -0.220942 -0.648721 -0.066735 -0.556826     2.059895   \n",
       "4   0.184210 -0.979549  1.766494  0.866004  0.417419    -1.401739   \n",
       "..       ...       ...       ...       ...       ...          ...   \n",
       "95 -0.054048  0.317634  0.169702  0.086325 -0.870998    -1.053390   \n",
       "96  0.816266  0.695171  1.988960 -1.876434 -0.543564     0.489057   \n",
       "97  1.627494 -2.156264 -0.375545  0.230248 -1.521531    -1.870306   \n",
       "98  1.880029  0.486634  0.952640 -0.105117 -0.265335    -0.372364   \n",
       "99 -1.292876 -0.122989 -0.977140 -0.485199 -0.167807    -0.941234   \n",
       "\n",
       "    Transparency  Conductivity  Magnetism     Smell  ...  Hardness  Viscosity  \\\n",
       "0      -0.365809     -1.256453  -2.475211  1.625684  ... -0.468891  -0.117191   \n",
       "1       0.024253     -2.935641   0.307802  0.601680  ... -0.553574   0.856314   \n",
       "2       1.255054      2.033535   1.730754  0.738127  ...  0.273903   1.362638   \n",
       "3      -1.118174      1.536298  -0.428062 -0.677596  ...  0.269531   1.757708   \n",
       "4      -0.421092      1.376958  -0.058239 -0.205026  ...  0.123299  -0.999270   \n",
       "..           ...           ...        ...       ...  ...       ...        ...   \n",
       "95      0.078208     -1.507136   1.092457  1.954417  ... -0.114641   0.289232   \n",
       "96      1.190070     -0.296411  -0.043180 -1.037051  ...  0.182990  -0.664136   \n",
       "97     -0.938164     -0.977739   0.034151 -0.712715  ...  0.024551  -0.439585   \n",
       "98     -0.547109      1.226323  -0.361900  0.125866  ...  0.472920  -1.550174   \n",
       "99     -0.565609      0.035288  -1.233384  0.453145  ...  0.156919   0.049923   \n",
       "\n",
       "    Luminosity   Gravity   Density  Thickness  Durability  Melting point  \\\n",
       "0     2.222274 -1.128718  0.794872  -0.579219   -0.169467      -2.710080   \n",
       "1    -0.555622 -0.497325  0.282806   1.928875   -0.434532       0.914720   \n",
       "2    -0.378377  1.444719 -0.174829  -1.999652   -2.716364      -0.206037   \n",
       "3    -0.392157 -0.522421 -0.097558  -1.131576   -0.502619      -1.458732   \n",
       "4     0.359084  1.277875  1.651577  -1.730506    1.260926       0.483043   \n",
       "..         ...       ...       ...        ...         ...            ...   \n",
       "95   -0.010055 -1.568584  0.045496   2.017136   -1.314231      -0.758011   \n",
       "96   -1.062512  0.607133 -0.315531   1.641457   -0.308569       1.840407   \n",
       "97    0.051159  0.094107 -0.470653   1.907681    0.483115       2.430124   \n",
       "98    1.237536 -1.799101  1.449650   0.657827    2.237440       1.219950   \n",
       "99   -0.287511 -0.329078 -0.585519   0.886829    2.217689      -0.513441   \n",
       "\n",
       "    Reflectivity  Target  \n",
       "0       1.727675     1.0  \n",
       "1       1.494764     1.0  \n",
       "2      -0.521582     1.0  \n",
       "3      -0.687655     0.0  \n",
       "4      -0.061607     0.0  \n",
       "..           ...     ...  \n",
       "95     -0.027847     0.0  \n",
       "96     -0.969458     0.0  \n",
       "97     -0.482021     0.0  \n",
       "98     -1.757880     0.0  \n",
       "99     -0.722721     0.0  \n",
       "\n",
       "[100 rows x 21 columns]"
      ]
     },
     "execution_count": 40,
     "metadata": {},
     "output_type": "execute_result"
    }
   ],
   "source": [
    "data_variance"
   ]
  },
  {
   "cell_type": "code",
   "execution_count": null,
   "id": "98d646c9",
   "metadata": {},
   "outputs": [],
   "source": [
    "#ничего не отсеклось, можно продолжить работать с df"
   ]
  },
  {
   "cell_type": "markdown",
   "id": "10cb69d4",
   "metadata": {},
   "source": [
    "###### c) Повторите п. 2 на отобранных признаках в п. 3a, п. 3b"
   ]
  },
  {
   "cell_type": "code",
   "execution_count": 44,
   "id": "a6aca1a6",
   "metadata": {},
   "outputs": [],
   "source": [
    "df_3 = data_variance.drop(columns = ['Smell', 'Magnetism',  'Transparency', 'Flexibility', 'Color', 'Volume', 'Weight', \n",
    "                              'Melting point', 'Thickness', 'Density', 'Gravity', 'Viscosity', 'Taste'], axis = 1)"
   ]
  },
  {
   "cell_type": "code",
   "execution_count": 45,
   "id": "4941809a",
   "metadata": {},
   "outputs": [
    {
     "data": {
      "text/html": [
       "<div>\n",
       "<style scoped>\n",
       "    .dataframe tbody tr th:only-of-type {\n",
       "        vertical-align: middle;\n",
       "    }\n",
       "\n",
       "    .dataframe tbody tr th {\n",
       "        vertical-align: top;\n",
       "    }\n",
       "\n",
       "    .dataframe thead th {\n",
       "        text-align: right;\n",
       "    }\n",
       "</style>\n",
       "<table border=\"1\" class=\"dataframe\">\n",
       "  <thead>\n",
       "    <tr style=\"text-align: right;\">\n",
       "      <th></th>\n",
       "      <th>Shape</th>\n",
       "      <th>Texture</th>\n",
       "      <th>Conductivity</th>\n",
       "      <th>Hardness</th>\n",
       "      <th>Luminosity</th>\n",
       "      <th>Durability</th>\n",
       "      <th>Reflectivity</th>\n",
       "      <th>Target</th>\n",
       "    </tr>\n",
       "  </thead>\n",
       "  <tbody>\n",
       "    <tr>\n",
       "      <th>0</th>\n",
       "      <td>-0.183939</td>\n",
       "      <td>-0.569312</td>\n",
       "      <td>-1.256453</td>\n",
       "      <td>-0.468891</td>\n",
       "      <td>2.222274</td>\n",
       "      <td>-0.169467</td>\n",
       "      <td>1.727675</td>\n",
       "      <td>1.0</td>\n",
       "    </tr>\n",
       "    <tr>\n",
       "      <th>1</th>\n",
       "      <td>-0.890917</td>\n",
       "      <td>-0.129727</td>\n",
       "      <td>-2.935641</td>\n",
       "      <td>-0.553574</td>\n",
       "      <td>-0.555622</td>\n",
       "      <td>-0.434532</td>\n",
       "      <td>1.494764</td>\n",
       "      <td>1.0</td>\n",
       "    </tr>\n",
       "    <tr>\n",
       "      <th>2</th>\n",
       "      <td>-1.583573</td>\n",
       "      <td>-0.147568</td>\n",
       "      <td>2.033535</td>\n",
       "      <td>0.273903</td>\n",
       "      <td>-0.378377</td>\n",
       "      <td>-2.716364</td>\n",
       "      <td>-0.521582</td>\n",
       "      <td>1.0</td>\n",
       "    </tr>\n",
       "    <tr>\n",
       "      <th>3</th>\n",
       "      <td>-0.220942</td>\n",
       "      <td>-0.066735</td>\n",
       "      <td>1.536298</td>\n",
       "      <td>0.269531</td>\n",
       "      <td>-0.392157</td>\n",
       "      <td>-0.502619</td>\n",
       "      <td>-0.687655</td>\n",
       "      <td>0.0</td>\n",
       "    </tr>\n",
       "    <tr>\n",
       "      <th>4</th>\n",
       "      <td>-0.979549</td>\n",
       "      <td>0.866004</td>\n",
       "      <td>1.376958</td>\n",
       "      <td>0.123299</td>\n",
       "      <td>0.359084</td>\n",
       "      <td>1.260926</td>\n",
       "      <td>-0.061607</td>\n",
       "      <td>0.0</td>\n",
       "    </tr>\n",
       "    <tr>\n",
       "      <th>...</th>\n",
       "      <td>...</td>\n",
       "      <td>...</td>\n",
       "      <td>...</td>\n",
       "      <td>...</td>\n",
       "      <td>...</td>\n",
       "      <td>...</td>\n",
       "      <td>...</td>\n",
       "      <td>...</td>\n",
       "    </tr>\n",
       "    <tr>\n",
       "      <th>95</th>\n",
       "      <td>0.317634</td>\n",
       "      <td>0.086325</td>\n",
       "      <td>-1.507136</td>\n",
       "      <td>-0.114641</td>\n",
       "      <td>-0.010055</td>\n",
       "      <td>-1.314231</td>\n",
       "      <td>-0.027847</td>\n",
       "      <td>0.0</td>\n",
       "    </tr>\n",
       "    <tr>\n",
       "      <th>96</th>\n",
       "      <td>0.695171</td>\n",
       "      <td>-1.876434</td>\n",
       "      <td>-0.296411</td>\n",
       "      <td>0.182990</td>\n",
       "      <td>-1.062512</td>\n",
       "      <td>-0.308569</td>\n",
       "      <td>-0.969458</td>\n",
       "      <td>0.0</td>\n",
       "    </tr>\n",
       "    <tr>\n",
       "      <th>97</th>\n",
       "      <td>-2.156264</td>\n",
       "      <td>0.230248</td>\n",
       "      <td>-0.977739</td>\n",
       "      <td>0.024551</td>\n",
       "      <td>0.051159</td>\n",
       "      <td>0.483115</td>\n",
       "      <td>-0.482021</td>\n",
       "      <td>0.0</td>\n",
       "    </tr>\n",
       "    <tr>\n",
       "      <th>98</th>\n",
       "      <td>0.486634</td>\n",
       "      <td>-0.105117</td>\n",
       "      <td>1.226323</td>\n",
       "      <td>0.472920</td>\n",
       "      <td>1.237536</td>\n",
       "      <td>2.237440</td>\n",
       "      <td>-1.757880</td>\n",
       "      <td>0.0</td>\n",
       "    </tr>\n",
       "    <tr>\n",
       "      <th>99</th>\n",
       "      <td>-0.122989</td>\n",
       "      <td>-0.485199</td>\n",
       "      <td>0.035288</td>\n",
       "      <td>0.156919</td>\n",
       "      <td>-0.287511</td>\n",
       "      <td>2.217689</td>\n",
       "      <td>-0.722721</td>\n",
       "      <td>0.0</td>\n",
       "    </tr>\n",
       "  </tbody>\n",
       "</table>\n",
       "<p>100 rows × 8 columns</p>\n",
       "</div>"
      ],
      "text/plain": [
       "       Shape   Texture  Conductivity  Hardness  Luminosity  Durability  \\\n",
       "0  -0.183939 -0.569312     -1.256453 -0.468891    2.222274   -0.169467   \n",
       "1  -0.890917 -0.129727     -2.935641 -0.553574   -0.555622   -0.434532   \n",
       "2  -1.583573 -0.147568      2.033535  0.273903   -0.378377   -2.716364   \n",
       "3  -0.220942 -0.066735      1.536298  0.269531   -0.392157   -0.502619   \n",
       "4  -0.979549  0.866004      1.376958  0.123299    0.359084    1.260926   \n",
       "..       ...       ...           ...       ...         ...         ...   \n",
       "95  0.317634  0.086325     -1.507136 -0.114641   -0.010055   -1.314231   \n",
       "96  0.695171 -1.876434     -0.296411  0.182990   -1.062512   -0.308569   \n",
       "97 -2.156264  0.230248     -0.977739  0.024551    0.051159    0.483115   \n",
       "98  0.486634 -0.105117      1.226323  0.472920    1.237536    2.237440   \n",
       "99 -0.122989 -0.485199      0.035288  0.156919   -0.287511    2.217689   \n",
       "\n",
       "    Reflectivity  Target  \n",
       "0       1.727675     1.0  \n",
       "1       1.494764     1.0  \n",
       "2      -0.521582     1.0  \n",
       "3      -0.687655     0.0  \n",
       "4      -0.061607     0.0  \n",
       "..           ...     ...  \n",
       "95     -0.027847     0.0  \n",
       "96     -0.969458     0.0  \n",
       "97     -0.482021     0.0  \n",
       "98     -1.757880     0.0  \n",
       "99     -0.722721     0.0  \n",
       "\n",
       "[100 rows x 8 columns]"
      ]
     },
     "execution_count": 45,
     "metadata": {},
     "output_type": "execute_result"
    }
   ],
   "source": [
    "df_3"
   ]
  },
  {
   "cell_type": "code",
   "execution_count": 50,
   "id": "bb0f902c",
   "metadata": {},
   "outputs": [],
   "source": [
    "import warnings\n",
    "\n",
    "warnings.filterwarnings('ignore')"
   ]
  },
  {
   "cell_type": "code",
   "execution_count": 51,
   "id": "55d014fb",
   "metadata": {},
   "outputs": [],
   "source": [
    "x_data_generated = df_3[['Shape', 'Texture', 'Conductivity', 'Hardness', 'Luminosity', 'Durability', 'Reflectivity']]\n",
    "y_data_generated = df_3[['Target']]"
   ]
  },
  {
   "cell_type": "code",
   "execution_count": 52,
   "id": "b938bb81",
   "metadata": {},
   "outputs": [
    {
     "data": {
      "text/html": [
       "<style>#sk-container-id-3 {color: black;}#sk-container-id-3 pre{padding: 0;}#sk-container-id-3 div.sk-toggleable {background-color: white;}#sk-container-id-3 label.sk-toggleable__label {cursor: pointer;display: block;width: 100%;margin-bottom: 0;padding: 0.3em;box-sizing: border-box;text-align: center;}#sk-container-id-3 label.sk-toggleable__label-arrow:before {content: \"▸\";float: left;margin-right: 0.25em;color: #696969;}#sk-container-id-3 label.sk-toggleable__label-arrow:hover:before {color: black;}#sk-container-id-3 div.sk-estimator:hover label.sk-toggleable__label-arrow:before {color: black;}#sk-container-id-3 div.sk-toggleable__content {max-height: 0;max-width: 0;overflow: hidden;text-align: left;background-color: #f0f8ff;}#sk-container-id-3 div.sk-toggleable__content pre {margin: 0.2em;color: black;border-radius: 0.25em;background-color: #f0f8ff;}#sk-container-id-3 input.sk-toggleable__control:checked~div.sk-toggleable__content {max-height: 200px;max-width: 100%;overflow: auto;}#sk-container-id-3 input.sk-toggleable__control:checked~label.sk-toggleable__label-arrow:before {content: \"▾\";}#sk-container-id-3 div.sk-estimator input.sk-toggleable__control:checked~label.sk-toggleable__label {background-color: #d4ebff;}#sk-container-id-3 div.sk-label input.sk-toggleable__control:checked~label.sk-toggleable__label {background-color: #d4ebff;}#sk-container-id-3 input.sk-hidden--visually {border: 0;clip: rect(1px 1px 1px 1px);clip: rect(1px, 1px, 1px, 1px);height: 1px;margin: -1px;overflow: hidden;padding: 0;position: absolute;width: 1px;}#sk-container-id-3 div.sk-estimator {font-family: monospace;background-color: #f0f8ff;border: 1px dotted black;border-radius: 0.25em;box-sizing: border-box;margin-bottom: 0.5em;}#sk-container-id-3 div.sk-estimator:hover {background-color: #d4ebff;}#sk-container-id-3 div.sk-parallel-item::after {content: \"\";width: 100%;border-bottom: 1px solid gray;flex-grow: 1;}#sk-container-id-3 div.sk-label:hover label.sk-toggleable__label {background-color: #d4ebff;}#sk-container-id-3 div.sk-serial::before {content: \"\";position: absolute;border-left: 1px solid gray;box-sizing: border-box;top: 0;bottom: 0;left: 50%;z-index: 0;}#sk-container-id-3 div.sk-serial {display: flex;flex-direction: column;align-items: center;background-color: white;padding-right: 0.2em;padding-left: 0.2em;position: relative;}#sk-container-id-3 div.sk-item {position: relative;z-index: 1;}#sk-container-id-3 div.sk-parallel {display: flex;align-items: stretch;justify-content: center;background-color: white;position: relative;}#sk-container-id-3 div.sk-item::before, #sk-container-id-3 div.sk-parallel-item::before {content: \"\";position: absolute;border-left: 1px solid gray;box-sizing: border-box;top: 0;bottom: 0;left: 50%;z-index: -1;}#sk-container-id-3 div.sk-parallel-item {display: flex;flex-direction: column;z-index: 1;position: relative;background-color: white;}#sk-container-id-3 div.sk-parallel-item:first-child::after {align-self: flex-end;width: 50%;}#sk-container-id-3 div.sk-parallel-item:last-child::after {align-self: flex-start;width: 50%;}#sk-container-id-3 div.sk-parallel-item:only-child::after {width: 0;}#sk-container-id-3 div.sk-dashed-wrapped {border: 1px dashed gray;margin: 0 0.4em 0.5em 0.4em;box-sizing: border-box;padding-bottom: 0.4em;background-color: white;}#sk-container-id-3 div.sk-label label {font-family: monospace;font-weight: bold;display: inline-block;line-height: 1.2em;}#sk-container-id-3 div.sk-label-container {text-align: center;}#sk-container-id-3 div.sk-container {/* jupyter's `normalize.less` sets `[hidden] { display: none; }` but bootstrap.min.css set `[hidden] { display: none !important; }` so we also need the `!important` here to be able to override the default hidden behavior on the sphinx rendered scikit-learn.org. See: https://github.com/scikit-learn/scikit-learn/issues/21755 */display: inline-block !important;position: relative;}#sk-container-id-3 div.sk-text-repr-fallback {display: none;}</style><div id=\"sk-container-id-3\" class=\"sk-top-container\"><div class=\"sk-text-repr-fallback\"><pre>LogisticRegression()</pre><b>In a Jupyter environment, please rerun this cell to show the HTML representation or trust the notebook. <br />On GitHub, the HTML representation is unable to render, please try loading this page with nbviewer.org.</b></div><div class=\"sk-container\" hidden><div class=\"sk-item\"><div class=\"sk-estimator sk-toggleable\"><input class=\"sk-toggleable__control sk-hidden--visually\" id=\"sk-estimator-id-3\" type=\"checkbox\" checked><label for=\"sk-estimator-id-3\" class=\"sk-toggleable__label sk-toggleable__label-arrow\">LogisticRegression</label><div class=\"sk-toggleable__content\"><pre>LogisticRegression()</pre></div></div></div></div></div>"
      ],
      "text/plain": [
       "LogisticRegression()"
      ]
     },
     "execution_count": 52,
     "metadata": {},
     "output_type": "execute_result"
    }
   ],
   "source": [
    "X_train, X_test, y_train, y_test = train_test_split(x_data_generated, y_data_generated, test_size=0.2, random_state=42)\n",
    "model = LogisticRegression()\n",
    "model.fit(X_train, y_train)"
   ]
  },
  {
   "cell_type": "code",
   "execution_count": 53,
   "id": "2a0bbb80",
   "metadata": {},
   "outputs": [
    {
     "data": {
      "text/plain": [
       "0.95"
      ]
     },
     "execution_count": 53,
     "metadata": {},
     "output_type": "execute_result"
    }
   ],
   "source": [
    "cross_val_score(LogisticRegression(), X_test, y_test, scoring='accuracy').mean()"
   ]
  },
  {
   "cell_type": "code",
   "execution_count": null,
   "id": "fa476c0d",
   "metadata": {},
   "outputs": [],
   "source": [
    "#увеличилась точность до 95%"
   ]
  },
  {
   "cell_type": "markdown",
   "id": "debafb7a",
   "metadata": {},
   "source": [
    "### 4. Осуществите отбор признаков на основе дисперсионного анализа:"
   ]
  },
  {
   "cell_type": "markdown",
   "id": "ccc9ac32",
   "metadata": {},
   "source": [
    "###### a) Выберите 5 лучших признаков с помощью скоринговой функции для классификации f_classif (SelectKBest(f_classif, k=5))."
   ]
  },
  {
   "cell_type": "code",
   "execution_count": 56,
   "id": "a3311111",
   "metadata": {},
   "outputs": [],
   "source": [
    "from sklearn.feature_selection import SelectKBest\n",
    "from sklearn.feature_selection import f_classif"
   ]
  },
  {
   "cell_type": "code",
   "execution_count": 57,
   "id": "d9259f83",
   "metadata": {},
   "outputs": [],
   "source": [
    "selector = SelectKBest(f_classif, k=5)\n",
    "X_tr = selector.fit_transform(X_train, y_train)\n",
    "X_t = selector.transform(X_test)"
   ]
  },
  {
   "cell_type": "markdown",
   "id": "2f8cf91c",
   "metadata": {},
   "source": [
    "##### b) Повторите п. 2 на отобранных признаках."
   ]
  },
  {
   "cell_type": "code",
   "execution_count": 64,
   "id": "021541ba",
   "metadata": {},
   "outputs": [
    {
     "data": {
      "text/html": [
       "<style>#sk-container-id-5 {color: black;}#sk-container-id-5 pre{padding: 0;}#sk-container-id-5 div.sk-toggleable {background-color: white;}#sk-container-id-5 label.sk-toggleable__label {cursor: pointer;display: block;width: 100%;margin-bottom: 0;padding: 0.3em;box-sizing: border-box;text-align: center;}#sk-container-id-5 label.sk-toggleable__label-arrow:before {content: \"▸\";float: left;margin-right: 0.25em;color: #696969;}#sk-container-id-5 label.sk-toggleable__label-arrow:hover:before {color: black;}#sk-container-id-5 div.sk-estimator:hover label.sk-toggleable__label-arrow:before {color: black;}#sk-container-id-5 div.sk-toggleable__content {max-height: 0;max-width: 0;overflow: hidden;text-align: left;background-color: #f0f8ff;}#sk-container-id-5 div.sk-toggleable__content pre {margin: 0.2em;color: black;border-radius: 0.25em;background-color: #f0f8ff;}#sk-container-id-5 input.sk-toggleable__control:checked~div.sk-toggleable__content {max-height: 200px;max-width: 100%;overflow: auto;}#sk-container-id-5 input.sk-toggleable__control:checked~label.sk-toggleable__label-arrow:before {content: \"▾\";}#sk-container-id-5 div.sk-estimator input.sk-toggleable__control:checked~label.sk-toggleable__label {background-color: #d4ebff;}#sk-container-id-5 div.sk-label input.sk-toggleable__control:checked~label.sk-toggleable__label {background-color: #d4ebff;}#sk-container-id-5 input.sk-hidden--visually {border: 0;clip: rect(1px 1px 1px 1px);clip: rect(1px, 1px, 1px, 1px);height: 1px;margin: -1px;overflow: hidden;padding: 0;position: absolute;width: 1px;}#sk-container-id-5 div.sk-estimator {font-family: monospace;background-color: #f0f8ff;border: 1px dotted black;border-radius: 0.25em;box-sizing: border-box;margin-bottom: 0.5em;}#sk-container-id-5 div.sk-estimator:hover {background-color: #d4ebff;}#sk-container-id-5 div.sk-parallel-item::after {content: \"\";width: 100%;border-bottom: 1px solid gray;flex-grow: 1;}#sk-container-id-5 div.sk-label:hover label.sk-toggleable__label {background-color: #d4ebff;}#sk-container-id-5 div.sk-serial::before {content: \"\";position: absolute;border-left: 1px solid gray;box-sizing: border-box;top: 0;bottom: 0;left: 50%;z-index: 0;}#sk-container-id-5 div.sk-serial {display: flex;flex-direction: column;align-items: center;background-color: white;padding-right: 0.2em;padding-left: 0.2em;position: relative;}#sk-container-id-5 div.sk-item {position: relative;z-index: 1;}#sk-container-id-5 div.sk-parallel {display: flex;align-items: stretch;justify-content: center;background-color: white;position: relative;}#sk-container-id-5 div.sk-item::before, #sk-container-id-5 div.sk-parallel-item::before {content: \"\";position: absolute;border-left: 1px solid gray;box-sizing: border-box;top: 0;bottom: 0;left: 50%;z-index: -1;}#sk-container-id-5 div.sk-parallel-item {display: flex;flex-direction: column;z-index: 1;position: relative;background-color: white;}#sk-container-id-5 div.sk-parallel-item:first-child::after {align-self: flex-end;width: 50%;}#sk-container-id-5 div.sk-parallel-item:last-child::after {align-self: flex-start;width: 50%;}#sk-container-id-5 div.sk-parallel-item:only-child::after {width: 0;}#sk-container-id-5 div.sk-dashed-wrapped {border: 1px dashed gray;margin: 0 0.4em 0.5em 0.4em;box-sizing: border-box;padding-bottom: 0.4em;background-color: white;}#sk-container-id-5 div.sk-label label {font-family: monospace;font-weight: bold;display: inline-block;line-height: 1.2em;}#sk-container-id-5 div.sk-label-container {text-align: center;}#sk-container-id-5 div.sk-container {/* jupyter's `normalize.less` sets `[hidden] { display: none; }` but bootstrap.min.css set `[hidden] { display: none !important; }` so we also need the `!important` here to be able to override the default hidden behavior on the sphinx rendered scikit-learn.org. See: https://github.com/scikit-learn/scikit-learn/issues/21755 */display: inline-block !important;position: relative;}#sk-container-id-5 div.sk-text-repr-fallback {display: none;}</style><div id=\"sk-container-id-5\" class=\"sk-top-container\"><div class=\"sk-text-repr-fallback\"><pre>LogisticRegression()</pre><b>In a Jupyter environment, please rerun this cell to show the HTML representation or trust the notebook. <br />On GitHub, the HTML representation is unable to render, please try loading this page with nbviewer.org.</b></div><div class=\"sk-container\" hidden><div class=\"sk-item\"><div class=\"sk-estimator sk-toggleable\"><input class=\"sk-toggleable__control sk-hidden--visually\" id=\"sk-estimator-id-5\" type=\"checkbox\" checked><label for=\"sk-estimator-id-5\" class=\"sk-toggleable__label sk-toggleable__label-arrow\">LogisticRegression</label><div class=\"sk-toggleable__content\"><pre>LogisticRegression()</pre></div></div></div></div></div>"
      ],
      "text/plain": [
       "LogisticRegression()"
      ]
     },
     "execution_count": 64,
     "metadata": {},
     "output_type": "execute_result"
    }
   ],
   "source": [
    "model = LogisticRegression()\n",
    "model.fit(X_tr, y_train)"
   ]
  },
  {
   "cell_type": "code",
   "execution_count": 65,
   "id": "5dc4fd80",
   "metadata": {},
   "outputs": [
    {
     "data": {
      "text/plain": [
       "0.9"
      ]
     },
     "execution_count": 65,
     "metadata": {},
     "output_type": "execute_result"
    }
   ],
   "source": [
    "cross_val_score(LogisticRegression(), X_t, y_test, scoring='accuracy').mean()"
   ]
  },
  {
   "cell_type": "code",
   "execution_count": null,
   "id": "bc0a7e31",
   "metadata": {},
   "outputs": [],
   "source": [
    "#лучше, чем без обработки, но хуже, чем с ручным отбором по корреляции"
   ]
  },
  {
   "cell_type": "markdown",
   "id": "103569bd",
   "metadata": {},
   "source": [
    "### 5. Отбор с использованием моделей:"
   ]
  },
  {
   "cell_type": "markdown",
   "id": "54a1ae73",
   "metadata": {},
   "source": [
    "###### a) Реализуйте отбор признаков с помощью логистической регрессии. Отобранные признаки подайте далее на вход в саму логистическую регрессию (SelectFromModel). Используйте L1 регуляризацию."
   ]
  },
  {
   "cell_type": "code",
   "execution_count": 193,
   "id": "46cb2d35",
   "metadata": {},
   "outputs": [],
   "source": [
    "from sklearn.linear_model import LogisticRegression"
   ]
  },
  {
   "cell_type": "code",
   "execution_count": 194,
   "id": "4f8b27d4",
   "metadata": {},
   "outputs": [],
   "source": [
    "x_data_generated = df[['Weight', 'Shape', 'Volume', 'Texture', 'Color', 'Flexibility', 'Transparency', 'Conductivity', \n",
    "    'Magnetism', 'Smell', 'Taste', 'Hardness', 'Viscosity', 'Luminosity', 'Gravity', 'Density', 'Thickness', \n",
    "    'Durability', 'Melting point', 'Reflectivity']]"
   ]
  },
  {
   "cell_type": "code",
   "execution_count": 195,
   "id": "b507fcea",
   "metadata": {},
   "outputs": [],
   "source": [
    "y_data_generated = df[['target']]"
   ]
  },
  {
   "cell_type": "code",
   "execution_count": 196,
   "id": "d69b82c6",
   "metadata": {},
   "outputs": [],
   "source": [
    "X_train, X_test, y_train, y_test = train_test_split(x_data_generated, y_data_generated, test_size=0.2, random_state=42)"
   ]
  },
  {
   "cell_type": "code",
   "execution_count": 197,
   "id": "7af613e8",
   "metadata": {},
   "outputs": [
    {
     "data": {
      "text/plain": [
       "0.95"
      ]
     },
     "execution_count": 197,
     "metadata": {},
     "output_type": "execute_result"
    }
   ],
   "source": [
    "#смотрим на точность с логистической регрессией\n",
    "rf = LogisticRegression(random_state=1).fit(X_train, y_train)\n",
    "rf.score(X_test, y_test)"
   ]
  },
  {
   "cell_type": "code",
   "execution_count": 198,
   "id": "7f4f2428",
   "metadata": {},
   "outputs": [
    {
     "data": {
      "text/plain": [
       "array([ 0,  1,  2,  3,  4,  5,  6,  7,  8,  9, 10, 11, 12, 13, 14, 15, 16,\n",
       "       17, 18, 19])"
      ]
     },
     "execution_count": 198,
     "metadata": {},
     "output_type": "execute_result"
    }
   ],
   "source": [
    "np.arange(len(rf.coef_[0]))"
   ]
  },
  {
   "cell_type": "code",
   "execution_count": 199,
   "id": "81d4496e",
   "metadata": {},
   "outputs": [
    {
     "data": {
      "text/plain": [
       "array([[ 0.116174  ,  0.33488767, -0.06559021,  0.02695465,  0.03098228,\n",
       "         0.13363859, -0.14070951, -0.95215284, -0.27478794,  0.19363605,\n",
       "         0.23278744, -0.4126186 , -0.10266823, -0.61475361,  0.35455754,\n",
       "         0.06383355, -0.78588145, -0.81658654,  0.6108864 ,  1.57793762]])"
      ]
     },
     "execution_count": 199,
     "metadata": {},
     "output_type": "execute_result"
    }
   ],
   "source": [
    "rf.coef_"
   ]
  },
  {
   "cell_type": "code",
   "execution_count": 200,
   "id": "6140abf7",
   "metadata": {},
   "outputs": [],
   "source": [
    "import numpy as np"
   ]
  },
  {
   "cell_type": "code",
   "execution_count": 201,
   "id": "a85e2fec",
   "metadata": {},
   "outputs": [
    {
     "name": "stdout",
     "output_type": "stream",
     "text": [
      "[0.116174   0.33488767 0.06559021 0.02695465 0.03098228 0.13363859\n",
      " 0.14070951 0.95215284 0.27478794 0.19363605 0.23278744 0.4126186\n",
      " 0.10266823 0.61475361 0.35455754 0.06383355 0.78588145 0.81658654\n",
      " 0.6108864  1.57793762]\n"
     ]
    }
   ],
   "source": [
    "#для рисунка без отрицательных значений\n",
    "rf_abs = np.array([])\n",
    "for i in rf.coef_[0]:\n",
    "    rf_abs = np.append(rf_abs, abs(i))\n",
    "print(rf_abs)"
   ]
  },
  {
   "cell_type": "code",
   "execution_count": 202,
   "id": "e12dc79d",
   "metadata": {},
   "outputs": [
    {
     "data": {
      "text/plain": [
       "Text(0, 0.5, 'coefs')"
      ]
     },
     "execution_count": 202,
     "metadata": {},
     "output_type": "execute_result"
    },
    {
     "data": {
      "image/png": "[encoded data removed]",
      "text/plain": [
       "<Figure size 1500x600 with 1 Axes>"
      ]
     },
     "metadata": {},
     "output_type": "display_data"
    }
   ],
   "source": [
    "#несмотря на идеальный результат, можно уменьшить количество признаков. выводим их важность\n",
    "plt.figure(figsize=(15, 6))\n",
    "plt.bar(np.arange(len(rf.coef_[0])), sorted(rf_abs, reverse=True))\n",
    "plt.xlabel('features')\n",
    "plt.ylabel('coefs')\n",
    "#Отрицательный коэффициент означает, что более высокое значение соответствующего \n",
    "#признака приближает классификацию к отрицательному классу. "
   ]
  },
  {
   "cell_type": "code",
   "execution_count": 240,
   "id": "755303e9",
   "metadata": {},
   "outputs": [
    {
     "data": {
      "text/plain": [
       "array([False, False, False, False, False, False, False,  True, False,\n",
       "       False, False, False, False, False, False, False,  True, False,\n",
       "       False,  True])"
      ]
     },
     "execution_count": 240,
     "metadata": {},
     "output_type": "execute_result"
    }
   ],
   "source": [
    "from sklearn.feature_selection import RFE\n",
    "\n",
    "selector = RFE(rf, n_features_to_select=3, step=1)\n",
    "selector = selector.fit(X_train, y_train)\n",
    "selector.support_"
   ]
  },
  {
   "cell_type": "code",
   "execution_count": 241,
   "id": "d1907f88",
   "metadata": {},
   "outputs": [
    {
     "data": {
      "text/plain": [
       "Index(['Weight', 'Shape', 'Volume', 'Texture', 'Color', 'Flexibility',\n",
       "       'Transparency', 'Conductivity', 'Magnetism', 'Smell', 'Taste',\n",
       "       'Hardness', 'Viscosity', 'Luminosity', 'Gravity', 'Density',\n",
       "       'Thickness', 'Durability', 'Melting point', 'Reflectivity'],\n",
       "      dtype='object')"
      ]
     },
     "execution_count": 241,
     "metadata": {},
     "output_type": "execute_result"
    }
   ],
   "source": [
    "X_train.columns"
   ]
  },
  {
   "cell_type": "code",
   "execution_count": 242,
   "id": "d62b3c84",
   "metadata": {},
   "outputs": [
    {
     "data": {
      "text/plain": [
       "array([14,  6, 15, 18, 17, 12, 11,  1,  9, 10,  8,  5, 13,  3,  7, 16,  1,\n",
       "        2,  4,  1])"
      ]
     },
     "execution_count": 242,
     "metadata": {},
     "output_type": "execute_result"
    }
   ],
   "source": [
    "selector.ranking_"
   ]
  },
  {
   "cell_type": "code",
   "execution_count": 243,
   "id": "44c20996",
   "metadata": {},
   "outputs": [
    {
     "data": {
      "text/plain": [
       "0.9"
      ]
     },
     "execution_count": 243,
     "metadata": {},
     "output_type": "execute_result"
    }
   ],
   "source": [
    "X_tr = selector.transform(X_train)\n",
    "X_t = selector.transform(X_test)\n",
    "\n",
    "rf = LogisticRegression(random_state=1).fit(X_tr, y_train)\n",
    "rf.score(X_t, y_test)\n",
    "#сначала оставила 10, но если оставить 5 признаков, точность не меняется"
   ]
  },
  {
   "cell_type": "code",
   "execution_count": 244,
   "id": "d5e62c7a",
   "metadata": {},
   "outputs": [],
   "source": [
    "from sklearn.feature_selection import SelectFromModel\n",
    "\n",
    "selector = SelectFromModel(rf, prefit=False, max_features=5, threshold=0.05) #здесь два условия отсечки. \n",
    "#max_features максимум признаков которые оставляем \n",
    "#threshold - знАчимость признака (на графике coefs). \n",
    "#в зависимоти от того что первое достигается, то и остаётся\n",
    "X_tr = selector.fit_transform(X_train, y_train)\n",
    "X_t = selector.transform(X_test)"
   ]
  },
  {
   "cell_type": "code",
   "execution_count": 245,
   "id": "2cd19969",
   "metadata": {},
   "outputs": [
    {
     "data": {
      "text/plain": [
       "1.0"
      ]
     },
     "execution_count": 245,
     "metadata": {},
     "output_type": "execute_result"
    }
   ],
   "source": [
    "rf = LogisticRegression(random_state=1).fit(X_tr, y_train)\n",
    "rf.score(X_t, y_test)"
   ]
  },
  {
   "cell_type": "code",
   "execution_count": null,
   "id": "7b402b4b",
   "metadata": {},
   "outputs": [],
   "source": [
    "#стало идеально"
   ]
  },
  {
   "cell_type": "markdown",
   "id": "0464770b",
   "metadata": {},
   "source": [
    "### 6. Перебор признаков:"
   ]
  },
  {
   "cell_type": "markdown",
   "id": "779cc804",
   "metadata": {},
   "source": [
    "###### a) SequentialFeatureSelector."
   ]
  },
  {
   "cell_type": "code",
   "execution_count": 68,
   "id": "87af1950",
   "metadata": {},
   "outputs": [],
   "source": [
    "from sklearn.ensemble import RandomForestClassifier"
   ]
  },
  {
   "cell_type": "code",
   "execution_count": 69,
   "id": "ba9c3ba2",
   "metadata": {},
   "outputs": [],
   "source": [
    "X_train, X_test, y_train, y_test = train_test_split(x_data_generated, y_data_generated, test_size=0.2, random_state=42)"
   ]
  },
  {
   "cell_type": "code",
   "execution_count": 71,
   "id": "1894948a",
   "metadata": {},
   "outputs": [
    {
     "data": {
      "text/html": [
       "<style>#sk-container-id-6 {color: black;}#sk-container-id-6 pre{padding: 0;}#sk-container-id-6 div.sk-toggleable {background-color: white;}#sk-container-id-6 label.sk-toggleable__label {cursor: pointer;display: block;width: 100%;margin-bottom: 0;padding: 0.3em;box-sizing: border-box;text-align: center;}#sk-container-id-6 label.sk-toggleable__label-arrow:before {content: \"▸\";float: left;margin-right: 0.25em;color: #696969;}#sk-container-id-6 label.sk-toggleable__label-arrow:hover:before {color: black;}#sk-container-id-6 div.sk-estimator:hover label.sk-toggleable__label-arrow:before {color: black;}#sk-container-id-6 div.sk-toggleable__content {max-height: 0;max-width: 0;overflow: hidden;text-align: left;background-color: #f0f8ff;}#sk-container-id-6 div.sk-toggleable__content pre {margin: 0.2em;color: black;border-radius: 0.25em;background-color: #f0f8ff;}#sk-container-id-6 input.sk-toggleable__control:checked~div.sk-toggleable__content {max-height: 200px;max-width: 100%;overflow: auto;}#sk-container-id-6 input.sk-toggleable__control:checked~label.sk-toggleable__label-arrow:before {content: \"▾\";}#sk-container-id-6 div.sk-estimator input.sk-toggleable__control:checked~label.sk-toggleable__label {background-color: #d4ebff;}#sk-container-id-6 div.sk-label input.sk-toggleable__control:checked~label.sk-toggleable__label {background-color: #d4ebff;}#sk-container-id-6 input.sk-hidden--visually {border: 0;clip: rect(1px 1px 1px 1px);clip: rect(1px, 1px, 1px, 1px);height: 1px;margin: -1px;overflow: hidden;padding: 0;position: absolute;width: 1px;}#sk-container-id-6 div.sk-estimator {font-family: monospace;background-color: #f0f8ff;border: 1px dotted black;border-radius: 0.25em;box-sizing: border-box;margin-bottom: 0.5em;}#sk-container-id-6 div.sk-estimator:hover {background-color: #d4ebff;}#sk-container-id-6 div.sk-parallel-item::after {content: \"\";width: 100%;border-bottom: 1px solid gray;flex-grow: 1;}#sk-container-id-6 div.sk-label:hover label.sk-toggleable__label {background-color: #d4ebff;}#sk-container-id-6 div.sk-serial::before {content: \"\";position: absolute;border-left: 1px solid gray;box-sizing: border-box;top: 0;bottom: 0;left: 50%;z-index: 0;}#sk-container-id-6 div.sk-serial {display: flex;flex-direction: column;align-items: center;background-color: white;padding-right: 0.2em;padding-left: 0.2em;position: relative;}#sk-container-id-6 div.sk-item {position: relative;z-index: 1;}#sk-container-id-6 div.sk-parallel {display: flex;align-items: stretch;justify-content: center;background-color: white;position: relative;}#sk-container-id-6 div.sk-item::before, #sk-container-id-6 div.sk-parallel-item::before {content: \"\";position: absolute;border-left: 1px solid gray;box-sizing: border-box;top: 0;bottom: 0;left: 50%;z-index: -1;}#sk-container-id-6 div.sk-parallel-item {display: flex;flex-direction: column;z-index: 1;position: relative;background-color: white;}#sk-container-id-6 div.sk-parallel-item:first-child::after {align-self: flex-end;width: 50%;}#sk-container-id-6 div.sk-parallel-item:last-child::after {align-self: flex-start;width: 50%;}#sk-container-id-6 div.sk-parallel-item:only-child::after {width: 0;}#sk-container-id-6 div.sk-dashed-wrapped {border: 1px dashed gray;margin: 0 0.4em 0.5em 0.4em;box-sizing: border-box;padding-bottom: 0.4em;background-color: white;}#sk-container-id-6 div.sk-label label {font-family: monospace;font-weight: bold;display: inline-block;line-height: 1.2em;}#sk-container-id-6 div.sk-label-container {text-align: center;}#sk-container-id-6 div.sk-container {/* jupyter's `normalize.less` sets `[hidden] { display: none; }` but bootstrap.min.css set `[hidden] { display: none !important; }` so we also need the `!important` here to be able to override the default hidden behavior on the sphinx rendered scikit-learn.org. See: https://github.com/scikit-learn/scikit-learn/issues/21755 */display: inline-block !important;position: relative;}#sk-container-id-6 div.sk-text-repr-fallback {display: none;}</style><div id=\"sk-container-id-6\" class=\"sk-top-container\"><div class=\"sk-text-repr-fallback\"><pre>SequentialFeatureSelector(estimator=RandomForestClassifier(random_state=1),\n",
       "                          n_features_to_select=5)</pre><b>In a Jupyter environment, please rerun this cell to show the HTML representation or trust the notebook. <br />On GitHub, the HTML representation is unable to render, please try loading this page with nbviewer.org.</b></div><div class=\"sk-container\" hidden><div class=\"sk-item sk-dashed-wrapped\"><div class=\"sk-label-container\"><div class=\"sk-label sk-toggleable\"><input class=\"sk-toggleable__control sk-hidden--visually\" id=\"sk-estimator-id-6\" type=\"checkbox\" ><label for=\"sk-estimator-id-6\" class=\"sk-toggleable__label sk-toggleable__label-arrow\">SequentialFeatureSelector</label><div class=\"sk-toggleable__content\"><pre>SequentialFeatureSelector(estimator=RandomForestClassifier(random_state=1),\n",
       "                          n_features_to_select=5)</pre></div></div></div><div class=\"sk-parallel\"><div class=\"sk-parallel-item\"><div class=\"sk-item\"><div class=\"sk-label-container\"><div class=\"sk-label sk-toggleable\"><input class=\"sk-toggleable__control sk-hidden--visually\" id=\"sk-estimator-id-7\" type=\"checkbox\" ><label for=\"sk-estimator-id-7\" class=\"sk-toggleable__label sk-toggleable__label-arrow\">estimator: RandomForestClassifier</label><div class=\"sk-toggleable__content\"><pre>RandomForestClassifier(random_state=1)</pre></div></div></div><div class=\"sk-serial\"><div class=\"sk-item\"><div class=\"sk-estimator sk-toggleable\"><input class=\"sk-toggleable__control sk-hidden--visually\" id=\"sk-estimator-id-8\" type=\"checkbox\" ><label for=\"sk-estimator-id-8\" class=\"sk-toggleable__label sk-toggleable__label-arrow\">RandomForestClassifier</label><div class=\"sk-toggleable__content\"><pre>RandomForestClassifier(random_state=1)</pre></div></div></div></div></div></div></div></div></div></div>"
      ],
      "text/plain": [
       "SequentialFeatureSelector(estimator=RandomForestClassifier(random_state=1),\n",
       "                          n_features_to_select=5)"
      ]
     },
     "execution_count": 71,
     "metadata": {},
     "output_type": "execute_result"
    }
   ],
   "source": [
    "from sklearn.feature_selection import SequentialFeatureSelector\n",
    "\n",
    "sfs_forward = SequentialFeatureSelector(\n",
    "    RandomForestClassifier(random_state=1), n_features_to_select=5, direction=\"forward\"\n",
    ")\n",
    "sfs_forward.fit(X_train, y_train)"
   ]
  },
  {
   "cell_type": "markdown",
   "id": "e1bf4be0",
   "metadata": {},
   "source": [
    "###### b) Повторите п. 2 на отобранных признаках."
   ]
  },
  {
   "cell_type": "code",
   "execution_count": 72,
   "id": "cca2feeb",
   "metadata": {},
   "outputs": [],
   "source": [
    "X_tr = sfs_forward.transform(X_train)\n",
    "X_t = sfs_forward.transform(X_test)"
   ]
  },
  {
   "cell_type": "code",
   "execution_count": 73,
   "id": "0e82a743",
   "metadata": {},
   "outputs": [
    {
     "data": {
      "text/plain": [
       "0.95"
      ]
     },
     "execution_count": 73,
     "metadata": {},
     "output_type": "execute_result"
    }
   ],
   "source": [
    "cross_val_score(LogisticRegression(), X_t, y_test, scoring='accuracy').mean()"
   ]
  },
  {
   "cell_type": "code",
   "execution_count": null,
   "id": "f1662cb6",
   "metadata": {},
   "outputs": [],
   "source": [
    "#точность снова 95%"
   ]
  },
  {
   "cell_type": "markdown",
   "id": "4d42d5f7",
   "metadata": {},
   "source": [
    "### 7. Сформулируйте выводы по проделанной работе:\n",
    "a) Сделайте таблицу вида |способ выбора признаков|количество признаков|средняя точность модели|."
   ]
  },
  {
   "cell_type": "code",
   "execution_count": 268,
   "id": "4a1dbc4f",
   "metadata": {},
   "outputs": [
    {
     "data": {
      "text/html": [
       "<style type=\"text/css\">\n",
       "#T_95733_row0_col0, #T_95733_row0_col1, #T_95733_row0_col2 {\n",
       "  font-size: 10pt;\n",
       "  color: black;\n",
       "  background-color: Lavender;\n",
       "}\n",
       "#T_95733_row1_col0, #T_95733_row1_col1, #T_95733_row1_col2, #T_95733_row2_col0, #T_95733_row2_col1, #T_95733_row2_col2, #T_95733_row3_col0, #T_95733_row3_col1, #T_95733_row3_col2, #T_95733_row4_col0, #T_95733_row4_col1, #T_95733_row4_col2, #T_95733_row5_col0, #T_95733_row5_col1, #T_95733_row5_col2, #T_95733_row6_col0, #T_95733_row6_col1, #T_95733_row6_col2 {\n",
       "  font-size: 10pt;\n",
       "  color: black;\n",
       "}\n",
       "</style>\n",
       "<table id=\"T_95733\">\n",
       "  <thead>\n",
       "  </thead>\n",
       "  <tbody>\n",
       "    <tr>\n",
       "      <td id=\"T_95733_row0_col0\" class=\"data row0 col0\" >Способ выбора признаков</td>\n",
       "      <td id=\"T_95733_row0_col1\" class=\"data row0 col1\" >Количество признаков</td>\n",
       "      <td id=\"T_95733_row0_col2\" class=\"data row0 col2\" >Средняя точность модели</td>\n",
       "    </tr>\n",
       "    <tr>\n",
       "      <td id=\"T_95733_row1_col0\" class=\"data row1 col0\" >Без отбора</td>\n",
       "      <td id=\"T_95733_row1_col1\" class=\"data row1 col1\" >20</td>\n",
       "      <td id=\"T_95733_row1_col2\" class=\"data row1 col2\" >85%</td>\n",
       "    </tr>\n",
       "    <tr>\n",
       "      <td id=\"T_95733_row2_col0\" class=\"data row2 col0\" >Матрица корреляции</td>\n",
       "      <td id=\"T_95733_row2_col1\" class=\"data row2 col1\" >7</td>\n",
       "      <td id=\"T_95733_row2_col2\" class=\"data row2 col2\" >95%</td>\n",
       "    </tr>\n",
       "    <tr>\n",
       "      <td id=\"T_95733_row3_col0\" class=\"data row3 col0\" >SelectKBest</td>\n",
       "      <td id=\"T_95733_row3_col1\" class=\"data row3 col1\" >5</td>\n",
       "      <td id=\"T_95733_row3_col2\" class=\"data row3 col2\" >90%</td>\n",
       "    </tr>\n",
       "    <tr>\n",
       "      <td id=\"T_95733_row4_col0\" class=\"data row4 col0\" >RFE</td>\n",
       "      <td id=\"T_95733_row4_col1\" class=\"data row4 col1\" >3</td>\n",
       "      <td id=\"T_95733_row4_col2\" class=\"data row4 col2\" >90%</td>\n",
       "    </tr>\n",
       "    <tr>\n",
       "      <td id=\"T_95733_row5_col0\" class=\"data row5 col0\" >SelectFromModel</td>\n",
       "      <td id=\"T_95733_row5_col1\" class=\"data row5 col1\" >5</td>\n",
       "      <td id=\"T_95733_row5_col2\" class=\"data row5 col2\" >100%</td>\n",
       "    </tr>\n",
       "    <tr>\n",
       "      <td id=\"T_95733_row6_col0\" class=\"data row6 col0\" >SequentialFeatureSelector</td>\n",
       "      <td id=\"T_95733_row6_col1\" class=\"data row6 col1\" >5</td>\n",
       "      <td id=\"T_95733_row6_col2\" class=\"data row6 col2\" >95%</td>\n",
       "    </tr>\n",
       "  </tbody>\n",
       "</table>\n"
      ],
      "text/plain": [
       "<pandas.io.formats.style.Styler at 0x225662f5450>"
      ]
     },
     "execution_count": 268,
     "metadata": {},
     "output_type": "execute_result"
    }
   ],
   "source": [
    "pd.DataFrame([['Способ выбора признаков', 'Количество признаков', 'Средняя точность модели'],\n",
    "              ['Без отбора', '20', '85%'],\n",
    "              ['Матрица корреляции', '7', '95%'],\n",
    "              ['SelectKBest', '5', '90%'],\n",
    "              ['RFE', '3', '90%'],\n",
    "              ['SelectFromModel', '5', '100%'],\n",
    "              ['SequentialFeatureSelector', '5', '95%']]).style\\\n",
    "                .set_properties(**{'font-size': '10pt', 'color': 'black'})\\\n",
    "                .apply(lambda x: ['background-color:Lavender' for it in x], subset=0, axis=0)\\\n",
    "                .hide(axis='columns').hide(axis='index')"
   ]
  }
 ],
 "metadata": {
  "kernelspec": {
   "display_name": "Python 3 (ipykernel)",
   "language": "python",
   "name": "python3"
  },
  "language_info": {
   "codemirror_mode": {
    "name": "ipython",
    "version": 3
   },
   "file_extension": ".py",
   "mimetype": "text/x-python",
   "name": "python",
   "nbconvert_exporter": "python",
   "pygments_lexer": "ipython3",
   "version": "3.11.5"
  }
 },
 "nbformat": 4,
 "nbformat_minor": 5
}
