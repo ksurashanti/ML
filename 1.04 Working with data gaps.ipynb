{
 "cells": [
  {
   "cell_type": "code",
   "execution_count": 43,
   "id": "6fff4d72",
   "metadata": {},
   "outputs": [],
   "source": [
    "import pandas as pd\n",
    "import numpy as np\n",
    "\n",
    "from sklearn.linear_model import LinearRegression"
   ]
  },
  {
   "cell_type": "markdown",
   "id": "3d41349e",
   "metadata": {},
   "source": [
    "### 1. Получите и загрузите данные."
   ]
  },
  {
   "cell_type": "code",
   "execution_count": 44,
   "id": "4417c789",
   "metadata": {},
   "outputs": [
    {
     "data": {
      "text/html": [
       "<div>\n",
       "<style scoped>\n",
       "    .dataframe tbody tr th:only-of-type {\n",
       "        vertical-align: middle;\n",
       "    }\n",
       "\n",
       "    .dataframe tbody tr th {\n",
       "        vertical-align: top;\n",
       "    }\n",
       "\n",
       "    .dataframe thead th {\n",
       "        text-align: right;\n",
       "    }\n",
       "</style>\n",
       "<table border=\"1\" class=\"dataframe\">\n",
       "  <thead>\n",
       "    <tr style=\"text-align: right;\">\n",
       "      <th></th>\n",
       "      <th>PassengerId</th>\n",
       "      <th>Survived</th>\n",
       "      <th>Pclass</th>\n",
       "      <th>Name</th>\n",
       "      <th>Sex</th>\n",
       "      <th>Age</th>\n",
       "      <th>SibSp</th>\n",
       "      <th>Parch</th>\n",
       "      <th>Ticket</th>\n",
       "      <th>Fare</th>\n",
       "      <th>Cabin</th>\n",
       "      <th>Embarked</th>\n",
       "    </tr>\n",
       "  </thead>\n",
       "  <tbody>\n",
       "    <tr>\n",
       "      <th>0</th>\n",
       "      <td>1</td>\n",
       "      <td>0</td>\n",
       "      <td>3</td>\n",
       "      <td>Braund, Mr. Owen Harris</td>\n",
       "      <td>male</td>\n",
       "      <td>22.0</td>\n",
       "      <td>1</td>\n",
       "      <td>0</td>\n",
       "      <td>A/5 21171</td>\n",
       "      <td>7.2500</td>\n",
       "      <td>NaN</td>\n",
       "      <td>S</td>\n",
       "    </tr>\n",
       "    <tr>\n",
       "      <th>1</th>\n",
       "      <td>2</td>\n",
       "      <td>1</td>\n",
       "      <td>1</td>\n",
       "      <td>Cumings, Mrs. John Bradley (Florence Briggs Th...</td>\n",
       "      <td>female</td>\n",
       "      <td>38.0</td>\n",
       "      <td>1</td>\n",
       "      <td>0</td>\n",
       "      <td>PC 17599</td>\n",
       "      <td>71.2833</td>\n",
       "      <td>C85</td>\n",
       "      <td>C</td>\n",
       "    </tr>\n",
       "    <tr>\n",
       "      <th>2</th>\n",
       "      <td>3</td>\n",
       "      <td>1</td>\n",
       "      <td>3</td>\n",
       "      <td>Heikkinen, Miss. Laina</td>\n",
       "      <td>female</td>\n",
       "      <td>26.0</td>\n",
       "      <td>0</td>\n",
       "      <td>0</td>\n",
       "      <td>STON/O2. 3101282</td>\n",
       "      <td>7.9250</td>\n",
       "      <td>NaN</td>\n",
       "      <td>S</td>\n",
       "    </tr>\n",
       "    <tr>\n",
       "      <th>3</th>\n",
       "      <td>4</td>\n",
       "      <td>1</td>\n",
       "      <td>1</td>\n",
       "      <td>Futrelle, Mrs. Jacques Heath (Lily May Peel)</td>\n",
       "      <td>female</td>\n",
       "      <td>35.0</td>\n",
       "      <td>1</td>\n",
       "      <td>0</td>\n",
       "      <td>113803</td>\n",
       "      <td>53.1000</td>\n",
       "      <td>C123</td>\n",
       "      <td>S</td>\n",
       "    </tr>\n",
       "    <tr>\n",
       "      <th>4</th>\n",
       "      <td>5</td>\n",
       "      <td>0</td>\n",
       "      <td>3</td>\n",
       "      <td>Allen, Mr. William Henry</td>\n",
       "      <td>male</td>\n",
       "      <td>35.0</td>\n",
       "      <td>0</td>\n",
       "      <td>0</td>\n",
       "      <td>373450</td>\n",
       "      <td>8.0500</td>\n",
       "      <td>NaN</td>\n",
       "      <td>S</td>\n",
       "    </tr>\n",
       "    <tr>\n",
       "      <th>...</th>\n",
       "      <td>...</td>\n",
       "      <td>...</td>\n",
       "      <td>...</td>\n",
       "      <td>...</td>\n",
       "      <td>...</td>\n",
       "      <td>...</td>\n",
       "      <td>...</td>\n",
       "      <td>...</td>\n",
       "      <td>...</td>\n",
       "      <td>...</td>\n",
       "      <td>...</td>\n",
       "      <td>...</td>\n",
       "    </tr>\n",
       "    <tr>\n",
       "      <th>886</th>\n",
       "      <td>887</td>\n",
       "      <td>0</td>\n",
       "      <td>2</td>\n",
       "      <td>Montvila, Rev. Juozas</td>\n",
       "      <td>male</td>\n",
       "      <td>27.0</td>\n",
       "      <td>0</td>\n",
       "      <td>0</td>\n",
       "      <td>211536</td>\n",
       "      <td>13.0000</td>\n",
       "      <td>NaN</td>\n",
       "      <td>S</td>\n",
       "    </tr>\n",
       "    <tr>\n",
       "      <th>887</th>\n",
       "      <td>888</td>\n",
       "      <td>1</td>\n",
       "      <td>1</td>\n",
       "      <td>Graham, Miss. Margaret Edith</td>\n",
       "      <td>female</td>\n",
       "      <td>19.0</td>\n",
       "      <td>0</td>\n",
       "      <td>0</td>\n",
       "      <td>112053</td>\n",
       "      <td>30.0000</td>\n",
       "      <td>B42</td>\n",
       "      <td>S</td>\n",
       "    </tr>\n",
       "    <tr>\n",
       "      <th>888</th>\n",
       "      <td>889</td>\n",
       "      <td>0</td>\n",
       "      <td>3</td>\n",
       "      <td>Johnston, Miss. Catherine Helen \"Carrie\"</td>\n",
       "      <td>female</td>\n",
       "      <td>NaN</td>\n",
       "      <td>1</td>\n",
       "      <td>2</td>\n",
       "      <td>W./C. 6607</td>\n",
       "      <td>23.4500</td>\n",
       "      <td>NaN</td>\n",
       "      <td>S</td>\n",
       "    </tr>\n",
       "    <tr>\n",
       "      <th>889</th>\n",
       "      <td>890</td>\n",
       "      <td>1</td>\n",
       "      <td>1</td>\n",
       "      <td>Behr, Mr. Karl Howell</td>\n",
       "      <td>male</td>\n",
       "      <td>26.0</td>\n",
       "      <td>0</td>\n",
       "      <td>0</td>\n",
       "      <td>111369</td>\n",
       "      <td>30.0000</td>\n",
       "      <td>C148</td>\n",
       "      <td>C</td>\n",
       "    </tr>\n",
       "    <tr>\n",
       "      <th>890</th>\n",
       "      <td>891</td>\n",
       "      <td>0</td>\n",
       "      <td>3</td>\n",
       "      <td>Dooley, Mr. Patrick</td>\n",
       "      <td>male</td>\n",
       "      <td>32.0</td>\n",
       "      <td>0</td>\n",
       "      <td>0</td>\n",
       "      <td>370376</td>\n",
       "      <td>7.7500</td>\n",
       "      <td>NaN</td>\n",
       "      <td>Q</td>\n",
       "    </tr>\n",
       "  </tbody>\n",
       "</table>\n",
       "<p>891 rows × 12 columns</p>\n",
       "</div>"
      ],
      "text/plain": [
       "     PassengerId  Survived  Pclass  \\\n",
       "0              1         0       3   \n",
       "1              2         1       1   \n",
       "2              3         1       3   \n",
       "3              4         1       1   \n",
       "4              5         0       3   \n",
       "..           ...       ...     ...   \n",
       "886          887         0       2   \n",
       "887          888         1       1   \n",
       "888          889         0       3   \n",
       "889          890         1       1   \n",
       "890          891         0       3   \n",
       "\n",
       "                                                  Name     Sex   Age  SibSp  \\\n",
       "0                              Braund, Mr. Owen Harris    male  22.0      1   \n",
       "1    Cumings, Mrs. John Bradley (Florence Briggs Th...  female  38.0      1   \n",
       "2                               Heikkinen, Miss. Laina  female  26.0      0   \n",
       "3         Futrelle, Mrs. Jacques Heath (Lily May Peel)  female  35.0      1   \n",
       "4                             Allen, Mr. William Henry    male  35.0      0   \n",
       "..                                                 ...     ...   ...    ...   \n",
       "886                              Montvila, Rev. Juozas    male  27.0      0   \n",
       "887                       Graham, Miss. Margaret Edith  female  19.0      0   \n",
       "888           Johnston, Miss. Catherine Helen \"Carrie\"  female   NaN      1   \n",
       "889                              Behr, Mr. Karl Howell    male  26.0      0   \n",
       "890                                Dooley, Mr. Patrick    male  32.0      0   \n",
       "\n",
       "     Parch            Ticket     Fare Cabin Embarked  \n",
       "0        0         A/5 21171   7.2500   NaN        S  \n",
       "1        0          PC 17599  71.2833   C85        C  \n",
       "2        0  STON/O2. 3101282   7.9250   NaN        S  \n",
       "3        0            113803  53.1000  C123        S  \n",
       "4        0            373450   8.0500   NaN        S  \n",
       "..     ...               ...      ...   ...      ...  \n",
       "886      0            211536  13.0000   NaN        S  \n",
       "887      0            112053  30.0000   B42        S  \n",
       "888      2        W./C. 6607  23.4500   NaN        S  \n",
       "889      0            111369  30.0000  C148        C  \n",
       "890      0            370376   7.7500   NaN        Q  \n",
       "\n",
       "[891 rows x 12 columns]"
      ]
     },
     "execution_count": 44,
     "metadata": {},
     "output_type": "execute_result"
    }
   ],
   "source": [
    "data = pd.read_csv('train.csv')\n",
    "data"
   ]
  },
  {
   "cell_type": "markdown",
   "id": "928d4e3d",
   "metadata": {},
   "source": [
    "### 2. Удалите все пропущенные значения и категориальные переменные. Обучите модель. Выберете и посчитайте метрику качества."
   ]
  },
  {
   "cell_type": "code",
   "execution_count": 45,
   "id": "de4ea04d",
   "metadata": {},
   "outputs": [],
   "source": [
    "data = data.dropna()"
   ]
  },
  {
   "cell_type": "code",
   "execution_count": 46,
   "id": "281898a1",
   "metadata": {},
   "outputs": [],
   "source": [
    "from sklearn.linear_model import LogisticRegression\n",
    "model = LogisticRegression()"
   ]
  },
  {
   "cell_type": "code",
   "execution_count": 47,
   "id": "18ca7d8a",
   "metadata": {},
   "outputs": [],
   "source": [
    "X = data[['Pclass', 'Age', 'SibSp', 'Parch', 'Fare']]\n",
    "y = data['Survived']"
   ]
  },
  {
   "cell_type": "code",
   "execution_count": 48,
   "id": "1e85b6d3",
   "metadata": {},
   "outputs": [
    {
     "data": {
      "text/html": [
       "<style>#sk-container-id-2 {color: black;}#sk-container-id-2 pre{padding: 0;}#sk-container-id-2 div.sk-toggleable {background-color: white;}#sk-container-id-2 label.sk-toggleable__label {cursor: pointer;display: block;width: 100%;margin-bottom: 0;padding: 0.3em;box-sizing: border-box;text-align: center;}#sk-container-id-2 label.sk-toggleable__label-arrow:before {content: \"▸\";float: left;margin-right: 0.25em;color: #696969;}#sk-container-id-2 label.sk-toggleable__label-arrow:hover:before {color: black;}#sk-container-id-2 div.sk-estimator:hover label.sk-toggleable__label-arrow:before {color: black;}#sk-container-id-2 div.sk-toggleable__content {max-height: 0;max-width: 0;overflow: hidden;text-align: left;background-color: #f0f8ff;}#sk-container-id-2 div.sk-toggleable__content pre {margin: 0.2em;color: black;border-radius: 0.25em;background-color: #f0f8ff;}#sk-container-id-2 input.sk-toggleable__control:checked~div.sk-toggleable__content {max-height: 200px;max-width: 100%;overflow: auto;}#sk-container-id-2 input.sk-toggleable__control:checked~label.sk-toggleable__label-arrow:before {content: \"▾\";}#sk-container-id-2 div.sk-estimator input.sk-toggleable__control:checked~label.sk-toggleable__label {background-color: #d4ebff;}#sk-container-id-2 div.sk-label input.sk-toggleable__control:checked~label.sk-toggleable__label {background-color: #d4ebff;}#sk-container-id-2 input.sk-hidden--visually {border: 0;clip: rect(1px 1px 1px 1px);clip: rect(1px, 1px, 1px, 1px);height: 1px;margin: -1px;overflow: hidden;padding: 0;position: absolute;width: 1px;}#sk-container-id-2 div.sk-estimator {font-family: monospace;background-color: #f0f8ff;border: 1px dotted black;border-radius: 0.25em;box-sizing: border-box;margin-bottom: 0.5em;}#sk-container-id-2 div.sk-estimator:hover {background-color: #d4ebff;}#sk-container-id-2 div.sk-parallel-item::after {content: \"\";width: 100%;border-bottom: 1px solid gray;flex-grow: 1;}#sk-container-id-2 div.sk-label:hover label.sk-toggleable__label {background-color: #d4ebff;}#sk-container-id-2 div.sk-serial::before {content: \"\";position: absolute;border-left: 1px solid gray;box-sizing: border-box;top: 0;bottom: 0;left: 50%;z-index: 0;}#sk-container-id-2 div.sk-serial {display: flex;flex-direction: column;align-items: center;background-color: white;padding-right: 0.2em;padding-left: 0.2em;position: relative;}#sk-container-id-2 div.sk-item {position: relative;z-index: 1;}#sk-container-id-2 div.sk-parallel {display: flex;align-items: stretch;justify-content: center;background-color: white;position: relative;}#sk-container-id-2 div.sk-item::before, #sk-container-id-2 div.sk-parallel-item::before {content: \"\";position: absolute;border-left: 1px solid gray;box-sizing: border-box;top: 0;bottom: 0;left: 50%;z-index: -1;}#sk-container-id-2 div.sk-parallel-item {display: flex;flex-direction: column;z-index: 1;position: relative;background-color: white;}#sk-container-id-2 div.sk-parallel-item:first-child::after {align-self: flex-end;width: 50%;}#sk-container-id-2 div.sk-parallel-item:last-child::after {align-self: flex-start;width: 50%;}#sk-container-id-2 div.sk-parallel-item:only-child::after {width: 0;}#sk-container-id-2 div.sk-dashed-wrapped {border: 1px dashed gray;margin: 0 0.4em 0.5em 0.4em;box-sizing: border-box;padding-bottom: 0.4em;background-color: white;}#sk-container-id-2 div.sk-label label {font-family: monospace;font-weight: bold;display: inline-block;line-height: 1.2em;}#sk-container-id-2 div.sk-label-container {text-align: center;}#sk-container-id-2 div.sk-container {/* jupyter's `normalize.less` sets `[hidden] { display: none; }` but bootstrap.min.css set `[hidden] { display: none !important; }` so we also need the `!important` here to be able to override the default hidden behavior on the sphinx rendered scikit-learn.org. See: https://github.com/scikit-learn/scikit-learn/issues/21755 */display: inline-block !important;position: relative;}#sk-container-id-2 div.sk-text-repr-fallback {display: none;}</style><div id=\"sk-container-id-2\" class=\"sk-top-container\"><div class=\"sk-text-repr-fallback\"><pre>LogisticRegression()</pre><b>In a Jupyter environment, please rerun this cell to show the HTML representation or trust the notebook. <br />On GitHub, the HTML representation is unable to render, please try loading this page with nbviewer.org.</b></div><div class=\"sk-container\" hidden><div class=\"sk-item\"><div class=\"sk-estimator sk-toggleable\"><input class=\"sk-toggleable__control sk-hidden--visually\" id=\"sk-estimator-id-2\" type=\"checkbox\" checked><label for=\"sk-estimator-id-2\" class=\"sk-toggleable__label sk-toggleable__label-arrow\">LogisticRegression</label><div class=\"sk-toggleable__content\"><pre>LogisticRegression()</pre></div></div></div></div></div>"
      ],
      "text/plain": [
       "LogisticRegression()"
      ]
     },
     "execution_count": 48,
     "metadata": {},
     "output_type": "execute_result"
    }
   ],
   "source": [
    "model.fit(X, y)"
   ]
  },
  {
   "cell_type": "code",
   "execution_count": 49,
   "id": "cd8f6e71",
   "metadata": {},
   "outputs": [],
   "source": [
    "predictions = model.predict(X)"
   ]
  },
  {
   "cell_type": "code",
   "execution_count": 50,
   "id": "67e71c18",
   "metadata": {},
   "outputs": [
    {
     "data": {
      "text/plain": [
       "0.7213114754098361"
      ]
     },
     "execution_count": 50,
     "metadata": {},
     "output_type": "execute_result"
    }
   ],
   "source": [
    "from sklearn.metrics import accuracy_score\n",
    "accuracy_score(y, predictions)"
   ]
  },
  {
   "cell_type": "markdown",
   "id": "e17132d0",
   "metadata": {},
   "source": [
    "accuracy_score равна 72%."
   ]
  },
  {
   "cell_type": "code",
   "execution_count": 51,
   "id": "a0a96225",
   "metadata": {},
   "outputs": [],
   "source": [
    "from sklearn.metrics import recall_score, precision_score"
   ]
  },
  {
   "cell_type": "code",
   "execution_count": 52,
   "id": "620bdcd5",
   "metadata": {},
   "outputs": [
    {
     "data": {
      "text/plain": [
       "0.943089430894309"
      ]
     },
     "execution_count": 52,
     "metadata": {},
     "output_type": "execute_result"
    }
   ],
   "source": [
    "recall_score(y, predictions)"
   ]
  },
  {
   "cell_type": "markdown",
   "id": "763b9da6",
   "metadata": {},
   "source": [
    "Recall 94% - алгоритм хорошо срабатывает в случае предсказания выживания"
   ]
  },
  {
   "cell_type": "code",
   "execution_count": 53,
   "id": "9e614c7e",
   "metadata": {},
   "outputs": [
    {
     "data": {
      "text/plain": [
       "0.725"
      ]
     },
     "execution_count": 53,
     "metadata": {},
     "output_type": "execute_result"
    }
   ],
   "source": [
    "precision_score(y, predictions)"
   ]
  },
  {
   "cell_type": "markdown",
   "id": "15a67a58",
   "metadata": {},
   "source": [
    "precision_score 72% - алгоритм хуже срабатывает в случае предсказания смерти"
   ]
  },
  {
   "cell_type": "markdown",
   "id": "27a2b4a3",
   "metadata": {},
   "source": [
    "### 3. Снова загрузите полные данные"
   ]
  },
  {
   "cell_type": "code",
   "execution_count": 54,
   "id": "f0acbf14",
   "metadata": {},
   "outputs": [
    {
     "data": {
      "text/html": [
       "<div>\n",
       "<style scoped>\n",
       "    .dataframe tbody tr th:only-of-type {\n",
       "        vertical-align: middle;\n",
       "    }\n",
       "\n",
       "    .dataframe tbody tr th {\n",
       "        vertical-align: top;\n",
       "    }\n",
       "\n",
       "    .dataframe thead th {\n",
       "        text-align: right;\n",
       "    }\n",
       "</style>\n",
       "<table border=\"1\" class=\"dataframe\">\n",
       "  <thead>\n",
       "    <tr style=\"text-align: right;\">\n",
       "      <th></th>\n",
       "      <th>PassengerId</th>\n",
       "      <th>Survived</th>\n",
       "      <th>Pclass</th>\n",
       "      <th>Name</th>\n",
       "      <th>Sex</th>\n",
       "      <th>Age</th>\n",
       "      <th>SibSp</th>\n",
       "      <th>Parch</th>\n",
       "      <th>Ticket</th>\n",
       "      <th>Fare</th>\n",
       "      <th>Cabin</th>\n",
       "      <th>Embarked</th>\n",
       "    </tr>\n",
       "  </thead>\n",
       "  <tbody>\n",
       "    <tr>\n",
       "      <th>0</th>\n",
       "      <td>1</td>\n",
       "      <td>0</td>\n",
       "      <td>3</td>\n",
       "      <td>Braund, Mr. Owen Harris</td>\n",
       "      <td>male</td>\n",
       "      <td>22.0</td>\n",
       "      <td>1</td>\n",
       "      <td>0</td>\n",
       "      <td>A/5 21171</td>\n",
       "      <td>7.2500</td>\n",
       "      <td>NaN</td>\n",
       "      <td>S</td>\n",
       "    </tr>\n",
       "    <tr>\n",
       "      <th>1</th>\n",
       "      <td>2</td>\n",
       "      <td>1</td>\n",
       "      <td>1</td>\n",
       "      <td>Cumings, Mrs. John Bradley (Florence Briggs Th...</td>\n",
       "      <td>female</td>\n",
       "      <td>38.0</td>\n",
       "      <td>1</td>\n",
       "      <td>0</td>\n",
       "      <td>PC 17599</td>\n",
       "      <td>71.2833</td>\n",
       "      <td>C85</td>\n",
       "      <td>C</td>\n",
       "    </tr>\n",
       "    <tr>\n",
       "      <th>2</th>\n",
       "      <td>3</td>\n",
       "      <td>1</td>\n",
       "      <td>3</td>\n",
       "      <td>Heikkinen, Miss. Laina</td>\n",
       "      <td>female</td>\n",
       "      <td>26.0</td>\n",
       "      <td>0</td>\n",
       "      <td>0</td>\n",
       "      <td>STON/O2. 3101282</td>\n",
       "      <td>7.9250</td>\n",
       "      <td>NaN</td>\n",
       "      <td>S</td>\n",
       "    </tr>\n",
       "    <tr>\n",
       "      <th>3</th>\n",
       "      <td>4</td>\n",
       "      <td>1</td>\n",
       "      <td>1</td>\n",
       "      <td>Futrelle, Mrs. Jacques Heath (Lily May Peel)</td>\n",
       "      <td>female</td>\n",
       "      <td>35.0</td>\n",
       "      <td>1</td>\n",
       "      <td>0</td>\n",
       "      <td>113803</td>\n",
       "      <td>53.1000</td>\n",
       "      <td>C123</td>\n",
       "      <td>S</td>\n",
       "    </tr>\n",
       "    <tr>\n",
       "      <th>4</th>\n",
       "      <td>5</td>\n",
       "      <td>0</td>\n",
       "      <td>3</td>\n",
       "      <td>Allen, Mr. William Henry</td>\n",
       "      <td>male</td>\n",
       "      <td>35.0</td>\n",
       "      <td>0</td>\n",
       "      <td>0</td>\n",
       "      <td>373450</td>\n",
       "      <td>8.0500</td>\n",
       "      <td>NaN</td>\n",
       "      <td>S</td>\n",
       "    </tr>\n",
       "    <tr>\n",
       "      <th>...</th>\n",
       "      <td>...</td>\n",
       "      <td>...</td>\n",
       "      <td>...</td>\n",
       "      <td>...</td>\n",
       "      <td>...</td>\n",
       "      <td>...</td>\n",
       "      <td>...</td>\n",
       "      <td>...</td>\n",
       "      <td>...</td>\n",
       "      <td>...</td>\n",
       "      <td>...</td>\n",
       "      <td>...</td>\n",
       "    </tr>\n",
       "    <tr>\n",
       "      <th>886</th>\n",
       "      <td>887</td>\n",
       "      <td>0</td>\n",
       "      <td>2</td>\n",
       "      <td>Montvila, Rev. Juozas</td>\n",
       "      <td>male</td>\n",
       "      <td>27.0</td>\n",
       "      <td>0</td>\n",
       "      <td>0</td>\n",
       "      <td>211536</td>\n",
       "      <td>13.0000</td>\n",
       "      <td>NaN</td>\n",
       "      <td>S</td>\n",
       "    </tr>\n",
       "    <tr>\n",
       "      <th>887</th>\n",
       "      <td>888</td>\n",
       "      <td>1</td>\n",
       "      <td>1</td>\n",
       "      <td>Graham, Miss. Margaret Edith</td>\n",
       "      <td>female</td>\n",
       "      <td>19.0</td>\n",
       "      <td>0</td>\n",
       "      <td>0</td>\n",
       "      <td>112053</td>\n",
       "      <td>30.0000</td>\n",
       "      <td>B42</td>\n",
       "      <td>S</td>\n",
       "    </tr>\n",
       "    <tr>\n",
       "      <th>888</th>\n",
       "      <td>889</td>\n",
       "      <td>0</td>\n",
       "      <td>3</td>\n",
       "      <td>Johnston, Miss. Catherine Helen \"Carrie\"</td>\n",
       "      <td>female</td>\n",
       "      <td>NaN</td>\n",
       "      <td>1</td>\n",
       "      <td>2</td>\n",
       "      <td>W./C. 6607</td>\n",
       "      <td>23.4500</td>\n",
       "      <td>NaN</td>\n",
       "      <td>S</td>\n",
       "    </tr>\n",
       "    <tr>\n",
       "      <th>889</th>\n",
       "      <td>890</td>\n",
       "      <td>1</td>\n",
       "      <td>1</td>\n",
       "      <td>Behr, Mr. Karl Howell</td>\n",
       "      <td>male</td>\n",
       "      <td>26.0</td>\n",
       "      <td>0</td>\n",
       "      <td>0</td>\n",
       "      <td>111369</td>\n",
       "      <td>30.0000</td>\n",
       "      <td>C148</td>\n",
       "      <td>C</td>\n",
       "    </tr>\n",
       "    <tr>\n",
       "      <th>890</th>\n",
       "      <td>891</td>\n",
       "      <td>0</td>\n",
       "      <td>3</td>\n",
       "      <td>Dooley, Mr. Patrick</td>\n",
       "      <td>male</td>\n",
       "      <td>32.0</td>\n",
       "      <td>0</td>\n",
       "      <td>0</td>\n",
       "      <td>370376</td>\n",
       "      <td>7.7500</td>\n",
       "      <td>NaN</td>\n",
       "      <td>Q</td>\n",
       "    </tr>\n",
       "  </tbody>\n",
       "</table>\n",
       "<p>891 rows × 12 columns</p>\n",
       "</div>"
      ],
      "text/plain": [
       "     PassengerId  Survived  Pclass  \\\n",
       "0              1         0       3   \n",
       "1              2         1       1   \n",
       "2              3         1       3   \n",
       "3              4         1       1   \n",
       "4              5         0       3   \n",
       "..           ...       ...     ...   \n",
       "886          887         0       2   \n",
       "887          888         1       1   \n",
       "888          889         0       3   \n",
       "889          890         1       1   \n",
       "890          891         0       3   \n",
       "\n",
       "                                                  Name     Sex   Age  SibSp  \\\n",
       "0                              Braund, Mr. Owen Harris    male  22.0      1   \n",
       "1    Cumings, Mrs. John Bradley (Florence Briggs Th...  female  38.0      1   \n",
       "2                               Heikkinen, Miss. Laina  female  26.0      0   \n",
       "3         Futrelle, Mrs. Jacques Heath (Lily May Peel)  female  35.0      1   \n",
       "4                             Allen, Mr. William Henry    male  35.0      0   \n",
       "..                                                 ...     ...   ...    ...   \n",
       "886                              Montvila, Rev. Juozas    male  27.0      0   \n",
       "887                       Graham, Miss. Margaret Edith  female  19.0      0   \n",
       "888           Johnston, Miss. Catherine Helen \"Carrie\"  female   NaN      1   \n",
       "889                              Behr, Mr. Karl Howell    male  26.0      0   \n",
       "890                                Dooley, Mr. Patrick    male  32.0      0   \n",
       "\n",
       "     Parch            Ticket     Fare Cabin Embarked  \n",
       "0        0         A/5 21171   7.2500   NaN        S  \n",
       "1        0          PC 17599  71.2833   C85        C  \n",
       "2        0  STON/O2. 3101282   7.9250   NaN        S  \n",
       "3        0            113803  53.1000  C123        S  \n",
       "4        0            373450   8.0500   NaN        S  \n",
       "..     ...               ...      ...   ...      ...  \n",
       "886      0            211536  13.0000   NaN        S  \n",
       "887      0            112053  30.0000   B42        S  \n",
       "888      2        W./C. 6607  23.4500   NaN        S  \n",
       "889      0            111369  30.0000  C148        C  \n",
       "890      0            370376   7.7500   NaN        Q  \n",
       "\n",
       "[891 rows x 12 columns]"
      ]
     },
     "execution_count": 54,
     "metadata": {},
     "output_type": "execute_result"
    }
   ],
   "source": [
    "data = pd.read_csv('train.csv')\n",
    "data"
   ]
  },
  {
   "cell_type": "markdown",
   "id": "55ee2539",
   "metadata": {},
   "source": [
    "### 4. Удалите признаки, которые логически не нужны для построения модели. Обоснуйте."
   ]
  },
  {
   "cell_type": "markdown",
   "id": "84a415c4",
   "metadata": {},
   "source": [
    "<b> От id не зависит выживаемость.\n",
    "\n",
    "Pclass оставляем, возможно класс связан с расположением палуб.\n",
    "\n",
    "<b> Name избавляемся, от имени не зависит выживаемость.\n",
    "\n",
    "Sex оставляем, можно предположить, что мужчины сильнее, и поэтому спаслись. Или наоборот, спаслись женщины, потому что в первую очередь в спасательные шлюпки сажали женщин с детьми и просто женщин. Но это уже расскажет дальнейший анализ данных.\n",
    "    \n",
    "Age оставляем, возраст связан с ценностью жизни (ребёнка будут спасать более вероятно)\n",
    "    \n",
    "SibSp оставляем, может, у одиночек была выше реакция, потому что они ни о ком не должны были заботиться, кроме себя.\n",
    "\n",
    "Parch количество детей/родителей оставляем, возможно, спасали в первую очередь детей.\n",
    "\n",
    "<b> Ticket удаляем, от номера билета ничего не зависит (по крайней мере в том формате, в котором данные)\n",
    "\n",
    "Fare оставляем, от стоимости билета (как и от класса) может зависеть доступ к спасательному оборудованию\n",
    "\n",
    "<b>Cabin каюту выкидываем, она у всех индивидуальная\n",
    "\n",
    "Embarked оставляем, порт посадки может иметь значение (может посадка в каком-то порту была ранняя, пассажиры из этого порта легли спать раньше и не успели эвакуироваться?)"
   ]
  },
  {
   "cell_type": "code",
   "execution_count": 55,
   "id": "c201e1cc",
   "metadata": {},
   "outputs": [
    {
     "data": {
      "text/html": [
       "<div>\n",
       "<style scoped>\n",
       "    .dataframe tbody tr th:only-of-type {\n",
       "        vertical-align: middle;\n",
       "    }\n",
       "\n",
       "    .dataframe tbody tr th {\n",
       "        vertical-align: top;\n",
       "    }\n",
       "\n",
       "    .dataframe thead th {\n",
       "        text-align: right;\n",
       "    }\n",
       "</style>\n",
       "<table border=\"1\" class=\"dataframe\">\n",
       "  <thead>\n",
       "    <tr style=\"text-align: right;\">\n",
       "      <th></th>\n",
       "      <th>Survived</th>\n",
       "      <th>Pclass</th>\n",
       "      <th>Sex</th>\n",
       "      <th>Age</th>\n",
       "      <th>Parch</th>\n",
       "      <th>Fare</th>\n",
       "      <th>Embarked</th>\n",
       "    </tr>\n",
       "  </thead>\n",
       "  <tbody>\n",
       "    <tr>\n",
       "      <th>0</th>\n",
       "      <td>0</td>\n",
       "      <td>3</td>\n",
       "      <td>male</td>\n",
       "      <td>22.0</td>\n",
       "      <td>0</td>\n",
       "      <td>7.2500</td>\n",
       "      <td>S</td>\n",
       "    </tr>\n",
       "    <tr>\n",
       "      <th>1</th>\n",
       "      <td>1</td>\n",
       "      <td>1</td>\n",
       "      <td>female</td>\n",
       "      <td>38.0</td>\n",
       "      <td>0</td>\n",
       "      <td>71.2833</td>\n",
       "      <td>C</td>\n",
       "    </tr>\n",
       "    <tr>\n",
       "      <th>2</th>\n",
       "      <td>1</td>\n",
       "      <td>3</td>\n",
       "      <td>female</td>\n",
       "      <td>26.0</td>\n",
       "      <td>0</td>\n",
       "      <td>7.9250</td>\n",
       "      <td>S</td>\n",
       "    </tr>\n",
       "    <tr>\n",
       "      <th>3</th>\n",
       "      <td>1</td>\n",
       "      <td>1</td>\n",
       "      <td>female</td>\n",
       "      <td>35.0</td>\n",
       "      <td>0</td>\n",
       "      <td>53.1000</td>\n",
       "      <td>S</td>\n",
       "    </tr>\n",
       "    <tr>\n",
       "      <th>4</th>\n",
       "      <td>0</td>\n",
       "      <td>3</td>\n",
       "      <td>male</td>\n",
       "      <td>35.0</td>\n",
       "      <td>0</td>\n",
       "      <td>8.0500</td>\n",
       "      <td>S</td>\n",
       "    </tr>\n",
       "    <tr>\n",
       "      <th>...</th>\n",
       "      <td>...</td>\n",
       "      <td>...</td>\n",
       "      <td>...</td>\n",
       "      <td>...</td>\n",
       "      <td>...</td>\n",
       "      <td>...</td>\n",
       "      <td>...</td>\n",
       "    </tr>\n",
       "    <tr>\n",
       "      <th>886</th>\n",
       "      <td>0</td>\n",
       "      <td>2</td>\n",
       "      <td>male</td>\n",
       "      <td>27.0</td>\n",
       "      <td>0</td>\n",
       "      <td>13.0000</td>\n",
       "      <td>S</td>\n",
       "    </tr>\n",
       "    <tr>\n",
       "      <th>887</th>\n",
       "      <td>1</td>\n",
       "      <td>1</td>\n",
       "      <td>female</td>\n",
       "      <td>19.0</td>\n",
       "      <td>0</td>\n",
       "      <td>30.0000</td>\n",
       "      <td>S</td>\n",
       "    </tr>\n",
       "    <tr>\n",
       "      <th>888</th>\n",
       "      <td>0</td>\n",
       "      <td>3</td>\n",
       "      <td>female</td>\n",
       "      <td>NaN</td>\n",
       "      <td>2</td>\n",
       "      <td>23.4500</td>\n",
       "      <td>S</td>\n",
       "    </tr>\n",
       "    <tr>\n",
       "      <th>889</th>\n",
       "      <td>1</td>\n",
       "      <td>1</td>\n",
       "      <td>male</td>\n",
       "      <td>26.0</td>\n",
       "      <td>0</td>\n",
       "      <td>30.0000</td>\n",
       "      <td>C</td>\n",
       "    </tr>\n",
       "    <tr>\n",
       "      <th>890</th>\n",
       "      <td>0</td>\n",
       "      <td>3</td>\n",
       "      <td>male</td>\n",
       "      <td>32.0</td>\n",
       "      <td>0</td>\n",
       "      <td>7.7500</td>\n",
       "      <td>Q</td>\n",
       "    </tr>\n",
       "  </tbody>\n",
       "</table>\n",
       "<p>891 rows × 7 columns</p>\n",
       "</div>"
      ],
      "text/plain": [
       "     Survived  Pclass     Sex   Age  Parch     Fare Embarked\n",
       "0           0       3    male  22.0      0   7.2500        S\n",
       "1           1       1  female  38.0      0  71.2833        C\n",
       "2           1       3  female  26.0      0   7.9250        S\n",
       "3           1       1  female  35.0      0  53.1000        S\n",
       "4           0       3    male  35.0      0   8.0500        S\n",
       "..        ...     ...     ...   ...    ...      ...      ...\n",
       "886         0       2    male  27.0      0  13.0000        S\n",
       "887         1       1  female  19.0      0  30.0000        S\n",
       "888         0       3  female   NaN      2  23.4500        S\n",
       "889         1       1    male  26.0      0  30.0000        C\n",
       "890         0       3    male  32.0      0   7.7500        Q\n",
       "\n",
       "[891 rows x 7 columns]"
      ]
     },
     "execution_count": 55,
     "metadata": {},
     "output_type": "execute_result"
    }
   ],
   "source": [
    "data = data[['Survived', 'Pclass', 'Sex', 'Age', 'Parch', 'Fare', 'Embarked']]\n",
    "data"
   ]
  },
  {
   "cell_type": "markdown",
   "id": "5926e0c2",
   "metadata": {},
   "source": [
    "### 5. Проверьте данные на наличие пропущенных значений."
   ]
  },
  {
   "cell_type": "code",
   "execution_count": 56,
   "id": "957e176a",
   "metadata": {},
   "outputs": [
    {
     "name": "stdout",
     "output_type": "stream",
     "text": [
      "<class 'pandas.core.frame.DataFrame'>\n",
      "RangeIndex: 891 entries, 0 to 890\n",
      "Data columns (total 7 columns):\n",
      " #   Column    Non-Null Count  Dtype  \n",
      "---  ------    --------------  -----  \n",
      " 0   Survived  891 non-null    int64  \n",
      " 1   Pclass    891 non-null    int64  \n",
      " 2   Sex       891 non-null    object \n",
      " 3   Age       714 non-null    float64\n",
      " 4   Parch     891 non-null    int64  \n",
      " 5   Fare      891 non-null    float64\n",
      " 6   Embarked  889 non-null    object \n",
      "dtypes: float64(2), int64(3), object(2)\n",
      "memory usage: 48.9+ KB\n"
     ]
    }
   ],
   "source": [
    "data.info()"
   ]
  },
  {
   "cell_type": "markdown",
   "id": "188b9ead",
   "metadata": {},
   "source": [
    "###### a) Посчитайте, какой процент данных будет потерян, если просто удалить пропуски."
   ]
  },
  {
   "cell_type": "code",
   "execution_count": 57,
   "id": "47f5843c",
   "metadata": {},
   "outputs": [
    {
     "name": "stdout",
     "output_type": "stream",
     "text": [
      "<class 'pandas.core.frame.DataFrame'>\n",
      "Index: 712 entries, 0 to 890\n",
      "Data columns (total 7 columns):\n",
      " #   Column    Non-Null Count  Dtype  \n",
      "---  ------    --------------  -----  \n",
      " 0   Survived  712 non-null    int64  \n",
      " 1   Pclass    712 non-null    int64  \n",
      " 2   Sex       712 non-null    object \n",
      " 3   Age       712 non-null    float64\n",
      " 4   Parch     712 non-null    int64  \n",
      " 5   Fare      712 non-null    float64\n",
      " 6   Embarked  712 non-null    object \n",
      "dtypes: float64(2), int64(3), object(2)\n",
      "memory usage: 44.5+ KB\n"
     ]
    }
   ],
   "source": [
    "data_no_nan = data.dropna()\n",
    "data_no_nan.info()"
   ]
  },
  {
   "cell_type": "code",
   "execution_count": 58,
   "id": "72dbcfc4",
   "metadata": {},
   "outputs": [
    {
     "data": {
      "text/plain": [
       "20.08978675645342"
      ]
     },
     "execution_count": 58,
     "metadata": {},
     "output_type": "execute_result"
    }
   ],
   "source": [
    "100 - 100/891*712"
   ]
  },
  {
   "cell_type": "markdown",
   "id": "a13455cb",
   "metadata": {},
   "source": [
    "Будет потеряно 20% данных"
   ]
  },
  {
   "cell_type": "markdown",
   "id": "1ec113ff",
   "metadata": {},
   "source": [
    "###### b) Заполните пропуски: средним значением; константой; классом, указывающим на то, что значение было пропущено; случайным числом."
   ]
  },
  {
   "cell_type": "code",
   "execution_count": 59,
   "id": "06c6394d",
   "metadata": {},
   "outputs": [
    {
     "data": {
      "text/html": [
       "<div>\n",
       "<style scoped>\n",
       "    .dataframe tbody tr th:only-of-type {\n",
       "        vertical-align: middle;\n",
       "    }\n",
       "\n",
       "    .dataframe tbody tr th {\n",
       "        vertical-align: top;\n",
       "    }\n",
       "\n",
       "    .dataframe thead th {\n",
       "        text-align: right;\n",
       "    }\n",
       "</style>\n",
       "<table border=\"1\" class=\"dataframe\">\n",
       "  <thead>\n",
       "    <tr style=\"text-align: right;\">\n",
       "      <th></th>\n",
       "      <th>Survived</th>\n",
       "      <th>Pclass</th>\n",
       "      <th>Sex</th>\n",
       "      <th>Age</th>\n",
       "      <th>Parch</th>\n",
       "      <th>Fare</th>\n",
       "      <th>Embarked</th>\n",
       "    </tr>\n",
       "  </thead>\n",
       "  <tbody>\n",
       "    <tr>\n",
       "      <th>5</th>\n",
       "      <td>0</td>\n",
       "      <td>3</td>\n",
       "      <td>male</td>\n",
       "      <td>NaN</td>\n",
       "      <td>0</td>\n",
       "      <td>8.4583</td>\n",
       "      <td>Q</td>\n",
       "    </tr>\n",
       "    <tr>\n",
       "      <th>17</th>\n",
       "      <td>1</td>\n",
       "      <td>2</td>\n",
       "      <td>male</td>\n",
       "      <td>NaN</td>\n",
       "      <td>0</td>\n",
       "      <td>13.0000</td>\n",
       "      <td>S</td>\n",
       "    </tr>\n",
       "    <tr>\n",
       "      <th>19</th>\n",
       "      <td>1</td>\n",
       "      <td>3</td>\n",
       "      <td>female</td>\n",
       "      <td>NaN</td>\n",
       "      <td>0</td>\n",
       "      <td>7.2250</td>\n",
       "      <td>C</td>\n",
       "    </tr>\n",
       "    <tr>\n",
       "      <th>26</th>\n",
       "      <td>0</td>\n",
       "      <td>3</td>\n",
       "      <td>male</td>\n",
       "      <td>NaN</td>\n",
       "      <td>0</td>\n",
       "      <td>7.2250</td>\n",
       "      <td>C</td>\n",
       "    </tr>\n",
       "    <tr>\n",
       "      <th>28</th>\n",
       "      <td>1</td>\n",
       "      <td>3</td>\n",
       "      <td>female</td>\n",
       "      <td>NaN</td>\n",
       "      <td>0</td>\n",
       "      <td>7.8792</td>\n",
       "      <td>Q</td>\n",
       "    </tr>\n",
       "    <tr>\n",
       "      <th>...</th>\n",
       "      <td>...</td>\n",
       "      <td>...</td>\n",
       "      <td>...</td>\n",
       "      <td>...</td>\n",
       "      <td>...</td>\n",
       "      <td>...</td>\n",
       "      <td>...</td>\n",
       "    </tr>\n",
       "    <tr>\n",
       "      <th>859</th>\n",
       "      <td>0</td>\n",
       "      <td>3</td>\n",
       "      <td>male</td>\n",
       "      <td>NaN</td>\n",
       "      <td>0</td>\n",
       "      <td>7.2292</td>\n",
       "      <td>C</td>\n",
       "    </tr>\n",
       "    <tr>\n",
       "      <th>863</th>\n",
       "      <td>0</td>\n",
       "      <td>3</td>\n",
       "      <td>female</td>\n",
       "      <td>NaN</td>\n",
       "      <td>2</td>\n",
       "      <td>69.5500</td>\n",
       "      <td>S</td>\n",
       "    </tr>\n",
       "    <tr>\n",
       "      <th>868</th>\n",
       "      <td>0</td>\n",
       "      <td>3</td>\n",
       "      <td>male</td>\n",
       "      <td>NaN</td>\n",
       "      <td>0</td>\n",
       "      <td>9.5000</td>\n",
       "      <td>S</td>\n",
       "    </tr>\n",
       "    <tr>\n",
       "      <th>878</th>\n",
       "      <td>0</td>\n",
       "      <td>3</td>\n",
       "      <td>male</td>\n",
       "      <td>NaN</td>\n",
       "      <td>0</td>\n",
       "      <td>7.8958</td>\n",
       "      <td>S</td>\n",
       "    </tr>\n",
       "    <tr>\n",
       "      <th>888</th>\n",
       "      <td>0</td>\n",
       "      <td>3</td>\n",
       "      <td>female</td>\n",
       "      <td>NaN</td>\n",
       "      <td>2</td>\n",
       "      <td>23.4500</td>\n",
       "      <td>S</td>\n",
       "    </tr>\n",
       "  </tbody>\n",
       "</table>\n",
       "<p>177 rows × 7 columns</p>\n",
       "</div>"
      ],
      "text/plain": [
       "     Survived  Pclass     Sex  Age  Parch     Fare Embarked\n",
       "5           0       3    male  NaN      0   8.4583        Q\n",
       "17          1       2    male  NaN      0  13.0000        S\n",
       "19          1       3  female  NaN      0   7.2250        C\n",
       "26          0       3    male  NaN      0   7.2250        C\n",
       "28          1       3  female  NaN      0   7.8792        Q\n",
       "..        ...     ...     ...  ...    ...      ...      ...\n",
       "859         0       3    male  NaN      0   7.2292        C\n",
       "863         0       3  female  NaN      2  69.5500        S\n",
       "868         0       3    male  NaN      0   9.5000        S\n",
       "878         0       3    male  NaN      0   7.8958        S\n",
       "888         0       3  female  NaN      2  23.4500        S\n",
       "\n",
       "[177 rows x 7 columns]"
      ]
     },
     "execution_count": 59,
     "metadata": {},
     "output_type": "execute_result"
    }
   ],
   "source": [
    "data[data['Age'].isnull() == True]"
   ]
  },
  {
   "cell_type": "code",
   "execution_count": 60,
   "id": "ddc72b9b",
   "metadata": {},
   "outputs": [
    {
     "name": "stdout",
     "output_type": "stream",
     "text": [
      "Age \n",
      " мин: 0.42 \n",
      " макс: 80.0 \n",
      " размах: 79.58 \n",
      " дисперсия: 211 \n",
      " среднее: 29.69911764705882 \n",
      " медиана: 28.0 \n",
      " мода: 24\n"
     ]
    }
   ],
   "source": [
    "min_ = min(data['Age'])\n",
    "max_ = max(data['Age'])\n",
    "range_ = max_ - min_\n",
    "disp = int(data['Age'].var())\n",
    "mean = data['Age'].mean()\n",
    "median = data['Age'].median()\n",
    "mode = int(data['Age'].mode()[0])\n",
    "print('Age','\\n', 'мин:', min_,'\\n', 'макс:', max_, '\\n', 'размах:', range_, '\\n', 'дисперсия:', disp, \n",
    "      '\\n', 'среднее:', mean,'\\n', 'медиана:',median,'\\n', 'мода:', mode)"
   ]
  },
  {
   "cell_type": "code",
   "execution_count": 61,
   "id": "8dc9fd71",
   "metadata": {},
   "outputs": [
    {
     "name": "stdout",
     "output_type": "stream",
     "text": [
      "средний возраст в зависимости от класса поездки:\n",
      " Embarked\n",
      "C    30.814769\n",
      "Q    28.089286\n",
      "S    29.445397\n",
      "Name: Age, dtype: float64\n"
     ]
    }
   ],
   "source": [
    "print('средний возраст в зависимости от класса поездки:\\n',data.groupby(['Embarked'])['Age'].mean())"
   ]
  },
  {
   "cell_type": "code",
   "execution_count": 62,
   "id": "a2ec74cd",
   "metadata": {},
   "outputs": [
    {
     "name": "stderr",
     "output_type": "stream",
     "text": [
      "C:\\Users\\Алехандро\\AppData\\Local\\Temp\\ipykernel_10348\\1017365875.py:3: SettingWithCopyWarning: \n",
      "A value is trying to be set on a copy of a slice from a DataFrame.\n",
      "Try using .loc[row_indexer,col_indexer] = value instead\n",
      "\n",
      "See the caveats in the documentation: https://pandas.pydata.org/pandas-docs/stable/user_guide/indexing.html#returning-a-view-versus-a-copy\n",
      "  data['Age'] = data['Age'].fillna(data.groupby(['Embarked'])['Age'].transform('median'))\n"
     ]
    },
    {
     "data": {
      "text/html": [
       "<div>\n",
       "<style scoped>\n",
       "    .dataframe tbody tr th:only-of-type {\n",
       "        vertical-align: middle;\n",
       "    }\n",
       "\n",
       "    .dataframe tbody tr th {\n",
       "        vertical-align: top;\n",
       "    }\n",
       "\n",
       "    .dataframe thead th {\n",
       "        text-align: right;\n",
       "    }\n",
       "</style>\n",
       "<table border=\"1\" class=\"dataframe\">\n",
       "  <thead>\n",
       "    <tr style=\"text-align: right;\">\n",
       "      <th></th>\n",
       "      <th>Survived</th>\n",
       "      <th>Pclass</th>\n",
       "      <th>Sex</th>\n",
       "      <th>Age</th>\n",
       "      <th>Parch</th>\n",
       "      <th>Fare</th>\n",
       "      <th>Embarked</th>\n",
       "    </tr>\n",
       "  </thead>\n",
       "  <tbody>\n",
       "    <tr>\n",
       "      <th>0</th>\n",
       "      <td>0</td>\n",
       "      <td>3</td>\n",
       "      <td>male</td>\n",
       "      <td>22.0</td>\n",
       "      <td>0</td>\n",
       "      <td>7.2500</td>\n",
       "      <td>S</td>\n",
       "    </tr>\n",
       "    <tr>\n",
       "      <th>1</th>\n",
       "      <td>1</td>\n",
       "      <td>1</td>\n",
       "      <td>female</td>\n",
       "      <td>38.0</td>\n",
       "      <td>0</td>\n",
       "      <td>71.2833</td>\n",
       "      <td>C</td>\n",
       "    </tr>\n",
       "    <tr>\n",
       "      <th>2</th>\n",
       "      <td>1</td>\n",
       "      <td>3</td>\n",
       "      <td>female</td>\n",
       "      <td>26.0</td>\n",
       "      <td>0</td>\n",
       "      <td>7.9250</td>\n",
       "      <td>S</td>\n",
       "    </tr>\n",
       "    <tr>\n",
       "      <th>3</th>\n",
       "      <td>1</td>\n",
       "      <td>1</td>\n",
       "      <td>female</td>\n",
       "      <td>35.0</td>\n",
       "      <td>0</td>\n",
       "      <td>53.1000</td>\n",
       "      <td>S</td>\n",
       "    </tr>\n",
       "    <tr>\n",
       "      <th>4</th>\n",
       "      <td>0</td>\n",
       "      <td>3</td>\n",
       "      <td>male</td>\n",
       "      <td>35.0</td>\n",
       "      <td>0</td>\n",
       "      <td>8.0500</td>\n",
       "      <td>S</td>\n",
       "    </tr>\n",
       "  </tbody>\n",
       "</table>\n",
       "</div>"
      ],
      "text/plain": [
       "   Survived  Pclass     Sex   Age  Parch     Fare Embarked\n",
       "0         0       3    male  22.0      0   7.2500        S\n",
       "1         1       1  female  38.0      0  71.2833        C\n",
       "2         1       3  female  26.0      0   7.9250        S\n",
       "3         1       1  female  35.0      0  53.1000        S\n",
       "4         0       3    male  35.0      0   8.0500        S"
      ]
     },
     "execution_count": 62,
     "metadata": {},
     "output_type": "execute_result"
    }
   ],
   "source": [
    "#заполним возраст средним в зависимости от класса поездки \n",
    "#(я бы лучше использовала медиану, но в задании нет такого варианта)\n",
    "data['Age'] = data['Age'].fillna(data.groupby(['Embarked'])['Age'].transform('median'))\n",
    "data.head()"
   ]
  },
  {
   "cell_type": "code",
   "execution_count": 63,
   "id": "35ed9117",
   "metadata": {},
   "outputs": [
    {
     "data": {
      "text/plain": [
       "Survived    0\n",
       "Pclass      0\n",
       "Sex         0\n",
       "Age         0\n",
       "Parch       0\n",
       "Fare        0\n",
       "Embarked    2\n",
       "dtype: int64"
      ]
     },
     "execution_count": 63,
     "metadata": {},
     "output_type": "execute_result"
    }
   ],
   "source": [
    "data.isnull().sum()"
   ]
  },
  {
   "cell_type": "markdown",
   "id": "664f01ba",
   "metadata": {},
   "source": [
    "Осталось два пропуска в Embarked"
   ]
  },
  {
   "cell_type": "code",
   "execution_count": 64,
   "id": "34868c29",
   "metadata": {},
   "outputs": [
    {
     "data": {
      "text/plain": [
       "Embarked\n",
       "S    644\n",
       "C    168\n",
       "Q     77\n",
       "Name: count, dtype: int64"
      ]
     },
     "execution_count": 64,
     "metadata": {},
     "output_type": "execute_result"
    }
   ],
   "source": [
    "data.Embarked.value_counts()"
   ]
  },
  {
   "cell_type": "markdown",
   "id": "f27dbbea",
   "metadata": {},
   "source": [
    "Больше всего класса S, заполним пропуски классом S"
   ]
  },
  {
   "cell_type": "code",
   "execution_count": 65,
   "id": "ea4cfadb",
   "metadata": {},
   "outputs": [
    {
     "name": "stderr",
     "output_type": "stream",
     "text": [
      "C:\\Users\\Алехандро\\AppData\\Local\\Temp\\ipykernel_10348\\2219261458.py:1: SettingWithCopyWarning: \n",
      "A value is trying to be set on a copy of a slice from a DataFrame\n",
      "\n",
      "See the caveats in the documentation: https://pandas.pydata.org/pandas-docs/stable/user_guide/indexing.html#returning-a-view-versus-a-copy\n",
      "  data['Embarked'].replace(np.nan, 'S', inplace = True)\n"
     ]
    }
   ],
   "source": [
    "data['Embarked'].replace(np.nan, 'S', inplace = True)"
   ]
  },
  {
   "cell_type": "code",
   "execution_count": 66,
   "id": "994a2f8f",
   "metadata": {},
   "outputs": [
    {
     "data": {
      "text/plain": [
       "Survived    0\n",
       "Pclass      0\n",
       "Sex         0\n",
       "Age         0\n",
       "Parch       0\n",
       "Fare        0\n",
       "Embarked    0\n",
       "dtype: int64"
      ]
     },
     "execution_count": 66,
     "metadata": {},
     "output_type": "execute_result"
    }
   ],
   "source": [
    "data.isnull().sum()"
   ]
  },
  {
   "cell_type": "markdown",
   "id": "5362c75a",
   "metadata": {},
   "source": [
    "Проверим цену:"
   ]
  },
  {
   "cell_type": "code",
   "execution_count": 67,
   "id": "a153708a",
   "metadata": {},
   "outputs": [
    {
     "name": "stdout",
     "output_type": "stream",
     "text": [
      "Fare \n",
      " мин: 0.0 \n",
      " макс: 512.3292 \n",
      " размах: 512.3292 \n",
      " дисперсия: 2469 \n",
      " среднее: 32.204207968574636 \n",
      " медиана: 14.4542 \n",
      " мода: 8\n"
     ]
    }
   ],
   "source": [
    "min_ = min(data['Fare'])\n",
    "max_ = max(data['Fare'])\n",
    "range_ = max_ - min_\n",
    "disp = int(data['Fare'].var())\n",
    "mean = data['Fare'].mean()\n",
    "median = data['Fare'].median()\n",
    "mode = int(data['Fare'].mode()[0])\n",
    "print('Fare','\\n', 'мин:', min_,'\\n', 'макс:', max_, '\\n', 'размах:', range_, '\\n', 'дисперсия:', disp, \n",
    "      '\\n', 'среднее:', mean,'\\n', 'медиана:',median,'\\n', 'мода:', mode)"
   ]
  },
  {
   "cell_type": "markdown",
   "id": "3e6d9b35",
   "metadata": {},
   "source": [
    "Есть билеты за 0, их заменим."
   ]
  },
  {
   "cell_type": "code",
   "execution_count": 69,
   "id": "1b04744e",
   "metadata": {},
   "outputs": [
    {
     "name": "stdout",
     "output_type": "stream",
     "text": [
      "Медианная стоимость билета в зависимости от класса поездки:\n",
      " Embarked\n",
      "C    29.70\n",
      "Q     7.75\n",
      "S    13.00\n",
      "Name: Fare, dtype: float64\n"
     ]
    }
   ],
   "source": [
    "print('Медианная стоимость билета в зависимости от класса поездки:\\n',data.groupby(['Embarked'])['Fare'].median())"
   ]
  },
  {
   "cell_type": "code",
   "execution_count": 70,
   "id": "8694049e",
   "metadata": {},
   "outputs": [
    {
     "name": "stderr",
     "output_type": "stream",
     "text": [
      "C:\\Users\\Алехандро\\AppData\\Local\\Temp\\ipykernel_10348\\4225056164.py:2: SettingWithCopyWarning: \n",
      "A value is trying to be set on a copy of a slice from a DataFrame.\n",
      "Try using .loc[row_indexer,col_indexer] = value instead\n",
      "\n",
      "See the caveats in the documentation: https://pandas.pydata.org/pandas-docs/stable/user_guide/indexing.html#returning-a-view-versus-a-copy\n",
      "  data['Fare'] = data['Fare'].fillna(data.groupby(['Embarked'])['Fare'].transform('median'))\n"
     ]
    },
    {
     "data": {
      "text/html": [
       "<div>\n",
       "<style scoped>\n",
       "    .dataframe tbody tr th:only-of-type {\n",
       "        vertical-align: middle;\n",
       "    }\n",
       "\n",
       "    .dataframe tbody tr th {\n",
       "        vertical-align: top;\n",
       "    }\n",
       "\n",
       "    .dataframe thead th {\n",
       "        text-align: right;\n",
       "    }\n",
       "</style>\n",
       "<table border=\"1\" class=\"dataframe\">\n",
       "  <thead>\n",
       "    <tr style=\"text-align: right;\">\n",
       "      <th></th>\n",
       "      <th>Survived</th>\n",
       "      <th>Pclass</th>\n",
       "      <th>Sex</th>\n",
       "      <th>Age</th>\n",
       "      <th>Parch</th>\n",
       "      <th>Fare</th>\n",
       "      <th>Embarked</th>\n",
       "    </tr>\n",
       "  </thead>\n",
       "  <tbody>\n",
       "    <tr>\n",
       "      <th>0</th>\n",
       "      <td>0</td>\n",
       "      <td>3</td>\n",
       "      <td>male</td>\n",
       "      <td>22.0</td>\n",
       "      <td>0</td>\n",
       "      <td>7.2500</td>\n",
       "      <td>S</td>\n",
       "    </tr>\n",
       "    <tr>\n",
       "      <th>1</th>\n",
       "      <td>1</td>\n",
       "      <td>1</td>\n",
       "      <td>female</td>\n",
       "      <td>38.0</td>\n",
       "      <td>0</td>\n",
       "      <td>71.2833</td>\n",
       "      <td>C</td>\n",
       "    </tr>\n",
       "    <tr>\n",
       "      <th>2</th>\n",
       "      <td>1</td>\n",
       "      <td>3</td>\n",
       "      <td>female</td>\n",
       "      <td>26.0</td>\n",
       "      <td>0</td>\n",
       "      <td>7.9250</td>\n",
       "      <td>S</td>\n",
       "    </tr>\n",
       "    <tr>\n",
       "      <th>3</th>\n",
       "      <td>1</td>\n",
       "      <td>1</td>\n",
       "      <td>female</td>\n",
       "      <td>35.0</td>\n",
       "      <td>0</td>\n",
       "      <td>53.1000</td>\n",
       "      <td>S</td>\n",
       "    </tr>\n",
       "    <tr>\n",
       "      <th>4</th>\n",
       "      <td>0</td>\n",
       "      <td>3</td>\n",
       "      <td>male</td>\n",
       "      <td>35.0</td>\n",
       "      <td>0</td>\n",
       "      <td>8.0500</td>\n",
       "      <td>S</td>\n",
       "    </tr>\n",
       "  </tbody>\n",
       "</table>\n",
       "</div>"
      ],
      "text/plain": [
       "   Survived  Pclass     Sex   Age  Parch     Fare Embarked\n",
       "0         0       3    male  22.0      0   7.2500        S\n",
       "1         1       1  female  38.0      0  71.2833        C\n",
       "2         1       3  female  26.0      0   7.9250        S\n",
       "3         1       1  female  35.0      0  53.1000        S\n",
       "4         0       3    male  35.0      0   8.0500        S"
      ]
     },
     "execution_count": 70,
     "metadata": {},
     "output_type": "execute_result"
    }
   ],
   "source": [
    "#медиана сильно зависит от класса, так и заменим\n",
    "data['Fare'] = data['Fare'].fillna(data.groupby(['Embarked'])['Fare'].transform('median'))\n",
    "data.head()"
   ]
  },
  {
   "cell_type": "code",
   "execution_count": 71,
   "id": "67ff74d4",
   "metadata": {},
   "outputs": [
    {
     "name": "stdout",
     "output_type": "stream",
     "text": [
      "Fare \n",
      " мин: 0.0\n"
     ]
    }
   ],
   "source": [
    "min_ = min(data['Fare'])\n",
    "print('Fare','\\n', 'мин:', min_)"
   ]
  },
  {
   "cell_type": "markdown",
   "id": "ab3b33e0",
   "metadata": {},
   "source": [
    "### 6. Категориальные переменные переведите в цифровые значения. Можно использовать pd.get_dummies, preprocessing.LabelEncoder. Старайтесь не использовать для этой задачи циклы."
   ]
  },
  {
   "cell_type": "code",
   "execution_count": 72,
   "id": "1c41a4f2",
   "metadata": {},
   "outputs": [
    {
     "name": "stdout",
     "output_type": "stream",
     "text": [
      "Пометили класс.\n"
     ]
    },
    {
     "data": {
      "text/html": [
       "<div>\n",
       "<style scoped>\n",
       "    .dataframe tbody tr th:only-of-type {\n",
       "        vertical-align: middle;\n",
       "    }\n",
       "\n",
       "    .dataframe tbody tr th {\n",
       "        vertical-align: top;\n",
       "    }\n",
       "\n",
       "    .dataframe thead th {\n",
       "        text-align: right;\n",
       "    }\n",
       "</style>\n",
       "<table border=\"1\" class=\"dataframe\">\n",
       "  <thead>\n",
       "    <tr style=\"text-align: right;\">\n",
       "      <th></th>\n",
       "      <th>Survived</th>\n",
       "      <th>Pclass</th>\n",
       "      <th>Sex</th>\n",
       "      <th>Age</th>\n",
       "      <th>Parch</th>\n",
       "      <th>Fare</th>\n",
       "      <th>Embarked_C</th>\n",
       "      <th>Embarked_Q</th>\n",
       "      <th>Embarked_S</th>\n",
       "    </tr>\n",
       "  </thead>\n",
       "  <tbody>\n",
       "    <tr>\n",
       "      <th>0</th>\n",
       "      <td>0</td>\n",
       "      <td>3</td>\n",
       "      <td>male</td>\n",
       "      <td>22.0</td>\n",
       "      <td>0</td>\n",
       "      <td>7.2500</td>\n",
       "      <td>False</td>\n",
       "      <td>False</td>\n",
       "      <td>True</td>\n",
       "    </tr>\n",
       "    <tr>\n",
       "      <th>1</th>\n",
       "      <td>1</td>\n",
       "      <td>1</td>\n",
       "      <td>female</td>\n",
       "      <td>38.0</td>\n",
       "      <td>0</td>\n",
       "      <td>71.2833</td>\n",
       "      <td>True</td>\n",
       "      <td>False</td>\n",
       "      <td>False</td>\n",
       "    </tr>\n",
       "    <tr>\n",
       "      <th>2</th>\n",
       "      <td>1</td>\n",
       "      <td>3</td>\n",
       "      <td>female</td>\n",
       "      <td>26.0</td>\n",
       "      <td>0</td>\n",
       "      <td>7.9250</td>\n",
       "      <td>False</td>\n",
       "      <td>False</td>\n",
       "      <td>True</td>\n",
       "    </tr>\n",
       "    <tr>\n",
       "      <th>3</th>\n",
       "      <td>1</td>\n",
       "      <td>1</td>\n",
       "      <td>female</td>\n",
       "      <td>35.0</td>\n",
       "      <td>0</td>\n",
       "      <td>53.1000</td>\n",
       "      <td>False</td>\n",
       "      <td>False</td>\n",
       "      <td>True</td>\n",
       "    </tr>\n",
       "    <tr>\n",
       "      <th>4</th>\n",
       "      <td>0</td>\n",
       "      <td>3</td>\n",
       "      <td>male</td>\n",
       "      <td>35.0</td>\n",
       "      <td>0</td>\n",
       "      <td>8.0500</td>\n",
       "      <td>False</td>\n",
       "      <td>False</td>\n",
       "      <td>True</td>\n",
       "    </tr>\n",
       "    <tr>\n",
       "      <th>...</th>\n",
       "      <td>...</td>\n",
       "      <td>...</td>\n",
       "      <td>...</td>\n",
       "      <td>...</td>\n",
       "      <td>...</td>\n",
       "      <td>...</td>\n",
       "      <td>...</td>\n",
       "      <td>...</td>\n",
       "      <td>...</td>\n",
       "    </tr>\n",
       "    <tr>\n",
       "      <th>886</th>\n",
       "      <td>0</td>\n",
       "      <td>2</td>\n",
       "      <td>male</td>\n",
       "      <td>27.0</td>\n",
       "      <td>0</td>\n",
       "      <td>13.0000</td>\n",
       "      <td>False</td>\n",
       "      <td>False</td>\n",
       "      <td>True</td>\n",
       "    </tr>\n",
       "    <tr>\n",
       "      <th>887</th>\n",
       "      <td>1</td>\n",
       "      <td>1</td>\n",
       "      <td>female</td>\n",
       "      <td>19.0</td>\n",
       "      <td>0</td>\n",
       "      <td>30.0000</td>\n",
       "      <td>False</td>\n",
       "      <td>False</td>\n",
       "      <td>True</td>\n",
       "    </tr>\n",
       "    <tr>\n",
       "      <th>888</th>\n",
       "      <td>0</td>\n",
       "      <td>3</td>\n",
       "      <td>female</td>\n",
       "      <td>28.0</td>\n",
       "      <td>2</td>\n",
       "      <td>23.4500</td>\n",
       "      <td>False</td>\n",
       "      <td>False</td>\n",
       "      <td>True</td>\n",
       "    </tr>\n",
       "    <tr>\n",
       "      <th>889</th>\n",
       "      <td>1</td>\n",
       "      <td>1</td>\n",
       "      <td>male</td>\n",
       "      <td>26.0</td>\n",
       "      <td>0</td>\n",
       "      <td>30.0000</td>\n",
       "      <td>True</td>\n",
       "      <td>False</td>\n",
       "      <td>False</td>\n",
       "    </tr>\n",
       "    <tr>\n",
       "      <th>890</th>\n",
       "      <td>0</td>\n",
       "      <td>3</td>\n",
       "      <td>male</td>\n",
       "      <td>32.0</td>\n",
       "      <td>0</td>\n",
       "      <td>7.7500</td>\n",
       "      <td>False</td>\n",
       "      <td>True</td>\n",
       "      <td>False</td>\n",
       "    </tr>\n",
       "  </tbody>\n",
       "</table>\n",
       "<p>891 rows × 9 columns</p>\n",
       "</div>"
      ],
      "text/plain": [
       "     Survived  Pclass     Sex   Age  Parch     Fare  Embarked_C  Embarked_Q  \\\n",
       "0           0       3    male  22.0      0   7.2500       False       False   \n",
       "1           1       1  female  38.0      0  71.2833        True       False   \n",
       "2           1       3  female  26.0      0   7.9250       False       False   \n",
       "3           1       1  female  35.0      0  53.1000       False       False   \n",
       "4           0       3    male  35.0      0   8.0500       False       False   \n",
       "..        ...     ...     ...   ...    ...      ...         ...         ...   \n",
       "886         0       2    male  27.0      0  13.0000       False       False   \n",
       "887         1       1  female  19.0      0  30.0000       False       False   \n",
       "888         0       3  female  28.0      2  23.4500       False       False   \n",
       "889         1       1    male  26.0      0  30.0000        True       False   \n",
       "890         0       3    male  32.0      0   7.7500       False        True   \n",
       "\n",
       "     Embarked_S  \n",
       "0          True  \n",
       "1         False  \n",
       "2          True  \n",
       "3          True  \n",
       "4          True  \n",
       "..          ...  \n",
       "886        True  \n",
       "887        True  \n",
       "888        True  \n",
       "889       False  \n",
       "890       False  \n",
       "\n",
       "[891 rows x 9 columns]"
      ]
     },
     "execution_count": 72,
     "metadata": {},
     "output_type": "execute_result"
    }
   ],
   "source": [
    "selectedColumns = data.copy()\n",
    "X = pd.get_dummies(selectedColumns, columns=['Embarked'])\n",
    "print('Пометили класс.')\n",
    "X"
   ]
  },
  {
   "cell_type": "code",
   "execution_count": 73,
   "id": "151addc2",
   "metadata": {},
   "outputs": [],
   "source": [
    "from sklearn.preprocessing import LabelEncoder"
   ]
  },
  {
   "cell_type": "code",
   "execution_count": 74,
   "id": "b4eca868",
   "metadata": {},
   "outputs": [
    {
     "data": {
      "text/plain": [
       "array([1, 0, 0, 0, 1, 1, 1, 1, 0, 0, 0, 0, 1, 1, 0, 0, 1, 1, 0, 0, 1, 1,\n",
       "       0, 1, 0, 0, 1, 1, 0, 1, 1, 0, 0, 1, 1, 1, 1, 1, 0, 0, 0, 0, 1, 0,\n",
       "       0, 1, 1, 0, 1, 0, 1, 1, 0, 0, 1, 1, 0, 1, 0, 1, 1, 0, 1, 1, 1, 1,\n",
       "       0, 1, 0, 1, 1, 0, 1, 1, 1, 1, 1, 1, 1, 0, 1, 1, 0, 1, 0, 0, 1, 1,\n",
       "       0, 1, 1, 1, 1, 1, 1, 1, 1, 1, 0, 1, 0, 1, 1, 1, 1, 1, 0, 1, 1, 0,\n",
       "       1, 0, 1, 0, 0, 1, 1, 1, 1, 0, 1, 1, 1, 0, 1, 1, 1, 1, 0, 1, 1, 1,\n",
       "       0, 0, 1, 1, 0, 1, 1, 1, 0, 0, 0, 1, 1, 1, 1, 0, 1, 1, 1, 0, 1, 1,\n",
       "       1, 1, 0, 1, 1, 1, 1, 0, 1, 1, 1, 1, 0, 0, 1, 1, 1, 1, 0, 1, 1, 1,\n",
       "       1, 0, 1, 1, 0, 1, 1, 1, 0, 1, 0, 1, 1, 1, 0, 1, 0, 1, 0, 0, 1, 1,\n",
       "       0, 0, 1, 1, 1, 1, 1, 0, 1, 1, 0, 1, 1, 0, 1, 1, 1, 0, 0, 1, 0, 1,\n",
       "       1, 1, 1, 1, 1, 1, 1, 1, 1, 0, 0, 1, 1, 0, 1, 0, 1, 0, 1, 1, 0, 0,\n",
       "       1, 1, 1, 1, 0, 0, 1, 1, 1, 0, 1, 1, 0, 0, 0, 0, 0, 0, 1, 1, 1, 1,\n",
       "       0, 1, 1, 1, 0, 0, 1, 1, 0, 1, 0, 0, 0, 1, 1, 0, 1, 1, 1, 1, 1, 1,\n",
       "       1, 1, 1, 0, 0, 0, 1, 0, 1, 1, 1, 0, 1, 0, 0, 1, 1, 0, 1, 1, 0, 0,\n",
       "       1, 0, 0, 0, 0, 1, 1, 0, 0, 1, 0, 0, 1, 1, 0, 0, 1, 0, 1, 0, 0, 0,\n",
       "       0, 1, 1, 1, 0, 1, 1, 0, 1, 1, 1, 0, 1, 1, 1, 0, 0, 0, 1, 1, 1, 1,\n",
       "       1, 1, 1, 1, 0, 0, 0, 0, 1, 1, 0, 1, 1, 1, 0, 0, 0, 0, 1, 1, 1, 1,\n",
       "       0, 0, 0, 1, 1, 1, 0, 0, 1, 0, 1, 1, 1, 0, 1, 0, 1, 1, 1, 0, 0, 1,\n",
       "       0, 1, 1, 0, 1, 1, 0, 1, 0, 1, 1, 1, 1, 0, 1, 1, 0, 1, 1, 0, 0, 0,\n",
       "       1, 0, 1, 1, 1, 0, 1, 1, 0, 0, 1, 1, 1, 0, 0, 1, 1, 0, 0, 0, 1, 1,\n",
       "       0, 1, 1, 0, 1, 1, 0, 1, 0, 1, 1, 1, 1, 1, 1, 1, 1, 0, 0, 1, 1, 1,\n",
       "       1, 1, 1, 1, 1, 1, 1, 0, 1, 1, 0, 0, 0, 1, 1, 1, 1, 0, 1, 1, 1, 0,\n",
       "       1, 0, 0, 1, 1, 1, 1, 1, 1, 1, 1, 1, 0, 1, 0, 1, 1, 0, 0, 0, 0, 1,\n",
       "       0, 1, 1, 1, 1, 1, 1, 0, 1, 1, 0, 1, 0, 1, 0, 1, 1, 0, 1, 1, 0, 1,\n",
       "       1, 1, 0, 1, 1, 0, 0, 0, 1, 0, 1, 0, 0, 0, 0, 1, 1, 1, 0, 1, 1, 1,\n",
       "       1, 1, 1, 1, 0, 1, 0, 1, 0, 0, 1, 1, 1, 1, 0, 1, 1, 0, 1, 1, 1, 0,\n",
       "       1, 0, 1, 1, 0, 0, 0, 1, 0, 0, 1, 1, 1, 0, 1, 1, 1, 1, 1, 0, 1, 0,\n",
       "       1, 1, 0, 1, 1, 1, 0, 1, 1, 1, 1, 1, 1, 1, 0, 0, 0, 1, 0, 1, 1, 0,\n",
       "       1, 0, 0, 1, 1, 1, 1, 1, 1, 1, 1, 0, 1, 1, 1, 1, 1, 1, 0, 0, 1, 1,\n",
       "       0, 1, 1, 0, 0, 1, 0, 1, 1, 1, 1, 0, 1, 0, 1, 0, 0, 1, 1, 0, 1, 1,\n",
       "       1, 1, 1, 1, 1, 1, 1, 1, 1, 0, 0, 1, 1, 1, 1, 1, 1, 0, 0, 1, 0, 1,\n",
       "       1, 1, 1, 1, 1, 1, 1, 0, 1, 0, 1, 1, 1, 1, 1, 0, 1, 1, 0, 1, 0, 1,\n",
       "       1, 1, 0, 1, 0, 1, 0, 1, 1, 1, 1, 1, 0, 0, 1, 1, 0, 1, 1, 1, 1, 1,\n",
       "       0, 0, 1, 0, 0, 1, 1, 1, 1, 1, 0, 1, 1, 1, 1, 1, 0, 1, 1, 1, 1, 0,\n",
       "       1, 1, 0, 1, 1, 1, 0, 1, 1, 1, 1, 0, 1, 1, 1, 0, 1, 0, 1, 0, 1, 1,\n",
       "       1, 1, 0, 1, 0, 1, 1, 0, 1, 0, 0, 0, 1, 1, 1, 1, 0, 1, 1, 1, 1, 1,\n",
       "       0, 1, 1, 1, 0, 0, 1, 0, 1, 0, 1, 1, 1, 1, 1, 0, 1, 0, 1, 1, 1, 0,\n",
       "       1, 1, 0, 1, 1, 1, 0, 1, 1, 0, 1, 1, 1, 1, 1, 0, 0, 1, 1, 1, 1, 0,\n",
       "       1, 1, 1, 1, 1, 1, 0, 1, 1, 1, 1, 1, 1, 0, 1, 1, 0, 0, 0, 0, 0, 1,\n",
       "       0, 1, 1, 1, 0, 0, 1, 0, 0, 1, 1, 1, 1, 0, 1, 1, 0, 0, 1, 1, 1, 0,\n",
       "       0, 1, 0, 1, 1, 0, 1, 0, 0, 1, 1])"
      ]
     },
     "execution_count": 74,
     "metadata": {},
     "output_type": "execute_result"
    }
   ],
   "source": [
    "labelencoder = LabelEncoder()\n",
    "data_s = labelencoder.fit_transform(data['Sex'].values)\n",
    "data_s"
   ]
  },
  {
   "cell_type": "code",
   "execution_count": 75,
   "id": "0b4c6a57",
   "metadata": {},
   "outputs": [
    {
     "data": {
      "text/html": [
       "<div>\n",
       "<style scoped>\n",
       "    .dataframe tbody tr th:only-of-type {\n",
       "        vertical-align: middle;\n",
       "    }\n",
       "\n",
       "    .dataframe tbody tr th {\n",
       "        vertical-align: top;\n",
       "    }\n",
       "\n",
       "    .dataframe thead th {\n",
       "        text-align: right;\n",
       "    }\n",
       "</style>\n",
       "<table border=\"1\" class=\"dataframe\">\n",
       "  <thead>\n",
       "    <tr style=\"text-align: right;\">\n",
       "      <th></th>\n",
       "      <th>Sex</th>\n",
       "      <th>num</th>\n",
       "    </tr>\n",
       "  </thead>\n",
       "  <tbody>\n",
       "    <tr>\n",
       "      <th>0</th>\n",
       "      <td>male</td>\n",
       "      <td>1</td>\n",
       "    </tr>\n",
       "    <tr>\n",
       "      <th>1</th>\n",
       "      <td>female</td>\n",
       "      <td>0</td>\n",
       "    </tr>\n",
       "  </tbody>\n",
       "</table>\n",
       "</div>"
      ],
      "text/plain": [
       "      Sex  num\n",
       "0    male    1\n",
       "1  female    0"
      ]
     },
     "execution_count": 75,
     "metadata": {},
     "output_type": "execute_result"
    }
   ],
   "source": [
    "s = pd.DataFrame()\n",
    "s['Sex'] = data['Sex']\n",
    "s['num'] = data_s\n",
    "s.drop_duplicates(subset='num', keep='first', inplace=False)"
   ]
  },
  {
   "cell_type": "code",
   "execution_count": 76,
   "id": "336a58b4",
   "metadata": {},
   "outputs": [
    {
     "name": "stdout",
     "output_type": "stream",
     "text": [
      "Пометили пол.\n"
     ]
    },
    {
     "data": {
      "text/html": [
       "<div>\n",
       "<style scoped>\n",
       "    .dataframe tbody tr th:only-of-type {\n",
       "        vertical-align: middle;\n",
       "    }\n",
       "\n",
       "    .dataframe tbody tr th {\n",
       "        vertical-align: top;\n",
       "    }\n",
       "\n",
       "    .dataframe thead th {\n",
       "        text-align: right;\n",
       "    }\n",
       "</style>\n",
       "<table border=\"1\" class=\"dataframe\">\n",
       "  <thead>\n",
       "    <tr style=\"text-align: right;\">\n",
       "      <th></th>\n",
       "      <th>Survived</th>\n",
       "      <th>Pclass</th>\n",
       "      <th>Age</th>\n",
       "      <th>Parch</th>\n",
       "      <th>Fare</th>\n",
       "      <th>Embarked_C</th>\n",
       "      <th>Embarked_Q</th>\n",
       "      <th>Embarked_S</th>\n",
       "      <th>Sex_female</th>\n",
       "      <th>Sex_male</th>\n",
       "    </tr>\n",
       "  </thead>\n",
       "  <tbody>\n",
       "    <tr>\n",
       "      <th>0</th>\n",
       "      <td>0</td>\n",
       "      <td>3</td>\n",
       "      <td>22.0</td>\n",
       "      <td>0</td>\n",
       "      <td>7.2500</td>\n",
       "      <td>False</td>\n",
       "      <td>False</td>\n",
       "      <td>True</td>\n",
       "      <td>False</td>\n",
       "      <td>True</td>\n",
       "    </tr>\n",
       "    <tr>\n",
       "      <th>1</th>\n",
       "      <td>1</td>\n",
       "      <td>1</td>\n",
       "      <td>38.0</td>\n",
       "      <td>0</td>\n",
       "      <td>71.2833</td>\n",
       "      <td>True</td>\n",
       "      <td>False</td>\n",
       "      <td>False</td>\n",
       "      <td>True</td>\n",
       "      <td>False</td>\n",
       "    </tr>\n",
       "    <tr>\n",
       "      <th>2</th>\n",
       "      <td>1</td>\n",
       "      <td>3</td>\n",
       "      <td>26.0</td>\n",
       "      <td>0</td>\n",
       "      <td>7.9250</td>\n",
       "      <td>False</td>\n",
       "      <td>False</td>\n",
       "      <td>True</td>\n",
       "      <td>True</td>\n",
       "      <td>False</td>\n",
       "    </tr>\n",
       "    <tr>\n",
       "      <th>3</th>\n",
       "      <td>1</td>\n",
       "      <td>1</td>\n",
       "      <td>35.0</td>\n",
       "      <td>0</td>\n",
       "      <td>53.1000</td>\n",
       "      <td>False</td>\n",
       "      <td>False</td>\n",
       "      <td>True</td>\n",
       "      <td>True</td>\n",
       "      <td>False</td>\n",
       "    </tr>\n",
       "    <tr>\n",
       "      <th>4</th>\n",
       "      <td>0</td>\n",
       "      <td>3</td>\n",
       "      <td>35.0</td>\n",
       "      <td>0</td>\n",
       "      <td>8.0500</td>\n",
       "      <td>False</td>\n",
       "      <td>False</td>\n",
       "      <td>True</td>\n",
       "      <td>False</td>\n",
       "      <td>True</td>\n",
       "    </tr>\n",
       "    <tr>\n",
       "      <th>...</th>\n",
       "      <td>...</td>\n",
       "      <td>...</td>\n",
       "      <td>...</td>\n",
       "      <td>...</td>\n",
       "      <td>...</td>\n",
       "      <td>...</td>\n",
       "      <td>...</td>\n",
       "      <td>...</td>\n",
       "      <td>...</td>\n",
       "      <td>...</td>\n",
       "    </tr>\n",
       "    <tr>\n",
       "      <th>886</th>\n",
       "      <td>0</td>\n",
       "      <td>2</td>\n",
       "      <td>27.0</td>\n",
       "      <td>0</td>\n",
       "      <td>13.0000</td>\n",
       "      <td>False</td>\n",
       "      <td>False</td>\n",
       "      <td>True</td>\n",
       "      <td>False</td>\n",
       "      <td>True</td>\n",
       "    </tr>\n",
       "    <tr>\n",
       "      <th>887</th>\n",
       "      <td>1</td>\n",
       "      <td>1</td>\n",
       "      <td>19.0</td>\n",
       "      <td>0</td>\n",
       "      <td>30.0000</td>\n",
       "      <td>False</td>\n",
       "      <td>False</td>\n",
       "      <td>True</td>\n",
       "      <td>True</td>\n",
       "      <td>False</td>\n",
       "    </tr>\n",
       "    <tr>\n",
       "      <th>888</th>\n",
       "      <td>0</td>\n",
       "      <td>3</td>\n",
       "      <td>28.0</td>\n",
       "      <td>2</td>\n",
       "      <td>23.4500</td>\n",
       "      <td>False</td>\n",
       "      <td>False</td>\n",
       "      <td>True</td>\n",
       "      <td>True</td>\n",
       "      <td>False</td>\n",
       "    </tr>\n",
       "    <tr>\n",
       "      <th>889</th>\n",
       "      <td>1</td>\n",
       "      <td>1</td>\n",
       "      <td>26.0</td>\n",
       "      <td>0</td>\n",
       "      <td>30.0000</td>\n",
       "      <td>True</td>\n",
       "      <td>False</td>\n",
       "      <td>False</td>\n",
       "      <td>False</td>\n",
       "      <td>True</td>\n",
       "    </tr>\n",
       "    <tr>\n",
       "      <th>890</th>\n",
       "      <td>0</td>\n",
       "      <td>3</td>\n",
       "      <td>32.0</td>\n",
       "      <td>0</td>\n",
       "      <td>7.7500</td>\n",
       "      <td>False</td>\n",
       "      <td>True</td>\n",
       "      <td>False</td>\n",
       "      <td>False</td>\n",
       "      <td>True</td>\n",
       "    </tr>\n",
       "  </tbody>\n",
       "</table>\n",
       "<p>891 rows × 10 columns</p>\n",
       "</div>"
      ],
      "text/plain": [
       "     Survived  Pclass   Age  Parch     Fare  Embarked_C  Embarked_Q  \\\n",
       "0           0       3  22.0      0   7.2500       False       False   \n",
       "1           1       1  38.0      0  71.2833        True       False   \n",
       "2           1       3  26.0      0   7.9250       False       False   \n",
       "3           1       1  35.0      0  53.1000       False       False   \n",
       "4           0       3  35.0      0   8.0500       False       False   \n",
       "..        ...     ...   ...    ...      ...         ...         ...   \n",
       "886         0       2  27.0      0  13.0000       False       False   \n",
       "887         1       1  19.0      0  30.0000       False       False   \n",
       "888         0       3  28.0      2  23.4500       False       False   \n",
       "889         1       1  26.0      0  30.0000        True       False   \n",
       "890         0       3  32.0      0   7.7500       False        True   \n",
       "\n",
       "     Embarked_S  Sex_female  Sex_male  \n",
       "0          True       False      True  \n",
       "1         False        True     False  \n",
       "2          True        True     False  \n",
       "3          True        True     False  \n",
       "4          True       False      True  \n",
       "..          ...         ...       ...  \n",
       "886        True       False      True  \n",
       "887        True        True     False  \n",
       "888        True        True     False  \n",
       "889       False       False      True  \n",
       "890       False       False      True  \n",
       "\n",
       "[891 rows x 10 columns]"
      ]
     },
     "execution_count": 76,
     "metadata": {},
     "output_type": "execute_result"
    }
   ],
   "source": [
    "selectedColumns = X.copy()\n",
    "X = pd.get_dummies(selectedColumns, columns=['Sex'])\n",
    "print('Пометили пол.')\n",
    "X"
   ]
  },
  {
   "cell_type": "code",
   "execution_count": 77,
   "id": "d3e71e04",
   "metadata": {},
   "outputs": [],
   "source": [
    "data = X"
   ]
  },
  {
   "cell_type": "markdown",
   "id": "2eb2da78",
   "metadata": {},
   "source": [
    "### 7. Проверьте данные на наличие выбросов.\n"
   ]
  },
  {
   "cell_type": "markdown",
   "id": "5fb9740c",
   "metadata": {},
   "source": [
    " <b> Age"
   ]
  },
  {
   "cell_type": "code",
   "execution_count": 78,
   "id": "710d752d",
   "metadata": {},
   "outputs": [
    {
     "name": "stdout",
     "output_type": "stream",
     "text": [
      "[2.0, 58.0, 55.0, 2.0, 66.0, 65.0, 0.83, 59.0, 71.0, 70.5, 2.0, 55.5, 1.0, 61.0, 1.0, 56.0, 1.0, 58.0, 2.0, 59.0, 62.0, 58.0, 63.0, 65.0, 2.0, 0.92, 61.0, 2.0, 60.0, 1.0, 1.0, 64.0, 65.0, 56.0, 0.75, 2.0, 63.0, 58.0, 55.0, 71.0, 2.0, 64.0, 62.0, 62.0, 60.0, 61.0, 57.0, 80.0, 2.0, 0.75, 56.0, 58.0, 70.0, 60.0, 60.0, 70.0, 0.67, 57.0, 1.0, 0.42, 2.0, 1.0, 62.0, 0.83, 74.0, 56.0]\n"
     ]
    }
   ],
   "source": [
    "#Age -- количественный\n",
    "iqr = data['Age'].quantile(0.75) - data['Age'].quantile(0.25)\n",
    "lower_bound = data['Age'].quantile(0.25) - 1.5*iqr\n",
    "upper_bound = data['Age'].quantile(0.75) + 1.5*iqr\n",
    "outliers = list(filter(lambda x: x < lower_bound or x > upper_bound , data['Age']))\n",
    "print(outliers)"
   ]
  },
  {
   "cell_type": "markdown",
   "id": "8e62908e",
   "metadata": {},
   "source": [
    "Выбросы есть, но все они реалистичны. Ничего не надо удалять."
   ]
  },
  {
   "cell_type": "markdown",
   "id": "276c0f6f",
   "metadata": {},
   "source": [
    "<b> Fare"
   ]
  },
  {
   "cell_type": "code",
   "execution_count": 79,
   "id": "75f7b81e",
   "metadata": {},
   "outputs": [
    {
     "name": "stdout",
     "output_type": "stream",
     "text": [
      "[71.2833, 263.0, 146.5208, 82.1708, 76.7292, 80.0, 83.475, 73.5, 263.0, 77.2875, 247.5208, 73.5, 77.2875, 79.2, 66.6, 69.55, 69.55, 146.5208, 69.55, 113.275, 76.2917, 90.0, 83.475, 90.0, 79.2, 86.5, 512.3292, 79.65, 153.4625, 135.6333, 77.9583, 78.85, 91.0792, 151.55, 247.5208, 151.55, 110.8833, 108.9, 83.1583, 262.375, 164.8667, 134.5, 69.55, 135.6333, 153.4625, 133.65, 66.6, 134.5, 263.0, 75.25, 69.3, 135.6333, 82.1708, 211.5, 227.525, 73.5, 120.0, 113.275, 90.0, 120.0, 263.0, 81.8583, 89.1042, 91.0792, 90.0, 78.2667, 151.55, 86.5, 108.9, 93.5, 221.7792, 106.425, 71.0, 106.425, 110.8833, 227.525, 79.65, 110.8833, 79.65, 79.2, 78.2667, 153.4625, 77.9583, 69.3, 76.7292, 73.5, 113.275, 133.65, 73.5, 512.3292, 76.7292, 211.3375, 110.8833, 227.525, 151.55, 227.525, 211.3375, 512.3292, 78.85, 262.375, 71.0, 86.5, 120.0, 77.9583, 211.3375, 79.2, 69.55, 120.0, 93.5, 80.0, 83.1583, 69.55, 89.1042, 164.8667, 69.55, 83.1583]\n"
     ]
    }
   ],
   "source": [
    "#Fare -- количественный\n",
    "iqr = data['Fare'].quantile(0.75) - data['Fare'].quantile(0.25)\n",
    "lower_bound = data['Fare'].quantile(0.25) - 1.5*iqr\n",
    "upper_bound = data['Fare'].quantile(0.75) + 1.5*iqr\n",
    "outliers = list(filter(lambda x: x < lower_bound or x > upper_bound , data['Fare']))\n",
    "print(outliers)"
   ]
  },
  {
   "cell_type": "markdown",
   "id": "9ff81a2d",
   "metadata": {},
   "source": [
    "##### a) Удалите выбросы, если считаете это целесообразным. Обоснуйте."
   ]
  },
  {
   "cell_type": "markdown",
   "id": "62e5b590",
   "metadata": {},
   "source": [
    "Все выбросы в бОльшую сторону выглядят реалистично, на корабле скорее всего были элитные каюты, поэтому я думаю, что их надо  оставить."
   ]
  },
  {
   "cell_type": "markdown",
   "id": "3eb104bf",
   "metadata": {},
   "source": [
    "### 8. Постройте 1-2 графика на выбор. Визуализация должна быть основана на исследуемых данных и быть полезной (из графика можно сделать вывод об особенностях датасета/класса/признака)"
   ]
  },
  {
   "cell_type": "code",
   "execution_count": 84,
   "id": "925bb4e6",
   "metadata": {},
   "outputs": [],
   "source": [
    "import matplotlib.pyplot as plt"
   ]
  },
  {
   "cell_type": "code",
   "execution_count": 85,
   "id": "9b6fe44c",
   "metadata": {},
   "outputs": [
    {
     "data": {
      "text/plain": [
       "(0.0, 400.0)"
      ]
     },
     "execution_count": 85,
     "metadata": {},
     "output_type": "execute_result"
    },
    {
     "data": {
      "image/png": "[encoded data removed]",
      "text/plain": [
       "<Figure size 640x480 with 1 Axes>"
      ]
     },
     "metadata": {},
     "output_type": "display_data"
    }
   ],
   "source": [
    "# посмотрим на взаимосвязь возраста и цены билета\n",
    "data.plot(kind='scatter',\n",
    "        x='Age',\n",
    "        y='Fare',\n",
    "        title='Зависимость между возрастом и ценой билета')\n",
    "plt.ylim(0, 400)"
   ]
  },
  {
   "cell_type": "markdown",
   "id": "bd83676f",
   "metadata": {},
   "source": [
    "Вывод: нельзя сказать, что чем старше человек - тем дороже покупает билет"
   ]
  },
  {
   "cell_type": "code",
   "execution_count": 88,
   "id": "f3137f30",
   "metadata": {},
   "outputs": [],
   "source": [
    "import seaborn as sns"
   ]
  },
  {
   "cell_type": "code",
   "execution_count": 90,
   "id": "60352e6e",
   "metadata": {},
   "outputs": [
    {
     "data": {
      "image/png": "[encoded data removed]",
      "text/plain": [
       "<Figure size 500x300 with 1 Axes>"
      ]
     },
     "metadata": {},
     "output_type": "display_data"
    }
   ],
   "source": [
    "plt.figure(figsize=[5,3])\n",
    "sns.countplot(data=data, x='Survived', order=[1, 0] )\n",
    "plt.title('Количество выживших')\n",
    "plt.show()"
   ]
  },
  {
   "cell_type": "markdown",
   "id": "fea585d1",
   "metadata": {},
   "source": [
    "Вывод: больше людей умерло.\n",
    "\n",
    "Примечание, лучше строить графики после обработки пропусков, но до замены значений label encoder или аналогами. После этого строить графики неудобно"
   ]
  },
  {
   "cell_type": "markdown",
   "id": "732b02d5",
   "metadata": {},
   "source": [
    "### 9. Попробуйте математически преобразовать признак Age."
   ]
  },
  {
   "cell_type": "code",
   "execution_count": 96,
   "id": "11bea1bf",
   "metadata": {},
   "outputs": [],
   "source": [
    "from sklearn import preprocessing"
   ]
  },
  {
   "cell_type": "code",
   "execution_count": 97,
   "id": "72346423",
   "metadata": {},
   "outputs": [
    {
     "name": "stdout",
     "output_type": "stream",
     "text": [
      "[[0.02295568 0.03965071 0.02712943 0.03652039 0.03652039 0.02817287\n",
      "  0.05634575 0.00208688 0.02817287 0.01460816 0.00417376 0.06051951\n",
      "  0.0208688  0.04069415 0.01460816 0.05738919 0.00208688 0.02921631\n",
      "  0.03234663 0.03025975 0.03652039 0.03547695 0.0156516  0.02921631\n",
      "  0.00834752 0.03965071 0.03025975 0.01982536 0.02817287 0.02921631\n",
      "  0.04173759 0.03025975 0.02817287 0.06886703 0.02921631 0.04382447\n",
      "  0.03025975 0.02191224 0.01878192 0.01460816 0.04173759 0.02817287\n",
      "  0.03025975 0.00313032 0.01982536 0.02921631 0.02817287 0.02817287\n",
      "  0.03025975 0.01878192 0.00730408 0.02191224 0.05112855 0.03025975\n",
      "  0.06782359 0.02921631 0.02191224 0.02973803 0.0052172  0.01147784\n",
      "  0.02295568 0.03965071 0.04695479 0.00417376 0.03025975 0.03025975\n",
      "  0.03025975 0.01982536 0.01773848 0.02712943 0.03339007 0.01669504\n",
      "  0.02191224 0.02712943 0.03339007 0.026086   0.02921631 0.02921631\n",
      "  0.00086606 0.03130319 0.02295568 0.03025975 0.02817287 0.02921631\n",
      "  0.01773848 0.03443351 0.01669504 0.02921631 0.02399912 0.02504256\n",
      "  0.03025975 0.0208688  0.04799823 0.02712943 0.06156295 0.02921631\n",
      "  0.07408423 0.02399912 0.03547695 0.03547695 0.02921631 0.02921631\n",
      "  0.02191224 0.03443351 0.03860727 0.02921631 0.02191224 0.02921631\n",
      "  0.03965071 0.02817287 0.04904167 0.01512988 0.02295568 0.0208688\n",
      "  0.01773848 0.02191224 0.07356251 0.03025975 0.02504256 0.00208688\n",
      "  0.02191224 0.02921631 0.03391179 0.03391179 0.05634575 0.01252128\n",
      "  0.02817287 0.02504256 0.03025975 0.04695479 0.03443351 0.0208688\n",
      "  0.04904167 0.03025975 0.026086   0.02399912 0.01982536 0.03860727\n",
      "  0.01669504 0.02504256 0.03025975 0.02295568 0.02504256 0.01982536\n",
      "  0.01878192 0.01982536 0.02817287 0.00939096 0.03808555 0.04382447\n",
      "  0.05321543 0.02295568 0.05791091 0.04225931 0.02921631 0.05321543\n",
      "  0.01669504 0.03130319 0.02921631 0.02921631 0.04591135 0.04173759\n",
      "  0.02712943 0.01773848 0.00104344 0.00939096 0.02921631 0.04695479\n",
      "  0.02921631 0.02921631 0.06364983 0.00417376 0.00104344 0.02191224\n",
      "  0.05843263 0.01878192 0.02921631 0.05217199 0.03130319 0.03756383\n",
      "  0.02921631 0.03025975 0.00939096 0.00104344 0.00417376 0.02921631\n",
      "  0.02817287 0.04695479 0.04173759 0.03756383 0.03339007 0.01982536\n",
      "  0.01982536 0.00313032 0.04591135 0.06051951 0.02817287 0.04382447\n",
      "  0.02817287 0.02504256 0.02921631 0.02921631 0.03547695 0.04747651\n",
      "  0.01878192 0.00208688 0.03339007 0.02712943 0.01669504 0.04173759\n",
      "  0.02504256 0.03652039 0.02295568 0.03130319 0.02817287 0.03234663\n",
      "  0.02817287 0.04382447 0.03339007 0.03130319 0.01669504 0.02817287\n",
      "  0.05321543 0.02921631 0.03965071 0.02295568 0.01982536 0.02139052\n",
      "  0.01878192 0.02921631 0.03652039 0.03025975 0.06156295 0.0052172\n",
      "  0.02504256 0.02921631 0.04591135 0.00834752 0.01982536 0.03443351\n",
      "  0.03025975 0.02817287 0.03025975 0.02295568 0.03130319 0.04591135\n",
      "  0.026086   0.02504256 0.03860727 0.05634575 0.02921631 0.03025975\n",
      "  0.06469327 0.03130319 0.04278103 0.03025975 0.03025975 0.03130319\n",
      "  0.03652039 0.05217199 0.02817287 0.00313032 0.05425887 0.04173759\n",
      "  0.02817287 0.03756383 0.01669504 0.026086   0.06051951 0.03652039\n",
      "  0.02921631 0.026086   0.04278103 0.03860727 0.02817287 0.06573671\n",
      "  0.04695479 0.02921631 0.00730408 0.03652039 0.06782359 0.02921631\n",
      "  0.01669504 0.01982536 0.02921631 0.03443351 0.03130319 0.02295568\n",
      "  0.04382447 0.02295568 0.02712943 0.01982536 0.03756383 0.02504256\n",
      "  0.02504256 0.03025975 0.02452084 0.00208688 0.02921631 0.05217199\n",
      "  0.02817287 0.02817287 0.01982536 0.02817287 0.02921631 0.00095996\n",
      "  0.03025975 0.01773848 0.03130319 0.03130319 0.02504256 0.01878192\n",
      "  0.02712943 0.02921631 0.04486791 0.02712943 0.02504256 0.05634575\n",
      "  0.03234663 0.04173759 0.02295568 0.02817287 0.03130319 0.02295568\n",
      "  0.02921631 0.03756383 0.06364983 0.03756383 0.03234663 0.01669504\n",
      "  0.02817287 0.04747651 0.03965071 0.01669504 0.02921631 0.02921631\n",
      "  0.03025975 0.04278103 0.04695479 0.04695479 0.00208688 0.02504256\n",
      "  0.02921631 0.026086   0.03756383 0.02504256 0.04173759 0.02921631\n",
      "  0.00313032 0.04382447 0.02399912 0.02921631 0.0156516  0.026086\n",
      "  0.03025975 0.02921631 0.02295568 0.03965071 0.02817287 0.02817287\n",
      "  0.04173759 0.03025975 0.04695479 0.03652039 0.02817287 0.03130319\n",
      "  0.06260639 0.03025975 0.02817287 0.02504256 0.026086   0.01878192\n",
      "  0.01982536 0.02295568 0.00313032 0.03025975 0.02295568 0.02817287\n",
      "  0.0208688  0.01982536 0.04382447 0.00104344 0.03339007 0.03652039\n",
      "  0.02921631 0.01878192 0.00104344 0.03756383 0.02817287 0.01773848\n",
      "  0.03756383 0.02191224 0.02921631 0.02399912 0.02504256 0.02295568\n",
      "  0.03234663 0.04799823 0.02399912 0.02921631 0.04069415 0.02712943\n",
      "  0.02191224 0.02921631 0.0208688  0.03547695 0.05321543 0.00313032\n",
      "  0.02191224 0.02921631 0.02921631 0.02817287 0.03443351 0.02921631\n",
      "  0.04591135 0.02921631 0.03547695 0.01878192 0.03130319 0.0104344\n",
      "  0.03025975 0.02191224 0.03025975 0.02921631 0.01878192 0.02921631\n",
      "  0.02921631 0.01982536 0.02817287 0.03339007 0.02921631 0.02921631\n",
      "  0.04382447 0.01773848 0.05217199 0.01460816 0.02191224 0.02504256\n",
      "  0.06678015 0.03234663 0.04695479 0.0208688  0.026086   0.02921631\n",
      "  0.02921631 0.00417376 0.01356472 0.03547695 0.0052172  0.05425887\n",
      "  0.03756383 0.02921631 0.03130319 0.05112855 0.02921631 0.03025975\n",
      "  0.06782359 0.02921631 0.05217199 0.02817287 0.05008511 0.03547695\n",
      "  0.04904167 0.05008511 0.02921631 0.03965071 0.02921631 0.05843263\n",
      "  0.02817287 0.00078258 0.02921631 0.03965071 0.03443351 0.02399912\n",
      "  0.02295568 0.02921631 0.03547695 0.03025975 0.02295568 0.00208688\n",
      "  0.00939096 0.02921631 0.05217199 0.06573671 0.026086   0.02921631\n",
      "  0.03652039 0.06051951 0.03130319 0.00939096 0.02921631 0.02191224\n",
      "  0.05738919 0.07408423 0.02191224 0.03025975 0.05634575 0.02921631\n",
      "  0.026086   0.02504256 0.01773848 0.02191224 0.02817287 0.03860727\n",
      "  0.01669504 0.01878192 0.03443351 0.02921631 0.02921631 0.02712943\n",
      "  0.03025975 0.02921631 0.03756383 0.05634575 0.02504256 0.04904167\n",
      "  0.03547695 0.02817287 0.03756383 0.03339007 0.03130319 0.02295568\n",
      "  0.03025975 0.04591135 0.03025975 0.04225931 0.05217199 0.02921631\n",
      "  0.04069415 0.02399912 0.00208688 0.03025975 0.01773848 0.03025975\n",
      "  0.03130319 0.00730408 0.04695479 0.03130319 0.02921631 0.02295568\n",
      "  0.03756383 0.00939096 0.01147784 0.03339007 0.05217199 0.06678015\n",
      "  0.01982536 0.03025975 0.03443351 0.00834752 0.01773848 0.02817287\n",
      "  0.02817287 0.02295568 0.02295568 0.06469327 0.05008511 0.03025975\n",
      "  0.04069415 0.03756383 0.02817287 0.04173759 0.02921631 0.02921631\n",
      "  0.02921631 0.02504256 0.01982536 0.03025975 0.03025975 0.03339007\n",
      "  0.06469327 0.05530231 0.03756383 0.02817287 0.01669504 0.01982536\n",
      "  0.03547695 0.04069415 0.03025975 0.03339007 0.026086   0.04069415\n",
      "  0.05634575 0.03756383 0.03025975 0.01878192 0.04904167 0.06260639\n",
      "  0.02295568 0.02921631 0.03652039 0.05425887 0.04904167 0.02817287\n",
      "  0.03860727 0.03756383 0.02921631 0.05112855 0.03025975 0.05112855\n",
      "  0.02504256 0.02921631 0.02921631 0.04591135 0.03652039 0.03756383\n",
      "  0.03130319 0.02817287 0.02295568 0.04173759 0.04069415 0.02921631\n",
      "  0.02817287 0.02817287 0.03652039 0.02504256 0.03547695 0.02712943\n",
      "  0.00417376 0.02712943 0.02817287 0.04382447 0.0208688  0.02191224\n",
      "  0.02191224 0.06364983 0.05947607 0.02191224 0.02712943 0.02817287\n",
      "  0.08347518 0.05321543 0.03339007 0.02921631 0.00939096 0.02921631\n",
      "  0.03339007 0.03234663 0.04278103 0.02921631 0.0208688  0.02504256\n",
      "  0.00208688 0.02921631 0.00078258 0.05008511 0.01982536 0.05843263\n",
      "  0.02921631 0.02399912 0.02921631 0.01878192 0.02191224 0.02817287\n",
      "  0.01878192 0.02504256 0.02921631 0.03339007 0.02399912 0.06051951\n",
      "  0.05217199 0.04173759 0.04904167 0.03756383 0.0208688  0.03339007\n",
      "  0.026086   0.02921631 0.04486791 0.02921631 0.04173759 0.03234663\n",
      "  0.07304079 0.03234663 0.02921631 0.01878192 0.02556428 0.01878192\n",
      "  0.04486791 0.03756383 0.02817287 0.02817287 0.0208688  0.01460816\n",
      "  0.06260639 0.026086   0.01460816 0.01982536 0.01878192 0.0156516\n",
      "  0.03234663 0.00417376 0.02921631 0.026086   0.06260639 0.05425887\n",
      "  0.04591135 0.02817287 0.05112855 0.04382447 0.01878192 0.03652039\n",
      "  0.01878192 0.026086   0.02712943 0.04069415 0.04695479 0.04382447\n",
      "  0.02295568 0.03025975 0.02504256 0.02921631 0.05008511 0.03025975\n",
      "  0.05425887 0.01982536 0.03965071 0.02817287 0.02817287 0.03443351\n",
      "  0.00626064 0.01773848 0.03547695 0.05217199 0.02817287 0.0208688\n",
      "  0.03130319 0.02817287 0.026086   0.026086   0.03025975 0.01147784\n",
      "  0.02921631 0.02399912 0.02399912 0.02973803 0.05008511 0.03652039\n",
      "  0.02921631 0.02921631 0.02921631 0.03756383 0.02191224 0.02504256\n",
      "  0.03234663 0.07304079 0.01669504 0.03130319 0.01982536 0.03234663\n",
      "  0.00417376 0.00626064 0.03443351 0.02399912 0.05008511 0.0006991\n",
      "  0.02921631 0.01878192 0.03547695 0.03443351 0.02921631 0.04278103\n",
      "  0.0208688  0.03756383 0.01669504 0.05321543 0.03025975 0.03182491\n",
      "  0.02817287 0.03339007 0.02504256 0.05008511 0.05947607 0.03025975\n",
      "  0.05634575 0.01878192 0.02817287 0.0052172  0.02817287 0.04486791\n",
      "  0.01356472 0.01773848 0.03025975 0.02921631 0.026086   0.026086\n",
      "  0.01878192 0.00834752 0.00104344 0.04799823 0.02817287 0.01669504\n",
      "  0.02921631 0.03025975 0.026086   0.04069415 0.05112855 0.03234663\n",
      "  0.03130319 0.03130319 0.03547695 0.03234663 0.01147784 0.00043824\n",
      "  0.02817287 0.03234663 0.04069415 0.01878192 0.04069415 0.03443351\n",
      "  0.02712943 0.04069415 0.03652039 0.00626064 0.03182491 0.02921631\n",
      "  0.02399912 0.03234663 0.04486791 0.0104344  0.05425887 0.02817287\n",
      "  0.03965071 0.02817287 0.00208688 0.02817287 0.02921631 0.00104344\n",
      "  0.02817287 0.06469327 0.0156516  0.00086606 0.03025975 0.02399912\n",
      "  0.01878192 0.04069415 0.02191224 0.02921631 0.03339007 0.03025975\n",
      "  0.0208688  0.01669504 0.03130319 0.03599867 0.01773848 0.04382447\n",
      "  0.02921631 0.03652039 0.02921631 0.03025975 0.00417376 0.07721455\n",
      "  0.00939096 0.01669504 0.04591135 0.01878192 0.04695479 0.05321543\n",
      "  0.02504256 0.03025975 0.04278103 0.02191224 0.05008511 0.02921631\n",
      "  0.02504256 0.04382447 0.02817287 0.03234663 0.02921631 0.00417376\n",
      "  0.02712943 0.04904167 0.03443351 0.04904167 0.02921631 0.0156516\n",
      "  0.0208688  0.01982536 0.02921631 0.05843263 0.026086   0.03443351\n",
      "  0.02295568 0.02921631 0.026086   0.04069415 0.02817287 0.01982536\n",
      "  0.02921631 0.02712943 0.03339007]]\n"
     ]
    }
   ],
   "source": [
    "x_array = np.array(data['Age'])\n",
    "normalized_arr = preprocessing.normalize([x_array])\n",
    "\n",
    "print(normalized_arr)"
   ]
  },
  {
   "cell_type": "code",
   "execution_count": 100,
   "id": "f2d3151e",
   "metadata": {},
   "outputs": [
    {
     "data": {
      "text/html": [
       "<div>\n",
       "<style scoped>\n",
       "    .dataframe tbody tr th:only-of-type {\n",
       "        vertical-align: middle;\n",
       "    }\n",
       "\n",
       "    .dataframe tbody tr th {\n",
       "        vertical-align: top;\n",
       "    }\n",
       "\n",
       "    .dataframe thead th {\n",
       "        text-align: right;\n",
       "    }\n",
       "</style>\n",
       "<table border=\"1\" class=\"dataframe\">\n",
       "  <thead>\n",
       "    <tr style=\"text-align: right;\">\n",
       "      <th></th>\n",
       "      <th>Survived</th>\n",
       "      <th>Pclass</th>\n",
       "      <th>Age</th>\n",
       "      <th>Parch</th>\n",
       "      <th>Fare</th>\n",
       "      <th>Embarked_C</th>\n",
       "      <th>Embarked_Q</th>\n",
       "      <th>Embarked_S</th>\n",
       "      <th>Sex_female</th>\n",
       "      <th>Sex_male</th>\n",
       "    </tr>\n",
       "  </thead>\n",
       "  <tbody>\n",
       "    <tr>\n",
       "      <th>0</th>\n",
       "      <td>0</td>\n",
       "      <td>3</td>\n",
       "      <td>22.0</td>\n",
       "      <td>0</td>\n",
       "      <td>7.2500</td>\n",
       "      <td>False</td>\n",
       "      <td>False</td>\n",
       "      <td>True</td>\n",
       "      <td>False</td>\n",
       "      <td>True</td>\n",
       "    </tr>\n",
       "    <tr>\n",
       "      <th>1</th>\n",
       "      <td>1</td>\n",
       "      <td>1</td>\n",
       "      <td>38.0</td>\n",
       "      <td>0</td>\n",
       "      <td>71.2833</td>\n",
       "      <td>True</td>\n",
       "      <td>False</td>\n",
       "      <td>False</td>\n",
       "      <td>True</td>\n",
       "      <td>False</td>\n",
       "    </tr>\n",
       "    <tr>\n",
       "      <th>2</th>\n",
       "      <td>1</td>\n",
       "      <td>3</td>\n",
       "      <td>26.0</td>\n",
       "      <td>0</td>\n",
       "      <td>7.9250</td>\n",
       "      <td>False</td>\n",
       "      <td>False</td>\n",
       "      <td>True</td>\n",
       "      <td>True</td>\n",
       "      <td>False</td>\n",
       "    </tr>\n",
       "    <tr>\n",
       "      <th>3</th>\n",
       "      <td>1</td>\n",
       "      <td>1</td>\n",
       "      <td>35.0</td>\n",
       "      <td>0</td>\n",
       "      <td>53.1000</td>\n",
       "      <td>False</td>\n",
       "      <td>False</td>\n",
       "      <td>True</td>\n",
       "      <td>True</td>\n",
       "      <td>False</td>\n",
       "    </tr>\n",
       "    <tr>\n",
       "      <th>4</th>\n",
       "      <td>0</td>\n",
       "      <td>3</td>\n",
       "      <td>35.0</td>\n",
       "      <td>0</td>\n",
       "      <td>8.0500</td>\n",
       "      <td>False</td>\n",
       "      <td>False</td>\n",
       "      <td>True</td>\n",
       "      <td>False</td>\n",
       "      <td>True</td>\n",
       "    </tr>\n",
       "    <tr>\n",
       "      <th>...</th>\n",
       "      <td>...</td>\n",
       "      <td>...</td>\n",
       "      <td>...</td>\n",
       "      <td>...</td>\n",
       "      <td>...</td>\n",
       "      <td>...</td>\n",
       "      <td>...</td>\n",
       "      <td>...</td>\n",
       "      <td>...</td>\n",
       "      <td>...</td>\n",
       "    </tr>\n",
       "    <tr>\n",
       "      <th>886</th>\n",
       "      <td>0</td>\n",
       "      <td>2</td>\n",
       "      <td>27.0</td>\n",
       "      <td>0</td>\n",
       "      <td>13.0000</td>\n",
       "      <td>False</td>\n",
       "      <td>False</td>\n",
       "      <td>True</td>\n",
       "      <td>False</td>\n",
       "      <td>True</td>\n",
       "    </tr>\n",
       "    <tr>\n",
       "      <th>887</th>\n",
       "      <td>1</td>\n",
       "      <td>1</td>\n",
       "      <td>19.0</td>\n",
       "      <td>0</td>\n",
       "      <td>30.0000</td>\n",
       "      <td>False</td>\n",
       "      <td>False</td>\n",
       "      <td>True</td>\n",
       "      <td>True</td>\n",
       "      <td>False</td>\n",
       "    </tr>\n",
       "    <tr>\n",
       "      <th>888</th>\n",
       "      <td>0</td>\n",
       "      <td>3</td>\n",
       "      <td>28.0</td>\n",
       "      <td>2</td>\n",
       "      <td>23.4500</td>\n",
       "      <td>False</td>\n",
       "      <td>False</td>\n",
       "      <td>True</td>\n",
       "      <td>True</td>\n",
       "      <td>False</td>\n",
       "    </tr>\n",
       "    <tr>\n",
       "      <th>889</th>\n",
       "      <td>1</td>\n",
       "      <td>1</td>\n",
       "      <td>26.0</td>\n",
       "      <td>0</td>\n",
       "      <td>30.0000</td>\n",
       "      <td>True</td>\n",
       "      <td>False</td>\n",
       "      <td>False</td>\n",
       "      <td>False</td>\n",
       "      <td>True</td>\n",
       "    </tr>\n",
       "    <tr>\n",
       "      <th>890</th>\n",
       "      <td>0</td>\n",
       "      <td>3</td>\n",
       "      <td>32.0</td>\n",
       "      <td>0</td>\n",
       "      <td>7.7500</td>\n",
       "      <td>False</td>\n",
       "      <td>True</td>\n",
       "      <td>False</td>\n",
       "      <td>False</td>\n",
       "      <td>True</td>\n",
       "    </tr>\n",
       "  </tbody>\n",
       "</table>\n",
       "<p>891 rows × 10 columns</p>\n",
       "</div>"
      ],
      "text/plain": [
       "     Survived  Pclass   Age  Parch     Fare  Embarked_C  Embarked_Q  \\\n",
       "0           0       3  22.0      0   7.2500       False       False   \n",
       "1           1       1  38.0      0  71.2833        True       False   \n",
       "2           1       3  26.0      0   7.9250       False       False   \n",
       "3           1       1  35.0      0  53.1000       False       False   \n",
       "4           0       3  35.0      0   8.0500       False       False   \n",
       "..        ...     ...   ...    ...      ...         ...         ...   \n",
       "886         0       2  27.0      0  13.0000       False       False   \n",
       "887         1       1  19.0      0  30.0000       False       False   \n",
       "888         0       3  28.0      2  23.4500       False       False   \n",
       "889         1       1  26.0      0  30.0000        True       False   \n",
       "890         0       3  32.0      0   7.7500       False        True   \n",
       "\n",
       "     Embarked_S  Sex_female  Sex_male  \n",
       "0          True       False      True  \n",
       "1         False        True     False  \n",
       "2          True        True     False  \n",
       "3          True        True     False  \n",
       "4          True       False      True  \n",
       "..          ...         ...       ...  \n",
       "886        True       False      True  \n",
       "887        True        True     False  \n",
       "888        True        True     False  \n",
       "889       False       False      True  \n",
       "890       False       False      True  \n",
       "\n",
       "[891 rows x 10 columns]"
      ]
     },
     "execution_count": 100,
     "metadata": {},
     "output_type": "execute_result"
    }
   ],
   "source": [
    "data"
   ]
  },
  {
   "cell_type": "code",
   "execution_count": 103,
   "id": "e7be9d44",
   "metadata": {},
   "outputs": [
    {
     "data": {
      "text/html": [
       "<div>\n",
       "<style scoped>\n",
       "    .dataframe tbody tr th:only-of-type {\n",
       "        vertical-align: middle;\n",
       "    }\n",
       "\n",
       "    .dataframe tbody tr th {\n",
       "        vertical-align: top;\n",
       "    }\n",
       "\n",
       "    .dataframe thead th {\n",
       "        text-align: right;\n",
       "    }\n",
       "</style>\n",
       "<table border=\"1\" class=\"dataframe\">\n",
       "  <thead>\n",
       "    <tr style=\"text-align: right;\">\n",
       "      <th></th>\n",
       "      <th>Survived</th>\n",
       "      <th>Pclass</th>\n",
       "      <th>Age</th>\n",
       "      <th>Parch</th>\n",
       "      <th>Fare</th>\n",
       "      <th>Embarked_C</th>\n",
       "      <th>Embarked_Q</th>\n",
       "      <th>Embarked_S</th>\n",
       "      <th>Sex_female</th>\n",
       "      <th>Sex_male</th>\n",
       "    </tr>\n",
       "  </thead>\n",
       "  <tbody>\n",
       "    <tr>\n",
       "      <th>0</th>\n",
       "      <td>0</td>\n",
       "      <td>3</td>\n",
       "      <td>0.022956</td>\n",
       "      <td>0</td>\n",
       "      <td>7.2500</td>\n",
       "      <td>False</td>\n",
       "      <td>False</td>\n",
       "      <td>True</td>\n",
       "      <td>False</td>\n",
       "      <td>True</td>\n",
       "    </tr>\n",
       "    <tr>\n",
       "      <th>1</th>\n",
       "      <td>1</td>\n",
       "      <td>1</td>\n",
       "      <td>0.039651</td>\n",
       "      <td>0</td>\n",
       "      <td>71.2833</td>\n",
       "      <td>True</td>\n",
       "      <td>False</td>\n",
       "      <td>False</td>\n",
       "      <td>True</td>\n",
       "      <td>False</td>\n",
       "    </tr>\n",
       "    <tr>\n",
       "      <th>2</th>\n",
       "      <td>1</td>\n",
       "      <td>3</td>\n",
       "      <td>0.027129</td>\n",
       "      <td>0</td>\n",
       "      <td>7.9250</td>\n",
       "      <td>False</td>\n",
       "      <td>False</td>\n",
       "      <td>True</td>\n",
       "      <td>True</td>\n",
       "      <td>False</td>\n",
       "    </tr>\n",
       "    <tr>\n",
       "      <th>3</th>\n",
       "      <td>1</td>\n",
       "      <td>1</td>\n",
       "      <td>0.036520</td>\n",
       "      <td>0</td>\n",
       "      <td>53.1000</td>\n",
       "      <td>False</td>\n",
       "      <td>False</td>\n",
       "      <td>True</td>\n",
       "      <td>True</td>\n",
       "      <td>False</td>\n",
       "    </tr>\n",
       "    <tr>\n",
       "      <th>4</th>\n",
       "      <td>0</td>\n",
       "      <td>3</td>\n",
       "      <td>0.036520</td>\n",
       "      <td>0</td>\n",
       "      <td>8.0500</td>\n",
       "      <td>False</td>\n",
       "      <td>False</td>\n",
       "      <td>True</td>\n",
       "      <td>False</td>\n",
       "      <td>True</td>\n",
       "    </tr>\n",
       "    <tr>\n",
       "      <th>...</th>\n",
       "      <td>...</td>\n",
       "      <td>...</td>\n",
       "      <td>...</td>\n",
       "      <td>...</td>\n",
       "      <td>...</td>\n",
       "      <td>...</td>\n",
       "      <td>...</td>\n",
       "      <td>...</td>\n",
       "      <td>...</td>\n",
       "      <td>...</td>\n",
       "    </tr>\n",
       "    <tr>\n",
       "      <th>886</th>\n",
       "      <td>0</td>\n",
       "      <td>2</td>\n",
       "      <td>0.028173</td>\n",
       "      <td>0</td>\n",
       "      <td>13.0000</td>\n",
       "      <td>False</td>\n",
       "      <td>False</td>\n",
       "      <td>True</td>\n",
       "      <td>False</td>\n",
       "      <td>True</td>\n",
       "    </tr>\n",
       "    <tr>\n",
       "      <th>887</th>\n",
       "      <td>1</td>\n",
       "      <td>1</td>\n",
       "      <td>0.019825</td>\n",
       "      <td>0</td>\n",
       "      <td>30.0000</td>\n",
       "      <td>False</td>\n",
       "      <td>False</td>\n",
       "      <td>True</td>\n",
       "      <td>True</td>\n",
       "      <td>False</td>\n",
       "    </tr>\n",
       "    <tr>\n",
       "      <th>888</th>\n",
       "      <td>0</td>\n",
       "      <td>3</td>\n",
       "      <td>0.029216</td>\n",
       "      <td>2</td>\n",
       "      <td>23.4500</td>\n",
       "      <td>False</td>\n",
       "      <td>False</td>\n",
       "      <td>True</td>\n",
       "      <td>True</td>\n",
       "      <td>False</td>\n",
       "    </tr>\n",
       "    <tr>\n",
       "      <th>889</th>\n",
       "      <td>1</td>\n",
       "      <td>1</td>\n",
       "      <td>0.027129</td>\n",
       "      <td>0</td>\n",
       "      <td>30.0000</td>\n",
       "      <td>True</td>\n",
       "      <td>False</td>\n",
       "      <td>False</td>\n",
       "      <td>False</td>\n",
       "      <td>True</td>\n",
       "    </tr>\n",
       "    <tr>\n",
       "      <th>890</th>\n",
       "      <td>0</td>\n",
       "      <td>3</td>\n",
       "      <td>0.033390</td>\n",
       "      <td>0</td>\n",
       "      <td>7.7500</td>\n",
       "      <td>False</td>\n",
       "      <td>True</td>\n",
       "      <td>False</td>\n",
       "      <td>False</td>\n",
       "      <td>True</td>\n",
       "    </tr>\n",
       "  </tbody>\n",
       "</table>\n",
       "<p>891 rows × 10 columns</p>\n",
       "</div>"
      ],
      "text/plain": [
       "     Survived  Pclass       Age  Parch     Fare  Embarked_C  Embarked_Q  \\\n",
       "0           0       3  0.022956      0   7.2500       False       False   \n",
       "1           1       1  0.039651      0  71.2833        True       False   \n",
       "2           1       3  0.027129      0   7.9250       False       False   \n",
       "3           1       1  0.036520      0  53.1000       False       False   \n",
       "4           0       3  0.036520      0   8.0500       False       False   \n",
       "..        ...     ...       ...    ...      ...         ...         ...   \n",
       "886         0       2  0.028173      0  13.0000       False       False   \n",
       "887         1       1  0.019825      0  30.0000       False       False   \n",
       "888         0       3  0.029216      2  23.4500       False       False   \n",
       "889         1       1  0.027129      0  30.0000        True       False   \n",
       "890         0       3  0.033390      0   7.7500       False        True   \n",
       "\n",
       "     Embarked_S  Sex_female  Sex_male  \n",
       "0          True       False      True  \n",
       "1         False        True     False  \n",
       "2          True        True     False  \n",
       "3          True        True     False  \n",
       "4          True       False      True  \n",
       "..          ...         ...       ...  \n",
       "886        True       False      True  \n",
       "887        True        True     False  \n",
       "888        True        True     False  \n",
       "889       False       False      True  \n",
       "890       False       False      True  \n",
       "\n",
       "[891 rows x 10 columns]"
      ]
     },
     "execution_count": 103,
     "metadata": {},
     "output_type": "execute_result"
    }
   ],
   "source": [
    "data['Age'] = normalized_arr[0].tolist()\n",
    "data"
   ]
  },
  {
   "cell_type": "markdown",
   "id": "ed3dcbf2",
   "metadata": {},
   "source": [
    "### 10. Обучите ту же модель, что в п. 2 на преобразованных данных. Посчитайте ту же, что в п. 2 метрику."
   ]
  },
  {
   "cell_type": "code",
   "execution_count": 104,
   "id": "d5fac586",
   "metadata": {},
   "outputs": [],
   "source": [
    "X = data[['Pclass', 'Age', 'Parch', 'Fare', 'Embarked_C', 'Embarked_Q', 'Embarked_S', 'Sex_female', 'Sex_male']]\n",
    "y = data['Survived']"
   ]
  },
  {
   "cell_type": "code",
   "execution_count": 105,
   "id": "88121763",
   "metadata": {},
   "outputs": [
    {
     "name": "stderr",
     "output_type": "stream",
     "text": [
      "C:\\Users\\Алехандро\\AppData\\Roaming\\Python\\Python311\\site-packages\\sklearn\\linear_model\\_logistic.py:460: ConvergenceWarning: lbfgs failed to converge (status=1):\n",
      "STOP: TOTAL NO. of ITERATIONS REACHED LIMIT.\n",
      "\n",
      "Increase the number of iterations (max_iter) or scale the data as shown in:\n",
      "    https://scikit-learn.org/stable/modules/preprocessing.html\n",
      "Please also refer to the documentation for alternative solver options:\n",
      "    https://scikit-learn.org/stable/modules/linear_model.html#logistic-regression\n",
      "  n_iter_i = _check_optimize_result(\n"
     ]
    },
    {
     "data": {
      "text/html": [
       "<style>#sk-container-id-3 {color: black;}#sk-container-id-3 pre{padding: 0;}#sk-container-id-3 div.sk-toggleable {background-color: white;}#sk-container-id-3 label.sk-toggleable__label {cursor: pointer;display: block;width: 100%;margin-bottom: 0;padding: 0.3em;box-sizing: border-box;text-align: center;}#sk-container-id-3 label.sk-toggleable__label-arrow:before {content: \"▸\";float: left;margin-right: 0.25em;color: #696969;}#sk-container-id-3 label.sk-toggleable__label-arrow:hover:before {color: black;}#sk-container-id-3 div.sk-estimator:hover label.sk-toggleable__label-arrow:before {color: black;}#sk-container-id-3 div.sk-toggleable__content {max-height: 0;max-width: 0;overflow: hidden;text-align: left;background-color: #f0f8ff;}#sk-container-id-3 div.sk-toggleable__content pre {margin: 0.2em;color: black;border-radius: 0.25em;background-color: #f0f8ff;}#sk-container-id-3 input.sk-toggleable__control:checked~div.sk-toggleable__content {max-height: 200px;max-width: 100%;overflow: auto;}#sk-container-id-3 input.sk-toggleable__control:checked~label.sk-toggleable__label-arrow:before {content: \"▾\";}#sk-container-id-3 div.sk-estimator input.sk-toggleable__control:checked~label.sk-toggleable__label {background-color: #d4ebff;}#sk-container-id-3 div.sk-label input.sk-toggleable__control:checked~label.sk-toggleable__label {background-color: #d4ebff;}#sk-container-id-3 input.sk-hidden--visually {border: 0;clip: rect(1px 1px 1px 1px);clip: rect(1px, 1px, 1px, 1px);height: 1px;margin: -1px;overflow: hidden;padding: 0;position: absolute;width: 1px;}#sk-container-id-3 div.sk-estimator {font-family: monospace;background-color: #f0f8ff;border: 1px dotted black;border-radius: 0.25em;box-sizing: border-box;margin-bottom: 0.5em;}#sk-container-id-3 div.sk-estimator:hover {background-color: #d4ebff;}#sk-container-id-3 div.sk-parallel-item::after {content: \"\";width: 100%;border-bottom: 1px solid gray;flex-grow: 1;}#sk-container-id-3 div.sk-label:hover label.sk-toggleable__label {background-color: #d4ebff;}#sk-container-id-3 div.sk-serial::before {content: \"\";position: absolute;border-left: 1px solid gray;box-sizing: border-box;top: 0;bottom: 0;left: 50%;z-index: 0;}#sk-container-id-3 div.sk-serial {display: flex;flex-direction: column;align-items: center;background-color: white;padding-right: 0.2em;padding-left: 0.2em;position: relative;}#sk-container-id-3 div.sk-item {position: relative;z-index: 1;}#sk-container-id-3 div.sk-parallel {display: flex;align-items: stretch;justify-content: center;background-color: white;position: relative;}#sk-container-id-3 div.sk-item::before, #sk-container-id-3 div.sk-parallel-item::before {content: \"\";position: absolute;border-left: 1px solid gray;box-sizing: border-box;top: 0;bottom: 0;left: 50%;z-index: -1;}#sk-container-id-3 div.sk-parallel-item {display: flex;flex-direction: column;z-index: 1;position: relative;background-color: white;}#sk-container-id-3 div.sk-parallel-item:first-child::after {align-self: flex-end;width: 50%;}#sk-container-id-3 div.sk-parallel-item:last-child::after {align-self: flex-start;width: 50%;}#sk-container-id-3 div.sk-parallel-item:only-child::after {width: 0;}#sk-container-id-3 div.sk-dashed-wrapped {border: 1px dashed gray;margin: 0 0.4em 0.5em 0.4em;box-sizing: border-box;padding-bottom: 0.4em;background-color: white;}#sk-container-id-3 div.sk-label label {font-family: monospace;font-weight: bold;display: inline-block;line-height: 1.2em;}#sk-container-id-3 div.sk-label-container {text-align: center;}#sk-container-id-3 div.sk-container {/* jupyter's `normalize.less` sets `[hidden] { display: none; }` but bootstrap.min.css set `[hidden] { display: none !important; }` so we also need the `!important` here to be able to override the default hidden behavior on the sphinx rendered scikit-learn.org. See: https://github.com/scikit-learn/scikit-learn/issues/21755 */display: inline-block !important;position: relative;}#sk-container-id-3 div.sk-text-repr-fallback {display: none;}</style><div id=\"sk-container-id-3\" class=\"sk-top-container\"><div class=\"sk-text-repr-fallback\"><pre>LogisticRegression()</pre><b>In a Jupyter environment, please rerun this cell to show the HTML representation or trust the notebook. <br />On GitHub, the HTML representation is unable to render, please try loading this page with nbviewer.org.</b></div><div class=\"sk-container\" hidden><div class=\"sk-item\"><div class=\"sk-estimator sk-toggleable\"><input class=\"sk-toggleable__control sk-hidden--visually\" id=\"sk-estimator-id-3\" type=\"checkbox\" checked><label for=\"sk-estimator-id-3\" class=\"sk-toggleable__label sk-toggleable__label-arrow\">LogisticRegression</label><div class=\"sk-toggleable__content\"><pre>LogisticRegression()</pre></div></div></div></div></div>"
      ],
      "text/plain": [
       "LogisticRegression()"
      ]
     },
     "execution_count": 105,
     "metadata": {},
     "output_type": "execute_result"
    }
   ],
   "source": [
    "model.fit(X, y)"
   ]
  },
  {
   "cell_type": "code",
   "execution_count": 106,
   "id": "305ad74b",
   "metadata": {},
   "outputs": [],
   "source": [
    "predictions = model.predict(X)"
   ]
  },
  {
   "cell_type": "code",
   "execution_count": 107,
   "id": "85cc08f9",
   "metadata": {},
   "outputs": [
    {
     "data": {
      "text/plain": [
       "0.7890011223344556"
      ]
     },
     "execution_count": 107,
     "metadata": {},
     "output_type": "execute_result"
    }
   ],
   "source": [
    "accuracy_score(y, predictions)"
   ]
  },
  {
   "cell_type": "markdown",
   "id": "282182c2",
   "metadata": {},
   "source": [
    "accuracy_score равна 79%, мы улучшили результат"
   ]
  },
  {
   "cell_type": "code",
   "execution_count": 108,
   "id": "da675136",
   "metadata": {},
   "outputs": [
    {
     "data": {
      "text/plain": [
       "0.7017543859649122"
      ]
     },
     "execution_count": 108,
     "metadata": {},
     "output_type": "execute_result"
    }
   ],
   "source": [
    "recall_score(y, predictions)"
   ]
  },
  {
   "cell_type": "markdown",
   "id": "c7cbec53",
   "metadata": {},
   "source": [
    "Recall 70% - алгоритм стал хуже срабатывать в случае предсказания выживания"
   ]
  },
  {
   "cell_type": "code",
   "execution_count": 109,
   "id": "96740c22",
   "metadata": {},
   "outputs": [
    {
     "data": {
      "text/plain": [
       "0.7361963190184049"
      ]
     },
     "execution_count": 109,
     "metadata": {},
     "output_type": "execute_result"
    }
   ],
   "source": [
    "precision_score(y, predictions)"
   ]
  },
  {
   "cell_type": "markdown",
   "id": "088e066a",
   "metadata": {},
   "source": [
    "precision_score 74% - незначительно улучшили результат в случае предсказания смерти. но прогнозировать смерть людей в катастрофе важнее, чем их выживание"
   ]
  },
  {
   "cell_type": "markdown",
   "id": "0a521f01",
   "metadata": {},
   "source": [
    "### 11. Сформулируйте выводы по проделанной работе."
   ]
  },
  {
   "cell_type": "markdown",
   "id": "6539e911",
   "metadata": {},
   "source": [
    "###### a) Кратко опишите какие преобразования были сделаны и почему."
   ]
  },
  {
   "cell_type": "markdown",
   "id": "2c6bb9c5",
   "metadata": {},
   "source": [
    "Были удалены признаки, не влияющие на построение модели. Это id, name, ticket и cabin.\n",
    "\n",
    "У оставшихся данных заполнены пропуски: \n",
    "- возраст заполнен средним в зависимости от класса поездки\n",
    "- класс каюты заполнен классом S (таких кают на корабле было больше всего)\n",
    "- цена, которая была равна 0, заполнена медианой в зависимости от класса поездки\n",
    "\n",
    "Категориальные переменные Sex и Embarked переведены в булевый тип, созданы дополнительные столбцы для каждого уникального значения. Использован модуль get_dummies для Embarked и LabelEncoder для Sex.\n",
    "\n",
    "Нормализован столбец Age. Это нужно для выравнивания данных, чтобы не так значителен был числовой разрыв между ним (улучшает качество модели)"
   ]
  },
  {
   "cell_type": "markdown",
   "id": "cf714eb3",
   "metadata": {},
   "source": [
    "###### b) Сравните метрики моделей из п. 2 и п. 10."
   ]
  },
  {
   "cell_type": "markdown",
   "id": "18d9fb83",
   "metadata": {},
   "source": [
    "Во 2 пункте получилось:\n",
    "- accuracy_score равный 72.1%\n",
    "- recall_score равный 94.3%\n",
    "- presicion_score 72.5%\n",
    "\n",
    "После работы с данными, в 10 пункте:\n",
    "- accuracy_score равный 78.9%\n",
    "- recall_score равный 70.1%\n",
    "- precision_score равный 73.6%\n",
    "\n",
    "accuracy_score увеличился на 6.8%, recall_score уменьшился на 24.2%, precision_score увеличился на 1.1%"
   ]
  },
  {
   "cell_type": "markdown",
   "id": "7dce808f",
   "metadata": {},
   "source": [
    "###### c) Напишите свое мнение о целесообразности работы с данными при построении моделей машинного обучения. "
   ]
  },
  {
   "cell_type": "markdown",
   "id": "1dad4064",
   "metadata": {},
   "source": [
    "Без понимания данных, по которым строится модель, с меньшей вероятностью получится создать модель высокого качества.\n",
    "\n",
    "Всегда нужно исследовать данные.\n",
    "\n",
    "При большом количестве пропусков в данных пропуска надо обрабатывать, а не удалять. По разному надо обрабатывать количественные и качественные значения, и надо понимать, что сами пропуски в данных тоже могут быть важным признаком."
   ]
  },
  {
   "cell_type": "markdown",
   "id": "4ce40749",
   "metadata": {},
   "source": [
    "###### *Нужно ли аналогичным образов исследовать и дополнять действительно большие данные?"
   ]
  },
  {
   "cell_type": "markdown",
   "id": "39b7fe53",
   "metadata": {},
   "source": [
    "Да, но чем меньше данные, тем более тщательно надо производить обработку, так как в маленьких данных важны каждая строка. В больших данных многими пропусками можно пренебречь и удалить строки целиком. Но даже в больших данных надо смотреть на признак, и что он значит (как минимум, в некоторых случаях само наличие пропуска может говорить о чем-то важном)"
   ]
  }
 ],
 "metadata": {
  "kernelspec": {
   "display_name": "Python 3 (ipykernel)",
   "language": "python",
   "name": "python3"
  },
  "language_info": {
   "codemirror_mode": {
    "name": "ipython",
    "version": 3
   },
   "file_extension": ".py",
   "mimetype": "text/x-python",
   "name": "python",
   "nbconvert_exporter": "python",
   "pygments_lexer": "ipython3",
   "version": "3.11.5"
  }
 },
 "nbformat": 4,
 "nbformat_minor": 5
}
